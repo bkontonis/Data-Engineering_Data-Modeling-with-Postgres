{
 "cells": [
  {
   "cell_type": "markdown",
   "metadata": {
    "editable": true
   },
   "source": [
    "# ETL Processes\n",
    "Use this notebook to develop the ETL process for each of your tables before completing the `etl.py` file to load the whole datasets."
   ]
  },
  {
   "cell_type": "code",
   "execution_count": 1,
   "metadata": {
    "editable": true
   },
   "outputs": [],
   "source": [
    "import os\n",
    "import glob\n",
    "import psycopg2\n",
    "import pandas as pd\n",
    "import datetime\n",
    "from sql_queries import *"
   ]
  },
  {
   "cell_type": "code",
   "execution_count": 2,
   "metadata": {
    "editable": true
   },
   "outputs": [],
   "source": [
    "# run the \"create_tables.py\" script in order to create the sparkifydb database an all the necessary tables\n",
    "! python3 create_tables.py"
   ]
  },
  {
   "cell_type": "code",
   "execution_count": 3,
   "metadata": {
    "editable": true
   },
   "outputs": [],
   "source": [
    "conn = psycopg2.connect(\"host=127.0.0.1 dbname=sparkifydb user=student password=student\")\n",
    "cur = conn.cursor()"
   ]
  },
  {
   "cell_type": "code",
   "execution_count": 4,
   "metadata": {
    "editable": true
   },
   "outputs": [],
   "source": [
    "def get_files(filepath):\n",
    "    all_files = []\n",
    "    for root, dirs, files in os.walk(filepath):\n",
    "        files = glob.glob(os.path.join(root,'*.json'))\n",
    "        for f in files :\n",
    "            all_files.append(os.path.abspath(f))\n",
    "    \n",
    "    return all_files"
   ]
  },
  {
   "cell_type": "markdown",
   "metadata": {
    "editable": true
   },
   "source": [
    "# Process `song_data`\n",
    "In this first part, you'll perform ETL on the first dataset, `song_data`, to create the `songs` and `artists` dimensional tables.\n",
    "\n",
    "Let's perform ETL on a single song file and load a single record into each table to start.\n",
    "- Use the `get_files` function provided above to get a list of all song JSON files in `data/song_data`\n",
    "- Select the first song in this list\n",
    "- Read the song file and view the data"
   ]
  },
  {
   "cell_type": "code",
   "execution_count": 5,
   "metadata": {
    "editable": true
   },
   "outputs": [],
   "source": [
    "song_files = get_files('./data/song_data/')"
   ]
  },
  {
   "cell_type": "code",
   "execution_count": 6,
   "metadata": {
    "editable": true
   },
   "outputs": [
    {
     "data": {
      "text/plain": [
       "['/home/workspace/data/song_data/A/B/C/TRABCRU128F423F449.json',\n",
       " '/home/workspace/data/song_data/A/B/C/TRABCTK128F934B224.json',\n",
       " '/home/workspace/data/song_data/A/B/C/TRABCUQ128E0783E2B.json',\n",
       " '/home/workspace/data/song_data/A/B/C/TRABCIX128F4265903.json',\n",
       " '/home/workspace/data/song_data/A/B/C/TRABCYE128F934CE1D.json',\n",
       " '/home/workspace/data/song_data/A/B/C/TRABCEC128F426456E.json',\n",
       " '/home/workspace/data/song_data/A/B/C/TRABCXB128F4286BD3.json',\n",
       " '/home/workspace/data/song_data/A/B/C/TRABCAJ12903CDFCC2.json',\n",
       " '/home/workspace/data/song_data/A/B/C/TRABCPZ128F4275C32.json',\n",
       " '/home/workspace/data/song_data/A/B/C/TRABCKL128F423A778.json',\n",
       " '/home/workspace/data/song_data/A/B/C/TRABCEI128F424C983.json',\n",
       " '/home/workspace/data/song_data/A/B/C/TRABCFL128F149BB0D.json',\n",
       " '/home/workspace/data/song_data/A/B/B/TRABBBV128F42967D7.json',\n",
       " '/home/workspace/data/song_data/A/B/B/TRABBLU128F93349CF.json',\n",
       " '/home/workspace/data/song_data/A/B/B/TRABBXU128F92FEF48.json',\n",
       " '/home/workspace/data/song_data/A/B/B/TRABBAM128F429D223.json',\n",
       " '/home/workspace/data/song_data/A/B/B/TRABBJE12903CDB442.json',\n",
       " '/home/workspace/data/song_data/A/B/B/TRABBNP128F932546F.json',\n",
       " '/home/workspace/data/song_data/A/B/B/TRABBOP128F931B50D.json',\n",
       " '/home/workspace/data/song_data/A/B/B/TRABBZN12903CD9297.json',\n",
       " '/home/workspace/data/song_data/A/B/B/TRABBOR128F4286200.json',\n",
       " '/home/workspace/data/song_data/A/B/B/TRABBTA128F933D304.json',\n",
       " '/home/workspace/data/song_data/A/B/B/TRABBKX128F4285205.json',\n",
       " '/home/workspace/data/song_data/A/B/B/TRABBVJ128F92F7EAA.json',\n",
       " '/home/workspace/data/song_data/A/B/A/TRABACN128F425B784.json',\n",
       " '/home/workspace/data/song_data/A/B/A/TRABAWW128F4250A31.json',\n",
       " '/home/workspace/data/song_data/A/B/A/TRABATO128F42627E9.json',\n",
       " '/home/workspace/data/song_data/A/B/A/TRABAXL128F424FC50.json',\n",
       " '/home/workspace/data/song_data/A/B/A/TRABAFJ128F42AF24E.json',\n",
       " '/home/workspace/data/song_data/A/B/A/TRABAXR128F426515F.json',\n",
       " '/home/workspace/data/song_data/A/B/A/TRABAXV128F92F6AE3.json',\n",
       " '/home/workspace/data/song_data/A/B/A/TRABAZH128F930419A.json',\n",
       " '/home/workspace/data/song_data/A/B/A/TRABAFP128F931E9A1.json',\n",
       " '/home/workspace/data/song_data/A/B/A/TRABAIO128F42938F9.json',\n",
       " '/home/workspace/data/song_data/A/B/A/TRABAVQ12903CBF7E0.json',\n",
       " '/home/workspace/data/song_data/A/A/C/TRAACFV128F935E50B.json',\n",
       " '/home/workspace/data/song_data/A/A/C/TRAACLV128F427E123.json',\n",
       " '/home/workspace/data/song_data/A/A/C/TRAACVS128E078BE39.json',\n",
       " '/home/workspace/data/song_data/A/A/C/TRAACHN128F1489601.json',\n",
       " '/home/workspace/data/song_data/A/A/C/TRAACSL128F93462F4.json',\n",
       " '/home/workspace/data/song_data/A/A/C/TRAACTB12903CAAF15.json',\n",
       " '/home/workspace/data/song_data/A/A/C/TRAACOW128F933E35F.json',\n",
       " '/home/workspace/data/song_data/A/A/C/TRAACPE128F421C1B9.json',\n",
       " '/home/workspace/data/song_data/A/A/C/TRAACZK128F4243829.json',\n",
       " '/home/workspace/data/song_data/A/A/C/TRAACQT128F9331780.json',\n",
       " '/home/workspace/data/song_data/A/A/C/TRAACNS128F14A2DF5.json',\n",
       " '/home/workspace/data/song_data/A/A/C/TRAACIW12903CC0F6D.json',\n",
       " '/home/workspace/data/song_data/A/A/C/TRAACCG128F92E8A55.json',\n",
       " '/home/workspace/data/song_data/A/A/C/TRAACER128F4290F96.json',\n",
       " '/home/workspace/data/song_data/A/A/B/TRAABNV128F425CEE1.json',\n",
       " '/home/workspace/data/song_data/A/A/B/TRAABJV128F1460C49.json',\n",
       " '/home/workspace/data/song_data/A/A/B/TRAABVM128F92CA9DC.json',\n",
       " '/home/workspace/data/song_data/A/A/B/TRAABLR128F423B7E3.json',\n",
       " '/home/workspace/data/song_data/A/A/B/TRAABCL128F4286650.json',\n",
       " '/home/workspace/data/song_data/A/A/B/TRAABDL12903CAABBA.json',\n",
       " '/home/workspace/data/song_data/A/A/B/TRAABXG128F9318EBD.json',\n",
       " '/home/workspace/data/song_data/A/A/B/TRAABYN12903CFD305.json',\n",
       " '/home/workspace/data/song_data/A/A/B/TRAABRB128F9306DD5.json',\n",
       " '/home/workspace/data/song_data/A/A/B/TRAABJL12903CDCF1A.json',\n",
       " '/home/workspace/data/song_data/A/A/B/TRAABYW128F4244559.json',\n",
       " '/home/workspace/data/song_data/A/A/A/TRAAADZ128F9348C2E.json',\n",
       " '/home/workspace/data/song_data/A/A/A/TRAAARJ128F9320760.json',\n",
       " '/home/workspace/data/song_data/A/A/A/TRAAAPK128E0786D96.json',\n",
       " '/home/workspace/data/song_data/A/A/A/TRAAAVG12903CFA543.json',\n",
       " '/home/workspace/data/song_data/A/A/A/TRAAAFD128F92F423A.json',\n",
       " '/home/workspace/data/song_data/A/A/A/TRAAAVO128F93133D4.json',\n",
       " '/home/workspace/data/song_data/A/A/A/TRAAAAW128F429D538.json',\n",
       " '/home/workspace/data/song_data/A/A/A/TRAAAEF128F4273421.json',\n",
       " '/home/workspace/data/song_data/A/A/A/TRAAAMQ128F1460CD3.json',\n",
       " '/home/workspace/data/song_data/A/A/A/TRAAAMO128F1481E7F.json',\n",
       " '/home/workspace/data/song_data/A/A/A/TRAAABD128F429CF47.json']"
      ]
     },
     "execution_count": 6,
     "metadata": {},
     "output_type": "execute_result"
    }
   ],
   "source": [
    "song_files"
   ]
  },
  {
   "cell_type": "code",
   "execution_count": 7,
   "metadata": {
    "editable": true
   },
   "outputs": [],
   "source": [
    "filepath = song_files[0]"
   ]
  },
  {
   "cell_type": "code",
   "execution_count": 8,
   "metadata": {
    "editable": true
   },
   "outputs": [
    {
     "data": {
      "text/html": [
       "<div>\n",
       "<style scoped>\n",
       "    .dataframe tbody tr th:only-of-type {\n",
       "        vertical-align: middle;\n",
       "    }\n",
       "\n",
       "    .dataframe tbody tr th {\n",
       "        vertical-align: top;\n",
       "    }\n",
       "\n",
       "    .dataframe thead th {\n",
       "        text-align: right;\n",
       "    }\n",
       "</style>\n",
       "<table border=\"1\" class=\"dataframe\">\n",
       "  <thead>\n",
       "    <tr style=\"text-align: right;\">\n",
       "      <th></th>\n",
       "      <th>artist_id</th>\n",
       "      <th>artist_latitude</th>\n",
       "      <th>artist_location</th>\n",
       "      <th>artist_longitude</th>\n",
       "      <th>artist_name</th>\n",
       "      <th>duration</th>\n",
       "      <th>num_songs</th>\n",
       "      <th>song_id</th>\n",
       "      <th>title</th>\n",
       "      <th>year</th>\n",
       "    </tr>\n",
       "  </thead>\n",
       "  <tbody>\n",
       "    <tr>\n",
       "      <th>0</th>\n",
       "      <td>AR8IEZO1187B99055E</td>\n",
       "      <td>NaN</td>\n",
       "      <td></td>\n",
       "      <td>NaN</td>\n",
       "      <td>Marc Shaiman</td>\n",
       "      <td>149.86404</td>\n",
       "      <td>1</td>\n",
       "      <td>SOINLJW12A8C13314C</td>\n",
       "      <td>City Slickers</td>\n",
       "      <td>2008</td>\n",
       "    </tr>\n",
       "  </tbody>\n",
       "</table>\n",
       "</div>"
      ],
      "text/plain": [
       "            artist_id  artist_latitude artist_location  artist_longitude  \\\n",
       "0  AR8IEZO1187B99055E              NaN                               NaN   \n",
       "\n",
       "    artist_name   duration  num_songs             song_id          title  year  \n",
       "0  Marc Shaiman  149.86404          1  SOINLJW12A8C13314C  City Slickers  2008  "
      ]
     },
     "execution_count": 8,
     "metadata": {},
     "output_type": "execute_result"
    }
   ],
   "source": [
    "df = pd.read_json(filepath, lines=True)\n",
    "df.head()"
   ]
  },
  {
   "cell_type": "markdown",
   "metadata": {
    "editable": true
   },
   "source": [
    "## #1: `songs` Table\n",
    "#### Extract Data for Songs Table\n",
    "- Select columns for song ID, title, artist ID, year, and duration\n",
    "- Use `df.values` to select just the values from the dataframe\n",
    "- Index to select the first (only) record in the dataframe\n",
    "- Convert the array to a list and set it to `song_data`"
   ]
  },
  {
   "cell_type": "code",
   "execution_count": 9,
   "metadata": {
    "editable": true
   },
   "outputs": [
    {
     "data": {
      "text/plain": [
       "['SOINLJW12A8C13314C', 'City Slickers', 'AR8IEZO1187B99055E', 2008, 149.86404]"
      ]
     },
     "execution_count": 9,
     "metadata": {},
     "output_type": "execute_result"
    }
   ],
   "source": [
    "song_data = df[['song_id', 'title', 'artist_id', 'year', 'duration']].values[0].tolist()\n",
    "song_data"
   ]
  },
  {
   "cell_type": "markdown",
   "metadata": {
    "editable": true
   },
   "source": [
    "#### Insert Record into Song Table\n",
    "Implement the `song_table_insert` query in `sql_queries.py` and run the cell below to insert a record for this song into the `songs` table. Remember to run `create_tables.py` before running the cell below to ensure you've created/resetted the `songs` table in the sparkify database."
   ]
  },
  {
   "cell_type": "code",
   "execution_count": 10,
   "metadata": {
    "editable": true
   },
   "outputs": [
    {
     "name": "stdout",
     "output_type": "stream",
     "text": [
      "(0,)\n"
     ]
    }
   ],
   "source": [
    "# Test if songs table exists and if it is empty as it should\n",
    "cur.execute(\"select count(*) from songs;\")\n",
    "row = cur.fetchone()\n",
    "while row:\n",
    "    print(row)\n",
    "    row = cur.fetchone()"
   ]
  },
  {
   "cell_type": "code",
   "execution_count": 11,
   "metadata": {
    "editable": true
   },
   "outputs": [],
   "source": [
    "cur.execute(song_table_insert, song_data)\n",
    "conn.commit()"
   ]
  },
  {
   "cell_type": "code",
   "execution_count": 12,
   "metadata": {
    "editable": true
   },
   "outputs": [
    {
     "name": "stdout",
     "output_type": "stream",
     "text": [
      "('SOINLJW12A8C13314C', 'City Slickers', 'AR8IEZO1187B99055E', 2008, 149.86404)\n"
     ]
    }
   ],
   "source": [
    "# Check if the insert statement worked as expected\n",
    "cur.execute(\"select * from songs;\")\n",
    "row = cur.fetchone()\n",
    "while row:\n",
    "    print(row)\n",
    "    row = cur.fetchone()"
   ]
  },
  {
   "cell_type": "markdown",
   "metadata": {
    "editable": true
   },
   "source": [
    "Run `test.ipynb` to see if you've successfully added a record to this table."
   ]
  },
  {
   "cell_type": "markdown",
   "metadata": {
    "editable": true
   },
   "source": [
    "## #2: `artists` Table\n",
    "#### Extract Data for Artists Table\n",
    "- Select columns for artist ID, name, location, latitude, and longitude\n",
    "- Use `df.values` to select just the values from the dataframe\n",
    "- Index to select the first (only) record in the dataframe\n",
    "- Convert the array to a list and set it to `artist_data`"
   ]
  },
  {
   "cell_type": "code",
   "execution_count": 13,
   "metadata": {
    "editable": true
   },
   "outputs": [
    {
     "data": {
      "text/plain": [
       "['AR8IEZO1187B99055E', 'Marc Shaiman', '', nan, nan]"
      ]
     },
     "execution_count": 13,
     "metadata": {},
     "output_type": "execute_result"
    }
   ],
   "source": [
    "df[['artist_id', 'artist_name',  'artist_location',  'artist_latitude',  'artist_longitude']].values[0].tolist()"
   ]
  },
  {
   "cell_type": "code",
   "execution_count": 14,
   "metadata": {
    "editable": true
   },
   "outputs": [
    {
     "data": {
      "text/plain": [
       "['AR8IEZO1187B99055E', 'Marc Shaiman', '', nan, nan]"
      ]
     },
     "execution_count": 14,
     "metadata": {},
     "output_type": "execute_result"
    }
   ],
   "source": [
    "artist_data = df[['artist_id', 'artist_name',  'artist_location',  'artist_latitude',  'artist_longitude']].values[0].tolist()\n",
    "artist_data"
   ]
  },
  {
   "cell_type": "markdown",
   "metadata": {
    "editable": true
   },
   "source": [
    "#### Insert Record into Artist Table\n",
    "Implement the `artist_table_insert` query in `sql_queries.py` and run the cell below to insert a record for this song's artist into the `artists` table. Remember to run `create_tables.py` before running the cell below to ensure you've created/resetted the `artists` table in the sparkify database."
   ]
  },
  {
   "cell_type": "code",
   "execution_count": 15,
   "metadata": {
    "editable": true
   },
   "outputs": [],
   "source": [
    "cur.execute(artist_table_insert, artist_data)\n",
    "conn.commit()"
   ]
  },
  {
   "cell_type": "markdown",
   "metadata": {
    "editable": true
   },
   "source": [
    "Run `test.ipynb` to see if you've successfully added a record to this table."
   ]
  },
  {
   "cell_type": "code",
   "execution_count": 16,
   "metadata": {
    "editable": true
   },
   "outputs": [
    {
     "name": "stdout",
     "output_type": "stream",
     "text": [
      "('AR8IEZO1187B99055E', 'Marc Shaiman', '', nan, nan)\n"
     ]
    }
   ],
   "source": [
    "cur.execute(\"select * from artists;\")\n",
    "row = cur.fetchone()\n",
    "while row:\n",
    "    print(row)\n",
    "    row = cur.fetchone()"
   ]
  },
  {
   "cell_type": "markdown",
   "metadata": {
    "editable": true
   },
   "source": [
    "# Process `log_data`\n",
    "In this part, you'll perform ETL on the second dataset, `log_data`, to create the `time` and `users` dimensional tables, as well as the `songplays` fact table.\n",
    "\n",
    "Let's perform ETL on a single log file and load a single record into each table.\n",
    "- Use the `get_files` function provided above to get a list of all log JSON files in `data/log_data`\n",
    "- Select the first log file in this list\n",
    "- Read the log file and view the data"
   ]
  },
  {
   "cell_type": "code",
   "execution_count": 17,
   "metadata": {
    "editable": true
   },
   "outputs": [],
   "source": [
    "log_files = get_files('./data/log_data/')"
   ]
  },
  {
   "cell_type": "code",
   "execution_count": 18,
   "metadata": {
    "editable": true
   },
   "outputs": [
    {
     "data": {
      "text/plain": [
       "['/home/workspace/data/log_data/2018/11/2018-11-29-events.json',\n",
       " '/home/workspace/data/log_data/2018/11/2018-11-27-events.json',\n",
       " '/home/workspace/data/log_data/2018/11/2018-11-11-events.json',\n",
       " '/home/workspace/data/log_data/2018/11/2018-11-18-events.json',\n",
       " '/home/workspace/data/log_data/2018/11/2018-11-08-events.json',\n",
       " '/home/workspace/data/log_data/2018/11/2018-11-30-events.json',\n",
       " '/home/workspace/data/log_data/2018/11/2018-11-17-events.json',\n",
       " '/home/workspace/data/log_data/2018/11/2018-11-20-events.json',\n",
       " '/home/workspace/data/log_data/2018/11/2018-11-28-events.json',\n",
       " '/home/workspace/data/log_data/2018/11/2018-11-06-events.json',\n",
       " '/home/workspace/data/log_data/2018/11/2018-11-23-events.json',\n",
       " '/home/workspace/data/log_data/2018/11/2018-11-13-events.json',\n",
       " '/home/workspace/data/log_data/2018/11/2018-11-21-events.json',\n",
       " '/home/workspace/data/log_data/2018/11/2018-11-16-events.json',\n",
       " '/home/workspace/data/log_data/2018/11/2018-11-04-events.json',\n",
       " '/home/workspace/data/log_data/2018/11/2018-11-05-events.json',\n",
       " '/home/workspace/data/log_data/2018/11/2018-11-15-events.json',\n",
       " '/home/workspace/data/log_data/2018/11/2018-11-12-events.json',\n",
       " '/home/workspace/data/log_data/2018/11/2018-11-07-events.json',\n",
       " '/home/workspace/data/log_data/2018/11/2018-11-01-events.json',\n",
       " '/home/workspace/data/log_data/2018/11/2018-11-22-events.json',\n",
       " '/home/workspace/data/log_data/2018/11/2018-11-25-events.json',\n",
       " '/home/workspace/data/log_data/2018/11/2018-11-10-events.json',\n",
       " '/home/workspace/data/log_data/2018/11/2018-11-14-events.json',\n",
       " '/home/workspace/data/log_data/2018/11/2018-11-02-events.json',\n",
       " '/home/workspace/data/log_data/2018/11/2018-11-24-events.json',\n",
       " '/home/workspace/data/log_data/2018/11/2018-11-26-events.json',\n",
       " '/home/workspace/data/log_data/2018/11/2018-11-03-events.json',\n",
       " '/home/workspace/data/log_data/2018/11/2018-11-09-events.json',\n",
       " '/home/workspace/data/log_data/2018/11/2018-11-19-events.json']"
      ]
     },
     "execution_count": 18,
     "metadata": {},
     "output_type": "execute_result"
    }
   ],
   "source": [
    "log_files"
   ]
  },
  {
   "cell_type": "code",
   "execution_count": 19,
   "metadata": {
    "editable": true
   },
   "outputs": [],
   "source": [
    "filepath = log_files[0]"
   ]
  },
  {
   "cell_type": "code",
   "execution_count": 20,
   "metadata": {
    "editable": true
   },
   "outputs": [
    {
     "data": {
      "text/html": [
       "<div>\n",
       "<style scoped>\n",
       "    .dataframe tbody tr th:only-of-type {\n",
       "        vertical-align: middle;\n",
       "    }\n",
       "\n",
       "    .dataframe tbody tr th {\n",
       "        vertical-align: top;\n",
       "    }\n",
       "\n",
       "    .dataframe thead th {\n",
       "        text-align: right;\n",
       "    }\n",
       "</style>\n",
       "<table border=\"1\" class=\"dataframe\">\n",
       "  <thead>\n",
       "    <tr style=\"text-align: right;\">\n",
       "      <th></th>\n",
       "      <th>artist</th>\n",
       "      <th>auth</th>\n",
       "      <th>firstName</th>\n",
       "      <th>gender</th>\n",
       "      <th>itemInSession</th>\n",
       "      <th>lastName</th>\n",
       "      <th>length</th>\n",
       "      <th>level</th>\n",
       "      <th>location</th>\n",
       "      <th>method</th>\n",
       "      <th>page</th>\n",
       "      <th>registration</th>\n",
       "      <th>sessionId</th>\n",
       "      <th>song</th>\n",
       "      <th>status</th>\n",
       "      <th>ts</th>\n",
       "      <th>userAgent</th>\n",
       "      <th>userId</th>\n",
       "    </tr>\n",
       "  </thead>\n",
       "  <tbody>\n",
       "    <tr>\n",
       "      <th>0</th>\n",
       "      <td>Sydney Youngblood</td>\n",
       "      <td>Logged In</td>\n",
       "      <td>Jacob</td>\n",
       "      <td>M</td>\n",
       "      <td>53</td>\n",
       "      <td>Klein</td>\n",
       "      <td>238.07955</td>\n",
       "      <td>paid</td>\n",
       "      <td>Tampa-St. Petersburg-Clearwater, FL</td>\n",
       "      <td>PUT</td>\n",
       "      <td>NextSong</td>\n",
       "      <td>1.540558e+12</td>\n",
       "      <td>954</td>\n",
       "      <td>Ain't No Sunshine</td>\n",
       "      <td>200</td>\n",
       "      <td>1543449657796</td>\n",
       "      <td>\"Mozilla/5.0 (Macintosh; Intel Mac OS X 10_9_4...</td>\n",
       "      <td>73</td>\n",
       "    </tr>\n",
       "    <tr>\n",
       "      <th>1</th>\n",
       "      <td>Gang Starr</td>\n",
       "      <td>Logged In</td>\n",
       "      <td>Layla</td>\n",
       "      <td>F</td>\n",
       "      <td>88</td>\n",
       "      <td>Griffin</td>\n",
       "      <td>151.92771</td>\n",
       "      <td>paid</td>\n",
       "      <td>Lake Havasu City-Kingman, AZ</td>\n",
       "      <td>PUT</td>\n",
       "      <td>NextSong</td>\n",
       "      <td>1.541057e+12</td>\n",
       "      <td>984</td>\n",
       "      <td>My Advice 2 You (Explicit)</td>\n",
       "      <td>200</td>\n",
       "      <td>1543449690796</td>\n",
       "      <td>\"Mozilla/5.0 (Windows NT 6.1; WOW64) AppleWebK...</td>\n",
       "      <td>24</td>\n",
       "    </tr>\n",
       "    <tr>\n",
       "      <th>2</th>\n",
       "      <td>3OH!3</td>\n",
       "      <td>Logged In</td>\n",
       "      <td>Layla</td>\n",
       "      <td>F</td>\n",
       "      <td>89</td>\n",
       "      <td>Griffin</td>\n",
       "      <td>192.52200</td>\n",
       "      <td>paid</td>\n",
       "      <td>Lake Havasu City-Kingman, AZ</td>\n",
       "      <td>PUT</td>\n",
       "      <td>NextSong</td>\n",
       "      <td>1.541057e+12</td>\n",
       "      <td>984</td>\n",
       "      <td>My First Kiss (Feat. Ke$ha) [Album Version]</td>\n",
       "      <td>200</td>\n",
       "      <td>1543449841796</td>\n",
       "      <td>\"Mozilla/5.0 (Windows NT 6.1; WOW64) AppleWebK...</td>\n",
       "      <td>24</td>\n",
       "    </tr>\n",
       "    <tr>\n",
       "      <th>3</th>\n",
       "      <td>RÃÂ¶yksopp</td>\n",
       "      <td>Logged In</td>\n",
       "      <td>Jacob</td>\n",
       "      <td>M</td>\n",
       "      <td>54</td>\n",
       "      <td>Klein</td>\n",
       "      <td>369.81506</td>\n",
       "      <td>paid</td>\n",
       "      <td>Tampa-St. Petersburg-Clearwater, FL</td>\n",
       "      <td>PUT</td>\n",
       "      <td>NextSong</td>\n",
       "      <td>1.540558e+12</td>\n",
       "      <td>954</td>\n",
       "      <td>The Girl and The Robot</td>\n",
       "      <td>200</td>\n",
       "      <td>1543449895796</td>\n",
       "      <td>\"Mozilla/5.0 (Macintosh; Intel Mac OS X 10_9_4...</td>\n",
       "      <td>73</td>\n",
       "    </tr>\n",
       "    <tr>\n",
       "      <th>4</th>\n",
       "      <td>Kajagoogoo</td>\n",
       "      <td>Logged In</td>\n",
       "      <td>Layla</td>\n",
       "      <td>F</td>\n",
       "      <td>90</td>\n",
       "      <td>Griffin</td>\n",
       "      <td>223.55546</td>\n",
       "      <td>paid</td>\n",
       "      <td>Lake Havasu City-Kingman, AZ</td>\n",
       "      <td>PUT</td>\n",
       "      <td>NextSong</td>\n",
       "      <td>1.541057e+12</td>\n",
       "      <td>984</td>\n",
       "      <td>Too Shy</td>\n",
       "      <td>200</td>\n",
       "      <td>1543450033796</td>\n",
       "      <td>\"Mozilla/5.0 (Windows NT 6.1; WOW64) AppleWebK...</td>\n",
       "      <td>24</td>\n",
       "    </tr>\n",
       "  </tbody>\n",
       "</table>\n",
       "</div>"
      ],
      "text/plain": [
       "              artist       auth firstName gender  itemInSession lastName  \\\n",
       "0  Sydney Youngblood  Logged In     Jacob      M             53    Klein   \n",
       "1         Gang Starr  Logged In     Layla      F             88  Griffin   \n",
       "2              3OH!3  Logged In     Layla      F             89  Griffin   \n",
       "3        RÃÂ¶yksopp  Logged In     Jacob      M             54    Klein   \n",
       "4         Kajagoogoo  Logged In     Layla      F             90  Griffin   \n",
       "\n",
       "      length level                             location method      page  \\\n",
       "0  238.07955  paid  Tampa-St. Petersburg-Clearwater, FL    PUT  NextSong   \n",
       "1  151.92771  paid         Lake Havasu City-Kingman, AZ    PUT  NextSong   \n",
       "2  192.52200  paid         Lake Havasu City-Kingman, AZ    PUT  NextSong   \n",
       "3  369.81506  paid  Tampa-St. Petersburg-Clearwater, FL    PUT  NextSong   \n",
       "4  223.55546  paid         Lake Havasu City-Kingman, AZ    PUT  NextSong   \n",
       "\n",
       "   registration  sessionId                                         song  \\\n",
       "0  1.540558e+12        954                            Ain't No Sunshine   \n",
       "1  1.541057e+12        984                   My Advice 2 You (Explicit)   \n",
       "2  1.541057e+12        984  My First Kiss (Feat. Ke$ha) [Album Version]   \n",
       "3  1.540558e+12        954                       The Girl and The Robot   \n",
       "4  1.541057e+12        984                                      Too Shy   \n",
       "\n",
       "   status             ts                                          userAgent  \\\n",
       "0     200  1543449657796  \"Mozilla/5.0 (Macintosh; Intel Mac OS X 10_9_4...   \n",
       "1     200  1543449690796  \"Mozilla/5.0 (Windows NT 6.1; WOW64) AppleWebK...   \n",
       "2     200  1543449841796  \"Mozilla/5.0 (Windows NT 6.1; WOW64) AppleWebK...   \n",
       "3     200  1543449895796  \"Mozilla/5.0 (Macintosh; Intel Mac OS X 10_9_4...   \n",
       "4     200  1543450033796  \"Mozilla/5.0 (Windows NT 6.1; WOW64) AppleWebK...   \n",
       "\n",
       "  userId  \n",
       "0     73  \n",
       "1     24  \n",
       "2     24  \n",
       "3     73  \n",
       "4     24  "
      ]
     },
     "execution_count": 20,
     "metadata": {},
     "output_type": "execute_result"
    }
   ],
   "source": [
    "df = pd.read_json(filepath, lines=True)\n",
    "df.head()"
   ]
  },
  {
   "cell_type": "code",
   "execution_count": 21,
   "metadata": {
    "editable": true
   },
   "outputs": [
    {
     "data": {
      "text/plain": [
       "(366, 18)"
      ]
     },
     "execution_count": 21,
     "metadata": {},
     "output_type": "execute_result"
    }
   ],
   "source": [
    "df.shape"
   ]
  },
  {
   "cell_type": "markdown",
   "metadata": {
    "editable": true
   },
   "source": [
    "## #3: `time` Table\n",
    "#### Extract Data for Time Table\n",
    "- Filter records by `NextSong` action\n",
    "- Convert the `ts` timestamp column to datetime\n",
    "  - Hint: the current timestamp is in milliseconds\n",
    "- Extract the timestamp, hour, day, week of year, month, year, and weekday from the `ts` column and set `time_data` to a list containing these values in order\n",
    "  - Hint: use pandas' [`dt` attribute](https://pandas.pydata.org/pandas-docs/stable/reference/api/pandas.Series.dt.html) to access easily datetimelike properties.\n",
    "- Specify labels for these columns and set to `column_labels`\n",
    "- Create a dataframe, `time_df,` containing the time data for this file by combining `column_labels` and `time_data` into a dictionary and converting this into a dataframe"
   ]
  },
  {
   "cell_type": "code",
   "execution_count": 22,
   "metadata": {
    "editable": true
   },
   "outputs": [
    {
     "data": {
      "text/plain": [
       "Index(['artist', 'auth', 'firstName', 'gender', 'itemInSession', 'lastName',\n",
       "       'length', 'level', 'location', 'method', 'page', 'registration',\n",
       "       'sessionId', 'song', 'status', 'ts', 'userAgent', 'userId'],\n",
       "      dtype='object')"
      ]
     },
     "execution_count": 22,
     "metadata": {},
     "output_type": "execute_result"
    }
   ],
   "source": [
    "df.columns"
   ]
  },
  {
   "cell_type": "code",
   "execution_count": 23,
   "metadata": {
    "editable": true
   },
   "outputs": [
    {
     "data": {
      "text/html": [
       "<div>\n",
       "<style scoped>\n",
       "    .dataframe tbody tr th:only-of-type {\n",
       "        vertical-align: middle;\n",
       "    }\n",
       "\n",
       "    .dataframe tbody tr th {\n",
       "        vertical-align: top;\n",
       "    }\n",
       "\n",
       "    .dataframe thead th {\n",
       "        text-align: right;\n",
       "    }\n",
       "</style>\n",
       "<table border=\"1\" class=\"dataframe\">\n",
       "  <thead>\n",
       "    <tr style=\"text-align: right;\">\n",
       "      <th></th>\n",
       "      <th>index</th>\n",
       "      <th>artist</th>\n",
       "      <th>auth</th>\n",
       "      <th>firstName</th>\n",
       "      <th>gender</th>\n",
       "      <th>itemInSession</th>\n",
       "      <th>lastName</th>\n",
       "      <th>length</th>\n",
       "      <th>level</th>\n",
       "      <th>location</th>\n",
       "      <th>method</th>\n",
       "      <th>page</th>\n",
       "      <th>registration</th>\n",
       "      <th>sessionId</th>\n",
       "      <th>song</th>\n",
       "      <th>status</th>\n",
       "      <th>ts</th>\n",
       "      <th>userAgent</th>\n",
       "      <th>userId</th>\n",
       "    </tr>\n",
       "  </thead>\n",
       "  <tbody>\n",
       "    <tr>\n",
       "      <th>0</th>\n",
       "      <td>0</td>\n",
       "      <td>Sydney Youngblood</td>\n",
       "      <td>Logged In</td>\n",
       "      <td>Jacob</td>\n",
       "      <td>M</td>\n",
       "      <td>53</td>\n",
       "      <td>Klein</td>\n",
       "      <td>238.07955</td>\n",
       "      <td>paid</td>\n",
       "      <td>Tampa-St. Petersburg-Clearwater, FL</td>\n",
       "      <td>PUT</td>\n",
       "      <td>NextSong</td>\n",
       "      <td>1.540558e+12</td>\n",
       "      <td>954</td>\n",
       "      <td>Ain't No Sunshine</td>\n",
       "      <td>200</td>\n",
       "      <td>1543449657796</td>\n",
       "      <td>\"Mozilla/5.0 (Macintosh; Intel Mac OS X 10_9_4...</td>\n",
       "      <td>73</td>\n",
       "    </tr>\n",
       "    <tr>\n",
       "      <th>1</th>\n",
       "      <td>1</td>\n",
       "      <td>Gang Starr</td>\n",
       "      <td>Logged In</td>\n",
       "      <td>Layla</td>\n",
       "      <td>F</td>\n",
       "      <td>88</td>\n",
       "      <td>Griffin</td>\n",
       "      <td>151.92771</td>\n",
       "      <td>paid</td>\n",
       "      <td>Lake Havasu City-Kingman, AZ</td>\n",
       "      <td>PUT</td>\n",
       "      <td>NextSong</td>\n",
       "      <td>1.541057e+12</td>\n",
       "      <td>984</td>\n",
       "      <td>My Advice 2 You (Explicit)</td>\n",
       "      <td>200</td>\n",
       "      <td>1543449690796</td>\n",
       "      <td>\"Mozilla/5.0 (Windows NT 6.1; WOW64) AppleWebK...</td>\n",
       "      <td>24</td>\n",
       "    </tr>\n",
       "    <tr>\n",
       "      <th>2</th>\n",
       "      <td>2</td>\n",
       "      <td>3OH!3</td>\n",
       "      <td>Logged In</td>\n",
       "      <td>Layla</td>\n",
       "      <td>F</td>\n",
       "      <td>89</td>\n",
       "      <td>Griffin</td>\n",
       "      <td>192.52200</td>\n",
       "      <td>paid</td>\n",
       "      <td>Lake Havasu City-Kingman, AZ</td>\n",
       "      <td>PUT</td>\n",
       "      <td>NextSong</td>\n",
       "      <td>1.541057e+12</td>\n",
       "      <td>984</td>\n",
       "      <td>My First Kiss (Feat. Ke$ha) [Album Version]</td>\n",
       "      <td>200</td>\n",
       "      <td>1543449841796</td>\n",
       "      <td>\"Mozilla/5.0 (Windows NT 6.1; WOW64) AppleWebK...</td>\n",
       "      <td>24</td>\n",
       "    </tr>\n",
       "    <tr>\n",
       "      <th>3</th>\n",
       "      <td>3</td>\n",
       "      <td>RÃÂ¶yksopp</td>\n",
       "      <td>Logged In</td>\n",
       "      <td>Jacob</td>\n",
       "      <td>M</td>\n",
       "      <td>54</td>\n",
       "      <td>Klein</td>\n",
       "      <td>369.81506</td>\n",
       "      <td>paid</td>\n",
       "      <td>Tampa-St. Petersburg-Clearwater, FL</td>\n",
       "      <td>PUT</td>\n",
       "      <td>NextSong</td>\n",
       "      <td>1.540558e+12</td>\n",
       "      <td>954</td>\n",
       "      <td>The Girl and The Robot</td>\n",
       "      <td>200</td>\n",
       "      <td>1543449895796</td>\n",
       "      <td>\"Mozilla/5.0 (Macintosh; Intel Mac OS X 10_9_4...</td>\n",
       "      <td>73</td>\n",
       "    </tr>\n",
       "    <tr>\n",
       "      <th>4</th>\n",
       "      <td>4</td>\n",
       "      <td>Kajagoogoo</td>\n",
       "      <td>Logged In</td>\n",
       "      <td>Layla</td>\n",
       "      <td>F</td>\n",
       "      <td>90</td>\n",
       "      <td>Griffin</td>\n",
       "      <td>223.55546</td>\n",
       "      <td>paid</td>\n",
       "      <td>Lake Havasu City-Kingman, AZ</td>\n",
       "      <td>PUT</td>\n",
       "      <td>NextSong</td>\n",
       "      <td>1.541057e+12</td>\n",
       "      <td>984</td>\n",
       "      <td>Too Shy</td>\n",
       "      <td>200</td>\n",
       "      <td>1543450033796</td>\n",
       "      <td>\"Mozilla/5.0 (Windows NT 6.1; WOW64) AppleWebK...</td>\n",
       "      <td>24</td>\n",
       "    </tr>\n",
       "  </tbody>\n",
       "</table>\n",
       "</div>"
      ],
      "text/plain": [
       "   index             artist       auth firstName gender  itemInSession  \\\n",
       "0      0  Sydney Youngblood  Logged In     Jacob      M             53   \n",
       "1      1         Gang Starr  Logged In     Layla      F             88   \n",
       "2      2              3OH!3  Logged In     Layla      F             89   \n",
       "3      3        RÃÂ¶yksopp  Logged In     Jacob      M             54   \n",
       "4      4         Kajagoogoo  Logged In     Layla      F             90   \n",
       "\n",
       "  lastName     length level                             location method  \\\n",
       "0    Klein  238.07955  paid  Tampa-St. Petersburg-Clearwater, FL    PUT   \n",
       "1  Griffin  151.92771  paid         Lake Havasu City-Kingman, AZ    PUT   \n",
       "2  Griffin  192.52200  paid         Lake Havasu City-Kingman, AZ    PUT   \n",
       "3    Klein  369.81506  paid  Tampa-St. Petersburg-Clearwater, FL    PUT   \n",
       "4  Griffin  223.55546  paid         Lake Havasu City-Kingman, AZ    PUT   \n",
       "\n",
       "       page  registration  sessionId  \\\n",
       "0  NextSong  1.540558e+12        954   \n",
       "1  NextSong  1.541057e+12        984   \n",
       "2  NextSong  1.541057e+12        984   \n",
       "3  NextSong  1.540558e+12        954   \n",
       "4  NextSong  1.541057e+12        984   \n",
       "\n",
       "                                          song  status             ts  \\\n",
       "0                            Ain't No Sunshine     200  1543449657796   \n",
       "1                   My Advice 2 You (Explicit)     200  1543449690796   \n",
       "2  My First Kiss (Feat. Ke$ha) [Album Version]     200  1543449841796   \n",
       "3                       The Girl and The Robot     200  1543449895796   \n",
       "4                                      Too Shy     200  1543450033796   \n",
       "\n",
       "                                           userAgent userId  \n",
       "0  \"Mozilla/5.0 (Macintosh; Intel Mac OS X 10_9_4...     73  \n",
       "1  \"Mozilla/5.0 (Windows NT 6.1; WOW64) AppleWebK...     24  \n",
       "2  \"Mozilla/5.0 (Windows NT 6.1; WOW64) AppleWebK...     24  \n",
       "3  \"Mozilla/5.0 (Macintosh; Intel Mac OS X 10_9_4...     73  \n",
       "4  \"Mozilla/5.0 (Windows NT 6.1; WOW64) AppleWebK...     24  "
      ]
     },
     "execution_count": 23,
     "metadata": {},
     "output_type": "execute_result"
    }
   ],
   "source": [
    "df = df[df['page']=='NextSong'].reset_index()\n",
    "df.head()"
   ]
  },
  {
   "cell_type": "code",
   "execution_count": 24,
   "metadata": {
    "editable": true
   },
   "outputs": [
    {
     "data": {
      "text/plain": [
       "(319, 19)"
      ]
     },
     "execution_count": 24,
     "metadata": {},
     "output_type": "execute_result"
    }
   ],
   "source": [
    "df.shape"
   ]
  },
  {
   "cell_type": "code",
   "execution_count": 25,
   "metadata": {
    "editable": true
   },
   "outputs": [],
   "source": [
    "#pd.to_datetime(df.ts, unit='ms')"
   ]
  },
  {
   "cell_type": "code",
   "execution_count": 26,
   "metadata": {
    "editable": true
   },
   "outputs": [
    {
     "data": {
      "text/plain": [
       "0   2018-11-29 00:00:57.796\n",
       "1   2018-11-29 00:01:30.796\n",
       "2   2018-11-29 00:04:01.796\n",
       "3   2018-11-29 00:04:55.796\n",
       "4   2018-11-29 00:07:13.796\n",
       "Name: ts, dtype: datetime64[ns]"
      ]
     },
     "execution_count": 26,
     "metadata": {},
     "output_type": "execute_result"
    }
   ],
   "source": [
    "t = pd.to_datetime(df.ts, unit='ms')\n",
    "t.head()"
   ]
  },
  {
   "cell_type": "code",
   "execution_count": 27,
   "metadata": {
    "editable": true
   },
   "outputs": [],
   "source": [
    "#t.dt.hour\n",
    "#t.dt.day\n",
    "#t.dt.week\n",
    "#t.dt.month\n",
    "#t.dt.year\n",
    "#t.dt.day_name()"
   ]
  },
  {
   "cell_type": "code",
   "execution_count": 28,
   "metadata": {
    "editable": true
   },
   "outputs": [],
   "source": [
    "time_data = (t, t.dt.hour, t.dt.day, t.dt.week, t.dt.month, t.dt.year, t.dt.day_name())\n",
    "column_labels = ('start_time', 'hour', 'day', 'week', 'month', 'year', 'weekday')"
   ]
  },
  {
   "cell_type": "code",
   "execution_count": 29,
   "metadata": {
    "editable": true
   },
   "outputs": [
    {
     "data": {
      "text/plain": [
       "('start_time', 'hour', 'day', 'week', 'month', 'year', 'weekday')"
      ]
     },
     "execution_count": 29,
     "metadata": {},
     "output_type": "execute_result"
    }
   ],
   "source": [
    "column_labels"
   ]
  },
  {
   "cell_type": "code",
   "execution_count": 30,
   "metadata": {
    "editable": true
   },
   "outputs": [
    {
     "data": {
      "text/html": [
       "<div>\n",
       "<style scoped>\n",
       "    .dataframe tbody tr th:only-of-type {\n",
       "        vertical-align: middle;\n",
       "    }\n",
       "\n",
       "    .dataframe tbody tr th {\n",
       "        vertical-align: top;\n",
       "    }\n",
       "\n",
       "    .dataframe thead th {\n",
       "        text-align: right;\n",
       "    }\n",
       "</style>\n",
       "<table border=\"1\" class=\"dataframe\">\n",
       "  <thead>\n",
       "    <tr style=\"text-align: right;\">\n",
       "      <th></th>\n",
       "      <th>start_time</th>\n",
       "      <th>hour</th>\n",
       "      <th>day</th>\n",
       "      <th>week</th>\n",
       "      <th>month</th>\n",
       "      <th>year</th>\n",
       "      <th>weekday</th>\n",
       "    </tr>\n",
       "  </thead>\n",
       "  <tbody>\n",
       "    <tr>\n",
       "      <th>0</th>\n",
       "      <td>2018-11-29 00:00:57.796</td>\n",
       "      <td>0</td>\n",
       "      <td>29</td>\n",
       "      <td>48</td>\n",
       "      <td>11</td>\n",
       "      <td>2018</td>\n",
       "      <td>Thursday</td>\n",
       "    </tr>\n",
       "    <tr>\n",
       "      <th>1</th>\n",
       "      <td>2018-11-29 00:01:30.796</td>\n",
       "      <td>0</td>\n",
       "      <td>29</td>\n",
       "      <td>48</td>\n",
       "      <td>11</td>\n",
       "      <td>2018</td>\n",
       "      <td>Thursday</td>\n",
       "    </tr>\n",
       "    <tr>\n",
       "      <th>2</th>\n",
       "      <td>2018-11-29 00:04:01.796</td>\n",
       "      <td>0</td>\n",
       "      <td>29</td>\n",
       "      <td>48</td>\n",
       "      <td>11</td>\n",
       "      <td>2018</td>\n",
       "      <td>Thursday</td>\n",
       "    </tr>\n",
       "    <tr>\n",
       "      <th>3</th>\n",
       "      <td>2018-11-29 00:04:55.796</td>\n",
       "      <td>0</td>\n",
       "      <td>29</td>\n",
       "      <td>48</td>\n",
       "      <td>11</td>\n",
       "      <td>2018</td>\n",
       "      <td>Thursday</td>\n",
       "    </tr>\n",
       "    <tr>\n",
       "      <th>4</th>\n",
       "      <td>2018-11-29 00:07:13.796</td>\n",
       "      <td>0</td>\n",
       "      <td>29</td>\n",
       "      <td>48</td>\n",
       "      <td>11</td>\n",
       "      <td>2018</td>\n",
       "      <td>Thursday</td>\n",
       "    </tr>\n",
       "  </tbody>\n",
       "</table>\n",
       "</div>"
      ],
      "text/plain": [
       "               start_time  hour  day  week  month  year   weekday\n",
       "0 2018-11-29 00:00:57.796     0   29    48     11  2018  Thursday\n",
       "1 2018-11-29 00:01:30.796     0   29    48     11  2018  Thursday\n",
       "2 2018-11-29 00:04:01.796     0   29    48     11  2018  Thursday\n",
       "3 2018-11-29 00:04:55.796     0   29    48     11  2018  Thursday\n",
       "4 2018-11-29 00:07:13.796     0   29    48     11  2018  Thursday"
      ]
     },
     "execution_count": 30,
     "metadata": {},
     "output_type": "execute_result"
    }
   ],
   "source": [
    "time_df = pd.DataFrame(dict(zip(column_labels, time_data)))\n",
    "time_df.head()"
   ]
  },
  {
   "cell_type": "code",
   "execution_count": 31,
   "metadata": {
    "editable": true
   },
   "outputs": [
    {
     "data": {
      "text/plain": [
       "start_time    datetime64[ns]\n",
       "hour                   int64\n",
       "day                    int64\n",
       "week                   int64\n",
       "month                  int64\n",
       "year                   int64\n",
       "weekday               object\n",
       "dtype: object"
      ]
     },
     "execution_count": 31,
     "metadata": {},
     "output_type": "execute_result"
    }
   ],
   "source": [
    "time_df.dtypes"
   ]
  },
  {
   "cell_type": "markdown",
   "metadata": {
    "editable": true
   },
   "source": [
    "#### Insert Records into Time Table\n",
    "Implement the `time_table_insert` query in `sql_queries.py` and run the cell below to insert records for the timestamps in this log file into the `time` table. Remember to run `create_tables.py` before running the cell below to ensure you've created/resetted the `time` table in the sparkify database."
   ]
  },
  {
   "cell_type": "code",
   "execution_count": 32,
   "metadata": {
    "editable": true
   },
   "outputs": [],
   "source": [
    "for i, row in time_df.iterrows():\n",
    "    cur.execute(time_table_insert, list(row))\n",
    "    conn.commit()"
   ]
  },
  {
   "cell_type": "markdown",
   "metadata": {
    "editable": true
   },
   "source": [
    "Run `test.ipynb` to see if you've successfully added records to this table."
   ]
  },
  {
   "cell_type": "code",
   "execution_count": 33,
   "metadata": {
    "editable": true
   },
   "outputs": [
    {
     "name": "stdout",
     "output_type": "stream",
     "text": [
      "(datetime.datetime(2018, 11, 29, 0, 0, 57, 796000), 0, 29, 48, 11, 2018, 'Thursday')\n",
      "(datetime.datetime(2018, 11, 29, 0, 1, 30, 796000), 0, 29, 48, 11, 2018, 'Thursday')\n",
      "(datetime.datetime(2018, 11, 29, 0, 4, 1, 796000), 0, 29, 48, 11, 2018, 'Thursday')\n",
      "(datetime.datetime(2018, 11, 29, 0, 4, 55, 796000), 0, 29, 48, 11, 2018, 'Thursday')\n",
      "(datetime.datetime(2018, 11, 29, 0, 7, 13, 796000), 0, 29, 48, 11, 2018, 'Thursday')\n",
      "(datetime.datetime(2018, 11, 29, 0, 10, 56, 796000), 0, 29, 48, 11, 2018, 'Thursday')\n",
      "(datetime.datetime(2018, 11, 29, 0, 11, 4, 796000), 0, 29, 48, 11, 2018, 'Thursday')\n",
      "(datetime.datetime(2018, 11, 29, 0, 14, 10, 796000), 0, 29, 48, 11, 2018, 'Thursday')\n",
      "(datetime.datetime(2018, 11, 29, 0, 16, 2, 796000), 0, 29, 48, 11, 2018, 'Thursday')\n",
      "(datetime.datetime(2018, 11, 29, 0, 18, 11, 796000), 0, 29, 48, 11, 2018, 'Thursday')\n",
      "(datetime.datetime(2018, 11, 29, 0, 22, 13, 796000), 0, 29, 48, 11, 2018, 'Thursday')\n",
      "(datetime.datetime(2018, 11, 29, 0, 26, 15, 796000), 0, 29, 48, 11, 2018, 'Thursday')\n",
      "(datetime.datetime(2018, 11, 29, 0, 30, 53, 796000), 0, 29, 48, 11, 2018, 'Thursday')\n",
      "(datetime.datetime(2018, 11, 29, 0, 35, 7, 796000), 0, 29, 48, 11, 2018, 'Thursday')\n",
      "(datetime.datetime(2018, 11, 29, 0, 40, 14, 796000), 0, 29, 48, 11, 2018, 'Thursday')\n",
      "(datetime.datetime(2018, 11, 29, 0, 44, 13, 796000), 0, 29, 48, 11, 2018, 'Thursday')\n",
      "(datetime.datetime(2018, 11, 29, 0, 46, 34, 796000), 0, 29, 48, 11, 2018, 'Thursday')\n",
      "(datetime.datetime(2018, 11, 29, 0, 49, 48, 796000), 0, 29, 48, 11, 2018, 'Thursday')\n",
      "(datetime.datetime(2018, 11, 29, 0, 57, 10, 796000), 0, 29, 48, 11, 2018, 'Thursday')\n",
      "(datetime.datetime(2018, 11, 29, 1, 2, 12, 796000), 1, 29, 48, 11, 2018, 'Thursday')\n",
      "(datetime.datetime(2018, 11, 29, 1, 6, 36, 796000), 1, 29, 48, 11, 2018, 'Thursday')\n",
      "(datetime.datetime(2018, 11, 29, 1, 9, 23, 796000), 1, 29, 48, 11, 2018, 'Thursday')\n",
      "(datetime.datetime(2018, 11, 29, 1, 9, 58, 796000), 1, 29, 48, 11, 2018, 'Thursday')\n",
      "(datetime.datetime(2018, 11, 29, 1, 13, 57, 796000), 1, 29, 48, 11, 2018, 'Thursday')\n",
      "(datetime.datetime(2018, 11, 29, 1, 17, 34, 796000), 1, 29, 48, 11, 2018, 'Thursday')\n",
      "(datetime.datetime(2018, 11, 29, 1, 22, 13, 796000), 1, 29, 48, 11, 2018, 'Thursday')\n",
      "(datetime.datetime(2018, 11, 29, 1, 26, 18, 796000), 1, 29, 48, 11, 2018, 'Thursday')\n",
      "(datetime.datetime(2018, 11, 29, 1, 31, 13, 796000), 1, 29, 48, 11, 2018, 'Thursday')\n",
      "(datetime.datetime(2018, 11, 29, 1, 33, 38, 796000), 1, 29, 48, 11, 2018, 'Thursday')\n",
      "(datetime.datetime(2018, 11, 29, 1, 38, 30, 796000), 1, 29, 48, 11, 2018, 'Thursday')\n",
      "(datetime.datetime(2018, 11, 29, 1, 42, 27, 796000), 1, 29, 48, 11, 2018, 'Thursday')\n",
      "(datetime.datetime(2018, 11, 29, 1, 46, 50, 796000), 1, 29, 48, 11, 2018, 'Thursday')\n",
      "(datetime.datetime(2018, 11, 29, 1, 52, 26, 796000), 1, 29, 48, 11, 2018, 'Thursday')\n",
      "(datetime.datetime(2018, 11, 29, 1, 55, 17, 796000), 1, 29, 48, 11, 2018, 'Thursday')\n",
      "(datetime.datetime(2018, 11, 29, 2, 24, 31, 796000), 2, 29, 48, 11, 2018, 'Thursday')\n",
      "(datetime.datetime(2018, 11, 29, 2, 28, 5, 796000), 2, 29, 48, 11, 2018, 'Thursday')\n",
      "(datetime.datetime(2018, 11, 29, 2, 31, 11, 796000), 2, 29, 48, 11, 2018, 'Thursday')\n",
      "(datetime.datetime(2018, 11, 29, 2, 36, 13, 796000), 2, 29, 48, 11, 2018, 'Thursday')\n",
      "(datetime.datetime(2018, 11, 29, 2, 40, 10, 796000), 2, 29, 48, 11, 2018, 'Thursday')\n",
      "(datetime.datetime(2018, 11, 29, 2, 57, 57, 796000), 2, 29, 48, 11, 2018, 'Thursday')\n",
      "(datetime.datetime(2018, 11, 29, 3, 0, 42, 796000), 3, 29, 48, 11, 2018, 'Thursday')\n",
      "(datetime.datetime(2018, 11, 29, 3, 7, 15, 796000), 3, 29, 48, 11, 2018, 'Thursday')\n",
      "(datetime.datetime(2018, 11, 29, 4, 27, 16, 796000), 4, 29, 48, 11, 2018, 'Thursday')\n",
      "(datetime.datetime(2018, 11, 29, 4, 31, 53, 796000), 4, 29, 48, 11, 2018, 'Thursday')\n",
      "(datetime.datetime(2018, 11, 29, 4, 55, 55, 796000), 4, 29, 48, 11, 2018, 'Thursday')\n",
      "(datetime.datetime(2018, 11, 29, 5, 0, 8, 796000), 5, 29, 48, 11, 2018, 'Thursday')\n",
      "(datetime.datetime(2018, 11, 29, 8, 18, 42, 796000), 8, 29, 48, 11, 2018, 'Thursday')\n",
      "(datetime.datetime(2018, 11, 29, 8, 23, 9, 796000), 8, 29, 48, 11, 2018, 'Thursday')\n",
      "(datetime.datetime(2018, 11, 29, 10, 59, 27, 796000), 10, 29, 48, 11, 2018, 'Thursday')\n",
      "(datetime.datetime(2018, 11, 29, 11, 3, 12, 796000), 11, 29, 48, 11, 2018, 'Thursday')\n",
      "(datetime.datetime(2018, 11, 29, 11, 3, 31, 796000), 11, 29, 48, 11, 2018, 'Thursday')\n",
      "(datetime.datetime(2018, 11, 29, 11, 7, 19, 796000), 11, 29, 48, 11, 2018, 'Thursday')\n",
      "(datetime.datetime(2018, 11, 29, 11, 10, 57, 796000), 11, 29, 48, 11, 2018, 'Thursday')\n",
      "(datetime.datetime(2018, 11, 29, 12, 21, 7, 796000), 12, 29, 48, 11, 2018, 'Thursday')\n",
      "(datetime.datetime(2018, 11, 29, 13, 14, 11, 796000), 13, 29, 48, 11, 2018, 'Thursday')\n",
      "(datetime.datetime(2018, 11, 29, 13, 58, 27, 796000), 13, 29, 48, 11, 2018, 'Thursday')\n",
      "(datetime.datetime(2018, 11, 29, 14, 1, 21, 796000), 14, 29, 48, 11, 2018, 'Thursday')\n",
      "(datetime.datetime(2018, 11, 29, 14, 5, 13, 796000), 14, 29, 48, 11, 2018, 'Thursday')\n",
      "(datetime.datetime(2018, 11, 29, 14, 10, 8, 796000), 14, 29, 48, 11, 2018, 'Thursday')\n",
      "(datetime.datetime(2018, 11, 29, 14, 14, 4, 796000), 14, 29, 48, 11, 2018, 'Thursday')\n",
      "(datetime.datetime(2018, 11, 29, 14, 17, 50, 796000), 14, 29, 48, 11, 2018, 'Thursday')\n",
      "(datetime.datetime(2018, 11, 29, 14, 22, 14, 796000), 14, 29, 48, 11, 2018, 'Thursday')\n",
      "(datetime.datetime(2018, 11, 29, 14, 26, 23, 796000), 14, 29, 48, 11, 2018, 'Thursday')\n",
      "(datetime.datetime(2018, 11, 29, 14, 32, 31, 796000), 14, 29, 48, 11, 2018, 'Thursday')\n",
      "(datetime.datetime(2018, 11, 29, 14, 35, 44, 796000), 14, 29, 48, 11, 2018, 'Thursday')\n",
      "(datetime.datetime(2018, 11, 29, 14, 40, 36, 796000), 14, 29, 48, 11, 2018, 'Thursday')\n",
      "(datetime.datetime(2018, 11, 29, 14, 43, 29, 796000), 14, 29, 48, 11, 2018, 'Thursday')\n",
      "(datetime.datetime(2018, 11, 29, 14, 47, 47, 796000), 14, 29, 48, 11, 2018, 'Thursday')\n",
      "(datetime.datetime(2018, 11, 29, 14, 51, 12, 796000), 14, 29, 48, 11, 2018, 'Thursday')\n",
      "(datetime.datetime(2018, 11, 29, 14, 55, 45, 796000), 14, 29, 48, 11, 2018, 'Thursday')\n",
      "(datetime.datetime(2018, 11, 29, 14, 57, 52, 796000), 14, 29, 48, 11, 2018, 'Thursday')\n",
      "(datetime.datetime(2018, 11, 29, 15, 2, 51, 796000), 15, 29, 48, 11, 2018, 'Thursday')\n",
      "(datetime.datetime(2018, 11, 29, 15, 5, 49, 796000), 15, 29, 48, 11, 2018, 'Thursday')\n",
      "(datetime.datetime(2018, 11, 29, 15, 6, 52, 796000), 15, 29, 48, 11, 2018, 'Thursday')\n",
      "(datetime.datetime(2018, 11, 29, 15, 9, 44, 796000), 15, 29, 48, 11, 2018, 'Thursday')\n",
      "(datetime.datetime(2018, 11, 29, 15, 11, 8, 796000), 15, 29, 48, 11, 2018, 'Thursday')\n",
      "(datetime.datetime(2018, 11, 29, 15, 11, 35, 796000), 15, 29, 48, 11, 2018, 'Thursday')\n",
      "(datetime.datetime(2018, 11, 29, 15, 11, 47, 796000), 15, 29, 48, 11, 2018, 'Thursday')\n",
      "(datetime.datetime(2018, 11, 29, 15, 12, 48, 796000), 15, 29, 48, 11, 2018, 'Thursday')\n",
      "(datetime.datetime(2018, 11, 29, 15, 14, 34, 796000), 15, 29, 48, 11, 2018, 'Thursday')\n",
      "(datetime.datetime(2018, 11, 29, 15, 15, 28, 796000), 15, 29, 48, 11, 2018, 'Thursday')\n",
      "(datetime.datetime(2018, 11, 29, 15, 15, 36, 796000), 15, 29, 48, 11, 2018, 'Thursday')\n",
      "(datetime.datetime(2018, 11, 29, 15, 16, 13, 796000), 15, 29, 48, 11, 2018, 'Thursday')\n",
      "(datetime.datetime(2018, 11, 29, 15, 18, 58, 796000), 15, 29, 48, 11, 2018, 'Thursday')\n",
      "(datetime.datetime(2018, 11, 29, 15, 19, 32, 796000), 15, 29, 48, 11, 2018, 'Thursday')\n",
      "(datetime.datetime(2018, 11, 29, 15, 20, 30, 796000), 15, 29, 48, 11, 2018, 'Thursday')\n",
      "(datetime.datetime(2018, 11, 29, 15, 20, 39, 796000), 15, 29, 48, 11, 2018, 'Thursday')\n",
      "(datetime.datetime(2018, 11, 29, 15, 22, 38, 796000), 15, 29, 48, 11, 2018, 'Thursday')\n",
      "(datetime.datetime(2018, 11, 29, 15, 24, 15, 796000), 15, 29, 48, 11, 2018, 'Thursday')\n",
      "(datetime.datetime(2018, 11, 29, 15, 26, 40, 796000), 15, 29, 48, 11, 2018, 'Thursday')\n",
      "(datetime.datetime(2018, 11, 29, 15, 27, 1, 796000), 15, 29, 48, 11, 2018, 'Thursday')\n",
      "(datetime.datetime(2018, 11, 29, 15, 27, 37, 796000), 15, 29, 48, 11, 2018, 'Thursday')\n",
      "(datetime.datetime(2018, 11, 29, 15, 29, 41, 796000), 15, 29, 48, 11, 2018, 'Thursday')\n",
      "(datetime.datetime(2018, 11, 29, 15, 30, 1, 796000), 15, 29, 48, 11, 2018, 'Thursday')\n",
      "(datetime.datetime(2018, 11, 29, 15, 30, 57, 796000), 15, 29, 48, 11, 2018, 'Thursday')\n",
      "(datetime.datetime(2018, 11, 29, 15, 33, 38, 796000), 15, 29, 48, 11, 2018, 'Thursday')\n",
      "(datetime.datetime(2018, 11, 29, 15, 34, 16, 796000), 15, 29, 48, 11, 2018, 'Thursday')\n",
      "(datetime.datetime(2018, 11, 29, 15, 36, 32, 796000), 15, 29, 48, 11, 2018, 'Thursday')\n",
      "(datetime.datetime(2018, 11, 29, 15, 37, 16, 796000), 15, 29, 48, 11, 2018, 'Thursday')\n",
      "(datetime.datetime(2018, 11, 29, 15, 39, 39, 796000), 15, 29, 48, 11, 2018, 'Thursday')\n",
      "(datetime.datetime(2018, 11, 29, 15, 41, 17, 796000), 15, 29, 48, 11, 2018, 'Thursday')\n",
      "(datetime.datetime(2018, 11, 29, 15, 41, 57, 796000), 15, 29, 48, 11, 2018, 'Thursday')\n",
      "(datetime.datetime(2018, 11, 29, 15, 45, 38, 796000), 15, 29, 48, 11, 2018, 'Thursday')\n",
      "(datetime.datetime(2018, 11, 29, 15, 45, 41, 796000), 15, 29, 48, 11, 2018, 'Thursday')\n",
      "(datetime.datetime(2018, 11, 29, 15, 49, 16, 796000), 15, 29, 48, 11, 2018, 'Thursday')\n",
      "(datetime.datetime(2018, 11, 29, 15, 49, 38, 796000), 15, 29, 48, 11, 2018, 'Thursday')\n",
      "(datetime.datetime(2018, 11, 29, 15, 53, 39, 796000), 15, 29, 48, 11, 2018, 'Thursday')\n",
      "(datetime.datetime(2018, 11, 29, 15, 54, 12, 796000), 15, 29, 48, 11, 2018, 'Thursday')\n",
      "(datetime.datetime(2018, 11, 29, 15, 57, 35, 796000), 15, 29, 48, 11, 2018, 'Thursday')\n",
      "(datetime.datetime(2018, 11, 29, 15, 57, 55, 796000), 15, 29, 48, 11, 2018, 'Thursday')\n",
      "(datetime.datetime(2018, 11, 29, 16, 0, 1, 796000), 16, 29, 48, 11, 2018, 'Thursday')\n",
      "(datetime.datetime(2018, 11, 29, 16, 0, 53, 796000), 16, 29, 48, 11, 2018, 'Thursday')\n",
      "(datetime.datetime(2018, 11, 29, 16, 4, 6, 796000), 16, 29, 48, 11, 2018, 'Thursday')\n",
      "(datetime.datetime(2018, 11, 29, 16, 5, 40, 796000), 16, 29, 48, 11, 2018, 'Thursday')\n",
      "(datetime.datetime(2018, 11, 29, 16, 7, 7, 796000), 16, 29, 48, 11, 2018, 'Thursday')\n",
      "(datetime.datetime(2018, 11, 29, 16, 9, 11, 796000), 16, 29, 48, 11, 2018, 'Thursday')\n",
      "(datetime.datetime(2018, 11, 29, 16, 9, 24, 796000), 16, 29, 48, 11, 2018, 'Thursday')\n",
      "(datetime.datetime(2018, 11, 29, 16, 11, 29, 796000), 16, 29, 48, 11, 2018, 'Thursday')\n",
      "(datetime.datetime(2018, 11, 29, 16, 13, 23, 796000), 16, 29, 48, 11, 2018, 'Thursday')\n",
      "(datetime.datetime(2018, 11, 29, 16, 15, 34, 796000), 16, 29, 48, 11, 2018, 'Thursday')\n",
      "(datetime.datetime(2018, 11, 29, 16, 18, 25, 796000), 16, 29, 48, 11, 2018, 'Thursday')\n",
      "(datetime.datetime(2018, 11, 29, 16, 19, 30, 796000), 16, 29, 48, 11, 2018, 'Thursday')\n",
      "(datetime.datetime(2018, 11, 29, 16, 22, 24, 796000), 16, 29, 48, 11, 2018, 'Thursday')\n",
      "(datetime.datetime(2018, 11, 29, 16, 23, 27, 796000), 16, 29, 48, 11, 2018, 'Thursday')\n",
      "(datetime.datetime(2018, 11, 29, 16, 26, 21, 796000), 16, 29, 48, 11, 2018, 'Thursday')\n",
      "(datetime.datetime(2018, 11, 29, 16, 28, 12, 796000), 16, 29, 48, 11, 2018, 'Thursday')\n",
      "(datetime.datetime(2018, 11, 29, 16, 30, 5, 796000), 16, 29, 48, 11, 2018, 'Thursday')\n",
      "(datetime.datetime(2018, 11, 29, 16, 31, 19, 796000), 16, 29, 48, 11, 2018, 'Thursday')\n",
      "(datetime.datetime(2018, 11, 29, 16, 34, 3, 796000), 16, 29, 48, 11, 2018, 'Thursday')\n",
      "(datetime.datetime(2018, 11, 29, 16, 36, 45, 796000), 16, 29, 48, 11, 2018, 'Thursday')\n",
      "(datetime.datetime(2018, 11, 29, 16, 38, 29, 796000), 16, 29, 48, 11, 2018, 'Thursday')\n",
      "(datetime.datetime(2018, 11, 29, 16, 40, 32, 796000), 16, 29, 48, 11, 2018, 'Thursday')\n",
      "(datetime.datetime(2018, 11, 29, 16, 41, 33, 796000), 16, 29, 48, 11, 2018, 'Thursday')\n",
      "(datetime.datetime(2018, 11, 29, 16, 41, 37, 796000), 16, 29, 48, 11, 2018, 'Thursday')\n",
      "(datetime.datetime(2018, 11, 29, 16, 44, 39, 796000), 16, 29, 48, 11, 2018, 'Thursday')\n",
      "(datetime.datetime(2018, 11, 29, 16, 45, 38, 796000), 16, 29, 48, 11, 2018, 'Thursday')\n",
      "(datetime.datetime(2018, 11, 29, 16, 47, 38, 796000), 16, 29, 48, 11, 2018, 'Thursday')\n",
      "(datetime.datetime(2018, 11, 29, 16, 47, 42, 796000), 16, 29, 48, 11, 2018, 'Thursday')\n",
      "(datetime.datetime(2018, 11, 29, 16, 49, 25, 796000), 16, 29, 48, 11, 2018, 'Thursday')\n",
      "(datetime.datetime(2018, 11, 29, 16, 50, 16, 796000), 16, 29, 48, 11, 2018, 'Thursday')\n",
      "(datetime.datetime(2018, 11, 29, 16, 54, 22, 796000), 16, 29, 48, 11, 2018, 'Thursday')\n",
      "(datetime.datetime(2018, 11, 29, 16, 54, 27, 796000), 16, 29, 48, 11, 2018, 'Thursday')\n",
      "(datetime.datetime(2018, 11, 29, 16, 54, 41, 796000), 16, 29, 48, 11, 2018, 'Thursday')\n",
      "(datetime.datetime(2018, 11, 29, 16, 55, 14, 796000), 16, 29, 48, 11, 2018, 'Thursday')\n",
      "(datetime.datetime(2018, 11, 29, 16, 58, 1, 796000), 16, 29, 48, 11, 2018, 'Thursday')\n",
      "(datetime.datetime(2018, 11, 29, 16, 58, 3, 796000), 16, 29, 48, 11, 2018, 'Thursday')\n",
      "(datetime.datetime(2018, 11, 29, 16, 58, 11, 796000), 16, 29, 48, 11, 2018, 'Thursday')\n",
      "(datetime.datetime(2018, 11, 29, 17, 1, 21, 796000), 17, 29, 48, 11, 2018, 'Thursday')\n",
      "(datetime.datetime(2018, 11, 29, 17, 1, 34, 796000), 17, 29, 48, 11, 2018, 'Thursday')\n",
      "(datetime.datetime(2018, 11, 29, 17, 1, 41, 796000), 17, 29, 48, 11, 2018, 'Thursday')\n",
      "(datetime.datetime(2018, 11, 29, 17, 1, 49, 796000), 17, 29, 48, 11, 2018, 'Thursday')\n",
      "(datetime.datetime(2018, 11, 29, 17, 5, 10, 796000), 17, 29, 48, 11, 2018, 'Thursday')\n",
      "(datetime.datetime(2018, 11, 29, 17, 5, 20, 796000), 17, 29, 48, 11, 2018, 'Thursday')\n",
      "(datetime.datetime(2018, 11, 29, 17, 5, 26, 796000), 17, 29, 48, 11, 2018, 'Thursday')\n",
      "(datetime.datetime(2018, 11, 29, 17, 6, 16, 796000), 17, 29, 48, 11, 2018, 'Thursday')\n",
      "(datetime.datetime(2018, 11, 29, 17, 6, 48, 796000), 17, 29, 48, 11, 2018, 'Thursday')\n",
      "(datetime.datetime(2018, 11, 29, 17, 9, 13, 796000), 17, 29, 48, 11, 2018, 'Thursday')\n",
      "(datetime.datetime(2018, 11, 29, 17, 9, 14, 796000), 17, 29, 48, 11, 2018, 'Thursday')\n",
      "(datetime.datetime(2018, 11, 29, 17, 10, 14, 796000), 17, 29, 48, 11, 2018, 'Thursday')\n",
      "(datetime.datetime(2018, 11, 29, 17, 12, 34, 796000), 17, 29, 48, 11, 2018, 'Thursday')\n",
      "(datetime.datetime(2018, 11, 29, 17, 13, 55, 796000), 17, 29, 48, 11, 2018, 'Thursday')\n",
      "(datetime.datetime(2018, 11, 29, 17, 14, 22, 796000), 17, 29, 48, 11, 2018, 'Thursday')\n",
      "(datetime.datetime(2018, 11, 29, 17, 16, 11, 796000), 17, 29, 48, 11, 2018, 'Thursday')\n",
      "(datetime.datetime(2018, 11, 29, 17, 18, 1, 796000), 17, 29, 48, 11, 2018, 'Thursday')\n",
      "(datetime.datetime(2018, 11, 29, 17, 18, 33, 796000), 17, 29, 48, 11, 2018, 'Thursday')\n",
      "(datetime.datetime(2018, 11, 29, 17, 19, 26, 796000), 17, 29, 48, 11, 2018, 'Thursday')\n",
      "(datetime.datetime(2018, 11, 29, 17, 22, 1, 796000), 17, 29, 48, 11, 2018, 'Thursday')\n",
      "(datetime.datetime(2018, 11, 29, 17, 22, 27, 796000), 17, 29, 48, 11, 2018, 'Thursday')\n",
      "(datetime.datetime(2018, 11, 29, 17, 23, 1, 796000), 17, 29, 48, 11, 2018, 'Thursday')\n",
      "(datetime.datetime(2018, 11, 29, 17, 24, 32, 796000), 17, 29, 48, 11, 2018, 'Thursday')\n",
      "(datetime.datetime(2018, 11, 29, 17, 25, 44, 796000), 17, 29, 48, 11, 2018, 'Thursday')\n",
      "(datetime.datetime(2018, 11, 29, 17, 27, 23, 796000), 17, 29, 48, 11, 2018, 'Thursday')\n",
      "(datetime.datetime(2018, 11, 29, 17, 28, 38, 796000), 17, 29, 48, 11, 2018, 'Thursday')\n",
      "(datetime.datetime(2018, 11, 29, 17, 31, 27, 796000), 17, 29, 48, 11, 2018, 'Thursday')\n",
      "(datetime.datetime(2018, 11, 29, 17, 32, 0, 796000), 17, 29, 48, 11, 2018, 'Thursday')\n",
      "(datetime.datetime(2018, 11, 29, 17, 33, 22, 796000), 17, 29, 48, 11, 2018, 'Thursday')\n",
      "(datetime.datetime(2018, 11, 29, 17, 35, 29, 796000), 17, 29, 48, 11, 2018, 'Thursday')\n",
      "(datetime.datetime(2018, 11, 29, 17, 39, 31, 796000), 17, 29, 48, 11, 2018, 'Thursday')\n",
      "(datetime.datetime(2018, 11, 29, 17, 39, 48, 796000), 17, 29, 48, 11, 2018, 'Thursday')\n",
      "(datetime.datetime(2018, 11, 29, 17, 41, 2, 796000), 17, 29, 48, 11, 2018, 'Thursday')\n",
      "(datetime.datetime(2018, 11, 29, 17, 41, 54, 796000), 17, 29, 48, 11, 2018, 'Thursday')\n",
      "(datetime.datetime(2018, 11, 29, 17, 43, 21, 796000), 17, 29, 48, 11, 2018, 'Thursday')\n",
      "(datetime.datetime(2018, 11, 29, 17, 45, 34, 796000), 17, 29, 48, 11, 2018, 'Thursday')\n",
      "(datetime.datetime(2018, 11, 29, 17, 45, 51, 796000), 17, 29, 48, 11, 2018, 'Thursday')\n",
      "(datetime.datetime(2018, 11, 29, 17, 48, 25, 796000), 17, 29, 48, 11, 2018, 'Thursday')\n",
      "(datetime.datetime(2018, 11, 29, 17, 49, 47, 796000), 17, 29, 48, 11, 2018, 'Thursday')\n",
      "(datetime.datetime(2018, 11, 29, 17, 50, 11, 796000), 17, 29, 48, 11, 2018, 'Thursday')\n",
      "(datetime.datetime(2018, 11, 29, 17, 51, 12, 796000), 17, 29, 48, 11, 2018, 'Thursday')\n",
      "(datetime.datetime(2018, 11, 29, 17, 52, 18, 796000), 17, 29, 48, 11, 2018, 'Thursday')\n",
      "(datetime.datetime(2018, 11, 29, 17, 53, 45, 796000), 17, 29, 48, 11, 2018, 'Thursday')\n",
      "(datetime.datetime(2018, 11, 29, 17, 55, 54, 796000), 17, 29, 48, 11, 2018, 'Thursday')\n",
      "(datetime.datetime(2018, 11, 29, 17, 56, 29, 796000), 17, 29, 48, 11, 2018, 'Thursday')\n",
      "(datetime.datetime(2018, 11, 29, 17, 58, 58, 796000), 17, 29, 48, 11, 2018, 'Thursday')\n",
      "(datetime.datetime(2018, 11, 29, 17, 59, 53, 796000), 17, 29, 48, 11, 2018, 'Thursday')\n",
      "(datetime.datetime(2018, 11, 29, 18, 1, 37, 796000), 18, 29, 48, 11, 2018, 'Thursday')\n",
      "(datetime.datetime(2018, 11, 29, 18, 3, 18, 796000), 18, 29, 48, 11, 2018, 'Thursday')\n",
      "(datetime.datetime(2018, 11, 29, 18, 3, 38, 796000), 18, 29, 48, 11, 2018, 'Thursday')\n",
      "(datetime.datetime(2018, 11, 29, 18, 5, 39, 796000), 18, 29, 48, 11, 2018, 'Thursday')\n",
      "(datetime.datetime(2018, 11, 29, 18, 7, 55, 796000), 18, 29, 48, 11, 2018, 'Thursday')\n",
      "(datetime.datetime(2018, 11, 29, 18, 7, 57, 796000), 18, 29, 48, 11, 2018, 'Thursday')\n",
      "(datetime.datetime(2018, 11, 29, 18, 9, 1, 796000), 18, 29, 48, 11, 2018, 'Thursday')\n",
      "(datetime.datetime(2018, 11, 29, 18, 11, 0, 796000), 18, 29, 48, 11, 2018, 'Thursday')\n",
      "(datetime.datetime(2018, 11, 29, 18, 12, 55, 796000), 18, 29, 48, 11, 2018, 'Thursday')\n",
      "(datetime.datetime(2018, 11, 29, 18, 13, 2, 796000), 18, 29, 48, 11, 2018, 'Thursday')\n",
      "(datetime.datetime(2018, 11, 29, 18, 13, 45, 796000), 18, 29, 48, 11, 2018, 'Thursday')\n",
      "(datetime.datetime(2018, 11, 29, 18, 14, 44, 796000), 18, 29, 48, 11, 2018, 'Thursday')\n",
      "(datetime.datetime(2018, 11, 29, 18, 17, 33, 796000), 18, 29, 48, 11, 2018, 'Thursday')\n",
      "(datetime.datetime(2018, 11, 29, 18, 18, 9, 796000), 18, 29, 48, 11, 2018, 'Thursday')\n",
      "(datetime.datetime(2018, 11, 29, 18, 21, 12, 796000), 18, 29, 48, 11, 2018, 'Thursday')\n",
      "(datetime.datetime(2018, 11, 29, 18, 21, 24, 796000), 18, 29, 48, 11, 2018, 'Thursday')\n",
      "(datetime.datetime(2018, 11, 29, 18, 21, 52, 796000), 18, 29, 48, 11, 2018, 'Thursday')\n",
      "(datetime.datetime(2018, 11, 29, 18, 24, 29, 796000), 18, 29, 48, 11, 2018, 'Thursday')\n",
      "(datetime.datetime(2018, 11, 29, 18, 24, 38, 796000), 18, 29, 48, 11, 2018, 'Thursday')\n",
      "(datetime.datetime(2018, 11, 29, 18, 26, 27, 796000), 18, 29, 48, 11, 2018, 'Thursday')\n",
      "(datetime.datetime(2018, 11, 29, 18, 26, 53, 796000), 18, 29, 48, 11, 2018, 'Thursday')\n",
      "(datetime.datetime(2018, 11, 29, 18, 27, 24, 796000), 18, 29, 48, 11, 2018, 'Thursday')\n",
      "(datetime.datetime(2018, 11, 29, 18, 28, 34, 796000), 18, 29, 48, 11, 2018, 'Thursday')\n",
      "(datetime.datetime(2018, 11, 29, 18, 29, 50, 796000), 18, 29, 48, 11, 2018, 'Thursday')\n",
      "(datetime.datetime(2018, 11, 29, 18, 30, 15, 796000), 18, 29, 48, 11, 2018, 'Thursday')\n",
      "(datetime.datetime(2018, 11, 29, 18, 33, 4, 796000), 18, 29, 48, 11, 2018, 'Thursday')\n",
      "(datetime.datetime(2018, 11, 29, 18, 33, 35, 796000), 18, 29, 48, 11, 2018, 'Thursday')\n",
      "(datetime.datetime(2018, 11, 29, 18, 37, 25, 796000), 18, 29, 48, 11, 2018, 'Thursday')\n",
      "(datetime.datetime(2018, 11, 29, 18, 37, 53, 796000), 18, 29, 48, 11, 2018, 'Thursday')\n",
      "(datetime.datetime(2018, 11, 29, 18, 41, 9, 796000), 18, 29, 48, 11, 2018, 'Thursday')\n",
      "(datetime.datetime(2018, 11, 29, 18, 43, 31, 796000), 18, 29, 48, 11, 2018, 'Thursday')\n",
      "(datetime.datetime(2018, 11, 29, 18, 46, 10, 796000), 18, 29, 48, 11, 2018, 'Thursday')\n",
      "(datetime.datetime(2018, 11, 29, 18, 47, 30, 796000), 18, 29, 48, 11, 2018, 'Thursday')\n",
      "(datetime.datetime(2018, 11, 29, 18, 50, 54, 796000), 18, 29, 48, 11, 2018, 'Thursday')\n",
      "(datetime.datetime(2018, 11, 29, 18, 52, 0, 796000), 18, 29, 48, 11, 2018, 'Thursday')\n",
      "(datetime.datetime(2018, 11, 29, 18, 55, 24, 796000), 18, 29, 48, 11, 2018, 'Thursday')\n",
      "(datetime.datetime(2018, 11, 29, 18, 55, 30, 796000), 18, 29, 48, 11, 2018, 'Thursday')\n",
      "(datetime.datetime(2018, 11, 29, 18, 58, 33, 796000), 18, 29, 48, 11, 2018, 'Thursday')\n",
      "(datetime.datetime(2018, 11, 29, 19, 0, 17, 796000), 19, 29, 48, 11, 2018, 'Thursday')\n",
      "(datetime.datetime(2018, 11, 29, 19, 1, 40, 796000), 19, 29, 48, 11, 2018, 'Thursday')\n",
      "(datetime.datetime(2018, 11, 29, 19, 3, 58, 796000), 19, 29, 48, 11, 2018, 'Thursday')\n",
      "(datetime.datetime(2018, 11, 29, 19, 4, 44, 796000), 19, 29, 48, 11, 2018, 'Thursday')\n",
      "(datetime.datetime(2018, 11, 29, 19, 6, 24, 796000), 19, 29, 48, 11, 2018, 'Thursday')\n",
      "(datetime.datetime(2018, 11, 29, 19, 8, 41, 796000), 19, 29, 48, 11, 2018, 'Thursday')\n",
      "(datetime.datetime(2018, 11, 29, 19, 9, 47, 796000), 19, 29, 48, 11, 2018, 'Thursday')\n",
      "(datetime.datetime(2018, 11, 29, 19, 11, 39, 796000), 19, 29, 48, 11, 2018, 'Thursday')\n",
      "(datetime.datetime(2018, 11, 29, 19, 13, 4, 796000), 19, 29, 48, 11, 2018, 'Thursday')\n",
      "(datetime.datetime(2018, 11, 29, 19, 14, 56, 796000), 19, 29, 48, 11, 2018, 'Thursday')\n",
      "(datetime.datetime(2018, 11, 29, 19, 15, 33, 796000), 19, 29, 48, 11, 2018, 'Thursday')\n",
      "(datetime.datetime(2018, 11, 29, 19, 20, 7, 796000), 19, 29, 48, 11, 2018, 'Thursday')\n",
      "(datetime.datetime(2018, 11, 29, 19, 24, 39, 796000), 19, 29, 48, 11, 2018, 'Thursday')\n",
      "(datetime.datetime(2018, 11, 29, 19, 26, 31, 796000), 19, 29, 48, 11, 2018, 'Thursday')\n",
      "(datetime.datetime(2018, 11, 29, 19, 37, 26, 796000), 19, 29, 48, 11, 2018, 'Thursday')\n",
      "(datetime.datetime(2018, 11, 29, 19, 40, 17, 796000), 19, 29, 48, 11, 2018, 'Thursday')\n",
      "(datetime.datetime(2018, 11, 29, 19, 45, 18, 796000), 19, 29, 48, 11, 2018, 'Thursday')\n",
      "(datetime.datetime(2018, 11, 29, 20, 6, 2, 796000), 20, 29, 48, 11, 2018, 'Thursday')\n",
      "(datetime.datetime(2018, 11, 29, 20, 8, 58, 796000), 20, 29, 48, 11, 2018, 'Thursday')\n",
      "(datetime.datetime(2018, 11, 29, 20, 11, 7, 796000), 20, 29, 48, 11, 2018, 'Thursday')\n",
      "(datetime.datetime(2018, 11, 29, 20, 14, 33, 796000), 20, 29, 48, 11, 2018, 'Thursday')\n",
      "(datetime.datetime(2018, 11, 29, 20, 18, 35, 796000), 20, 29, 48, 11, 2018, 'Thursday')\n",
      "(datetime.datetime(2018, 11, 29, 20, 21, 41, 796000), 20, 29, 48, 11, 2018, 'Thursday')\n",
      "(datetime.datetime(2018, 11, 29, 20, 25, 19, 796000), 20, 29, 48, 11, 2018, 'Thursday')\n",
      "(datetime.datetime(2018, 11, 29, 20, 29, 23, 796000), 20, 29, 48, 11, 2018, 'Thursday')\n",
      "(datetime.datetime(2018, 11, 29, 20, 34, 33, 796000), 20, 29, 48, 11, 2018, 'Thursday')\n",
      "(datetime.datetime(2018, 11, 29, 20, 38, 41, 796000), 20, 29, 48, 11, 2018, 'Thursday')\n",
      "(datetime.datetime(2018, 11, 29, 20, 39, 10, 796000), 20, 29, 48, 11, 2018, 'Thursday')\n",
      "(datetime.datetime(2018, 11, 29, 20, 43, 6, 796000), 20, 29, 48, 11, 2018, 'Thursday')\n",
      "(datetime.datetime(2018, 11, 29, 20, 43, 7, 796000), 20, 29, 48, 11, 2018, 'Thursday')\n",
      "(datetime.datetime(2018, 11, 29, 20, 46, 47, 796000), 20, 29, 48, 11, 2018, 'Thursday')\n",
      "(datetime.datetime(2018, 11, 29, 20, 46, 54, 796000), 20, 29, 48, 11, 2018, 'Thursday')\n",
      "(datetime.datetime(2018, 11, 29, 20, 51, 10, 796000), 20, 29, 48, 11, 2018, 'Thursday')\n",
      "(datetime.datetime(2018, 11, 29, 20, 52, 5, 796000), 20, 29, 48, 11, 2018, 'Thursday')\n",
      "(datetime.datetime(2018, 11, 29, 20, 54, 7, 796000), 20, 29, 48, 11, 2018, 'Thursday')\n",
      "(datetime.datetime(2018, 11, 29, 20, 54, 41, 796000), 20, 29, 48, 11, 2018, 'Thursday')\n",
      "(datetime.datetime(2018, 11, 29, 20, 58, 44, 796000), 20, 29, 48, 11, 2018, 'Thursday')\n",
      "(datetime.datetime(2018, 11, 29, 21, 0, 3, 796000), 21, 29, 48, 11, 2018, 'Thursday')\n",
      "(datetime.datetime(2018, 11, 29, 21, 1, 7, 796000), 21, 29, 48, 11, 2018, 'Thursday')\n",
      "(datetime.datetime(2018, 11, 29, 21, 3, 20, 796000), 21, 29, 48, 11, 2018, 'Thursday')\n",
      "(datetime.datetime(2018, 11, 29, 21, 6, 3, 796000), 21, 29, 48, 11, 2018, 'Thursday')\n",
      "(datetime.datetime(2018, 11, 29, 21, 6, 35, 796000), 21, 29, 48, 11, 2018, 'Thursday')\n",
      "(datetime.datetime(2018, 11, 29, 21, 9, 20, 796000), 21, 29, 48, 11, 2018, 'Thursday')\n",
      "(datetime.datetime(2018, 11, 29, 21, 12, 56, 796000), 21, 29, 48, 11, 2018, 'Thursday')\n",
      "(datetime.datetime(2018, 11, 29, 21, 14, 16, 796000), 21, 29, 48, 11, 2018, 'Thursday')\n",
      "(datetime.datetime(2018, 11, 29, 21, 14, 49, 796000), 21, 29, 48, 11, 2018, 'Thursday')\n",
      "(datetime.datetime(2018, 11, 29, 21, 16, 53, 796000), 21, 29, 48, 11, 2018, 'Thursday')\n",
      "(datetime.datetime(2018, 11, 29, 21, 17, 30, 796000), 21, 29, 48, 11, 2018, 'Thursday')\n",
      "(datetime.datetime(2018, 11, 29, 21, 19, 18, 796000), 21, 29, 48, 11, 2018, 'Thursday')\n",
      "(datetime.datetime(2018, 11, 29, 21, 20, 57, 796000), 21, 29, 48, 11, 2018, 'Thursday')\n",
      "(datetime.datetime(2018, 11, 29, 21, 21, 47, 796000), 21, 29, 48, 11, 2018, 'Thursday')\n",
      "(datetime.datetime(2018, 11, 29, 21, 22, 18, 796000), 21, 29, 48, 11, 2018, 'Thursday')\n",
      "(datetime.datetime(2018, 11, 29, 21, 24, 3, 796000), 21, 29, 48, 11, 2018, 'Thursday')\n",
      "(datetime.datetime(2018, 11, 29, 21, 24, 35, 796000), 21, 29, 48, 11, 2018, 'Thursday')\n",
      "(datetime.datetime(2018, 11, 29, 21, 27, 0, 796000), 21, 29, 48, 11, 2018, 'Thursday')\n",
      "(datetime.datetime(2018, 11, 29, 21, 27, 48, 796000), 21, 29, 48, 11, 2018, 'Thursday')\n",
      "(datetime.datetime(2018, 11, 29, 21, 27, 50, 796000), 21, 29, 48, 11, 2018, 'Thursday')\n",
      "(datetime.datetime(2018, 11, 29, 21, 30, 47, 796000), 21, 29, 48, 11, 2018, 'Thursday')\n",
      "(datetime.datetime(2018, 11, 29, 21, 31, 34, 796000), 21, 29, 48, 11, 2018, 'Thursday')\n",
      "(datetime.datetime(2018, 11, 29, 21, 34, 25, 796000), 21, 29, 48, 11, 2018, 'Thursday')\n",
      "(datetime.datetime(2018, 11, 29, 21, 34, 28, 796000), 21, 29, 48, 11, 2018, 'Thursday')\n",
      "(datetime.datetime(2018, 11, 29, 21, 38, 8, 796000), 21, 29, 48, 11, 2018, 'Thursday')\n",
      "(datetime.datetime(2018, 11, 29, 21, 42, 10, 796000), 21, 29, 48, 11, 2018, 'Thursday')\n",
      "(datetime.datetime(2018, 11, 29, 21, 46, 49, 796000), 21, 29, 48, 11, 2018, 'Thursday')\n",
      "(datetime.datetime(2018, 11, 29, 21, 52, 57, 796000), 21, 29, 48, 11, 2018, 'Thursday')\n",
      "(datetime.datetime(2018, 11, 29, 21, 57, 16, 796000), 21, 29, 48, 11, 2018, 'Thursday')\n",
      "(datetime.datetime(2018, 11, 29, 22, 0, 31, 796000), 22, 29, 48, 11, 2018, 'Thursday')\n",
      "(datetime.datetime(2018, 11, 29, 22, 6, 36, 796000), 22, 29, 48, 11, 2018, 'Thursday')\n",
      "(datetime.datetime(2018, 11, 29, 22, 9, 57, 796000), 22, 29, 48, 11, 2018, 'Thursday')\n",
      "(datetime.datetime(2018, 11, 29, 22, 10, 17, 796000), 22, 29, 48, 11, 2018, 'Thursday')\n",
      "(datetime.datetime(2018, 11, 29, 22, 13, 15, 796000), 22, 29, 48, 11, 2018, 'Thursday')\n",
      "(datetime.datetime(2018, 11, 29, 22, 13, 38, 796000), 22, 29, 48, 11, 2018, 'Thursday')\n",
      "(datetime.datetime(2018, 11, 29, 22, 17, 38, 796000), 22, 29, 48, 11, 2018, 'Thursday')\n",
      "(datetime.datetime(2018, 11, 29, 22, 21, 31, 796000), 22, 29, 48, 11, 2018, 'Thursday')\n",
      "(datetime.datetime(2018, 11, 29, 22, 27, 31, 796000), 22, 29, 48, 11, 2018, 'Thursday')\n",
      "(datetime.datetime(2018, 11, 29, 22, 32, 49, 796000), 22, 29, 48, 11, 2018, 'Thursday')\n",
      "(datetime.datetime(2018, 11, 29, 22, 35, 44, 796000), 22, 29, 48, 11, 2018, 'Thursday')\n",
      "(datetime.datetime(2018, 11, 29, 22, 39, 38, 796000), 22, 29, 48, 11, 2018, 'Thursday')\n",
      "(datetime.datetime(2018, 11, 29, 22, 42, 52, 796000), 22, 29, 48, 11, 2018, 'Thursday')\n",
      "(datetime.datetime(2018, 11, 29, 22, 46, 23, 796000), 22, 29, 48, 11, 2018, 'Thursday')\n",
      "(datetime.datetime(2018, 11, 29, 22, 50, 27, 796000), 22, 29, 48, 11, 2018, 'Thursday')\n",
      "(datetime.datetime(2018, 11, 29, 22, 51, 18, 796000), 22, 29, 48, 11, 2018, 'Thursday')\n",
      "(datetime.datetime(2018, 11, 29, 22, 53, 32, 796000), 22, 29, 48, 11, 2018, 'Thursday')\n",
      "(datetime.datetime(2018, 11, 29, 22, 57, 22, 796000), 22, 29, 48, 11, 2018, 'Thursday')\n",
      "(datetime.datetime(2018, 11, 29, 23, 2, 5, 796000), 23, 29, 48, 11, 2018, 'Thursday')\n",
      "(datetime.datetime(2018, 11, 29, 23, 5, 13, 796000), 23, 29, 48, 11, 2018, 'Thursday')\n",
      "(datetime.datetime(2018, 11, 29, 23, 18, 35, 796000), 23, 29, 48, 11, 2018, 'Thursday')\n"
     ]
    }
   ],
   "source": [
    "# Check if all rows inserted in the relevant table as expected\n",
    "cur.execute(\"select * from time;\")\n",
    "row = cur.fetchone()\n",
    "while row:\n",
    "    print(row)\n",
    "    row = cur.fetchone()"
   ]
  },
  {
   "cell_type": "markdown",
   "metadata": {
    "editable": true
   },
   "source": [
    "## #4: `users` Table\n",
    "#### Extract Data for Users Table\n",
    "- Select columns for user ID, first name, last name, gender and level and set to `user_df`"
   ]
  },
  {
   "cell_type": "code",
   "execution_count": 34,
   "metadata": {
    "editable": true
   },
   "outputs": [
    {
     "data": {
      "text/html": [
       "<div>\n",
       "<style scoped>\n",
       "    .dataframe tbody tr th:only-of-type {\n",
       "        vertical-align: middle;\n",
       "    }\n",
       "\n",
       "    .dataframe tbody tr th {\n",
       "        vertical-align: top;\n",
       "    }\n",
       "\n",
       "    .dataframe thead th {\n",
       "        text-align: right;\n",
       "    }\n",
       "</style>\n",
       "<table border=\"1\" class=\"dataframe\">\n",
       "  <thead>\n",
       "    <tr style=\"text-align: right;\">\n",
       "      <th></th>\n",
       "      <th>artist</th>\n",
       "      <th>auth</th>\n",
       "      <th>firstName</th>\n",
       "      <th>gender</th>\n",
       "      <th>itemInSession</th>\n",
       "      <th>lastName</th>\n",
       "      <th>length</th>\n",
       "      <th>level</th>\n",
       "      <th>location</th>\n",
       "      <th>method</th>\n",
       "      <th>page</th>\n",
       "      <th>registration</th>\n",
       "      <th>sessionId</th>\n",
       "      <th>song</th>\n",
       "      <th>status</th>\n",
       "      <th>ts</th>\n",
       "      <th>userAgent</th>\n",
       "      <th>userId</th>\n",
       "    </tr>\n",
       "  </thead>\n",
       "  <tbody>\n",
       "    <tr>\n",
       "      <th>0</th>\n",
       "      <td>Sydney Youngblood</td>\n",
       "      <td>Logged In</td>\n",
       "      <td>Jacob</td>\n",
       "      <td>M</td>\n",
       "      <td>53</td>\n",
       "      <td>Klein</td>\n",
       "      <td>238.07955</td>\n",
       "      <td>paid</td>\n",
       "      <td>Tampa-St. Petersburg-Clearwater, FL</td>\n",
       "      <td>PUT</td>\n",
       "      <td>NextSong</td>\n",
       "      <td>1.540558e+12</td>\n",
       "      <td>954</td>\n",
       "      <td>Ain't No Sunshine</td>\n",
       "      <td>200</td>\n",
       "      <td>1543449657796</td>\n",
       "      <td>\"Mozilla/5.0 (Macintosh; Intel Mac OS X 10_9_4...</td>\n",
       "      <td>73</td>\n",
       "    </tr>\n",
       "    <tr>\n",
       "      <th>1</th>\n",
       "      <td>Gang Starr</td>\n",
       "      <td>Logged In</td>\n",
       "      <td>Layla</td>\n",
       "      <td>F</td>\n",
       "      <td>88</td>\n",
       "      <td>Griffin</td>\n",
       "      <td>151.92771</td>\n",
       "      <td>paid</td>\n",
       "      <td>Lake Havasu City-Kingman, AZ</td>\n",
       "      <td>PUT</td>\n",
       "      <td>NextSong</td>\n",
       "      <td>1.541057e+12</td>\n",
       "      <td>984</td>\n",
       "      <td>My Advice 2 You (Explicit)</td>\n",
       "      <td>200</td>\n",
       "      <td>1543449690796</td>\n",
       "      <td>\"Mozilla/5.0 (Windows NT 6.1; WOW64) AppleWebK...</td>\n",
       "      <td>24</td>\n",
       "    </tr>\n",
       "    <tr>\n",
       "      <th>2</th>\n",
       "      <td>3OH!3</td>\n",
       "      <td>Logged In</td>\n",
       "      <td>Layla</td>\n",
       "      <td>F</td>\n",
       "      <td>89</td>\n",
       "      <td>Griffin</td>\n",
       "      <td>192.52200</td>\n",
       "      <td>paid</td>\n",
       "      <td>Lake Havasu City-Kingman, AZ</td>\n",
       "      <td>PUT</td>\n",
       "      <td>NextSong</td>\n",
       "      <td>1.541057e+12</td>\n",
       "      <td>984</td>\n",
       "      <td>My First Kiss (Feat. Ke$ha) [Album Version]</td>\n",
       "      <td>200</td>\n",
       "      <td>1543449841796</td>\n",
       "      <td>\"Mozilla/5.0 (Windows NT 6.1; WOW64) AppleWebK...</td>\n",
       "      <td>24</td>\n",
       "    </tr>\n",
       "    <tr>\n",
       "      <th>3</th>\n",
       "      <td>RÃÂ¶yksopp</td>\n",
       "      <td>Logged In</td>\n",
       "      <td>Jacob</td>\n",
       "      <td>M</td>\n",
       "      <td>54</td>\n",
       "      <td>Klein</td>\n",
       "      <td>369.81506</td>\n",
       "      <td>paid</td>\n",
       "      <td>Tampa-St. Petersburg-Clearwater, FL</td>\n",
       "      <td>PUT</td>\n",
       "      <td>NextSong</td>\n",
       "      <td>1.540558e+12</td>\n",
       "      <td>954</td>\n",
       "      <td>The Girl and The Robot</td>\n",
       "      <td>200</td>\n",
       "      <td>1543449895796</td>\n",
       "      <td>\"Mozilla/5.0 (Macintosh; Intel Mac OS X 10_9_4...</td>\n",
       "      <td>73</td>\n",
       "    </tr>\n",
       "    <tr>\n",
       "      <th>4</th>\n",
       "      <td>Kajagoogoo</td>\n",
       "      <td>Logged In</td>\n",
       "      <td>Layla</td>\n",
       "      <td>F</td>\n",
       "      <td>90</td>\n",
       "      <td>Griffin</td>\n",
       "      <td>223.55546</td>\n",
       "      <td>paid</td>\n",
       "      <td>Lake Havasu City-Kingman, AZ</td>\n",
       "      <td>PUT</td>\n",
       "      <td>NextSong</td>\n",
       "      <td>1.541057e+12</td>\n",
       "      <td>984</td>\n",
       "      <td>Too Shy</td>\n",
       "      <td>200</td>\n",
       "      <td>1543450033796</td>\n",
       "      <td>\"Mozilla/5.0 (Windows NT 6.1; WOW64) AppleWebK...</td>\n",
       "      <td>24</td>\n",
       "    </tr>\n",
       "  </tbody>\n",
       "</table>\n",
       "</div>"
      ],
      "text/plain": [
       "              artist       auth firstName gender  itemInSession lastName  \\\n",
       "0  Sydney Youngblood  Logged In     Jacob      M             53    Klein   \n",
       "1         Gang Starr  Logged In     Layla      F             88  Griffin   \n",
       "2              3OH!3  Logged In     Layla      F             89  Griffin   \n",
       "3        RÃÂ¶yksopp  Logged In     Jacob      M             54    Klein   \n",
       "4         Kajagoogoo  Logged In     Layla      F             90  Griffin   \n",
       "\n",
       "      length level                             location method      page  \\\n",
       "0  238.07955  paid  Tampa-St. Petersburg-Clearwater, FL    PUT  NextSong   \n",
       "1  151.92771  paid         Lake Havasu City-Kingman, AZ    PUT  NextSong   \n",
       "2  192.52200  paid         Lake Havasu City-Kingman, AZ    PUT  NextSong   \n",
       "3  369.81506  paid  Tampa-St. Petersburg-Clearwater, FL    PUT  NextSong   \n",
       "4  223.55546  paid         Lake Havasu City-Kingman, AZ    PUT  NextSong   \n",
       "\n",
       "   registration  sessionId                                         song  \\\n",
       "0  1.540558e+12        954                            Ain't No Sunshine   \n",
       "1  1.541057e+12        984                   My Advice 2 You (Explicit)   \n",
       "2  1.541057e+12        984  My First Kiss (Feat. Ke$ha) [Album Version]   \n",
       "3  1.540558e+12        954                       The Girl and The Robot   \n",
       "4  1.541057e+12        984                                      Too Shy   \n",
       "\n",
       "   status             ts                                          userAgent  \\\n",
       "0     200  1543449657796  \"Mozilla/5.0 (Macintosh; Intel Mac OS X 10_9_4...   \n",
       "1     200  1543449690796  \"Mozilla/5.0 (Windows NT 6.1; WOW64) AppleWebK...   \n",
       "2     200  1543449841796  \"Mozilla/5.0 (Windows NT 6.1; WOW64) AppleWebK...   \n",
       "3     200  1543449895796  \"Mozilla/5.0 (Macintosh; Intel Mac OS X 10_9_4...   \n",
       "4     200  1543450033796  \"Mozilla/5.0 (Windows NT 6.1; WOW64) AppleWebK...   \n",
       "\n",
       "  userId  \n",
       "0     73  \n",
       "1     24  \n",
       "2     24  \n",
       "3     73  \n",
       "4     24  "
      ]
     },
     "execution_count": 34,
     "metadata": {},
     "output_type": "execute_result"
    }
   ],
   "source": [
    "df.head()"
   ]
  },
  {
   "cell_type": "code",
   "execution_count": 35,
   "metadata": {
    "editable": true
   },
   "outputs": [
    {
     "data": {
      "text/html": [
       "<div>\n",
       "<style scoped>\n",
       "    .dataframe tbody tr th:only-of-type {\n",
       "        vertical-align: middle;\n",
       "    }\n",
       "\n",
       "    .dataframe tbody tr th {\n",
       "        vertical-align: top;\n",
       "    }\n",
       "\n",
       "    .dataframe thead th {\n",
       "        text-align: right;\n",
       "    }\n",
       "</style>\n",
       "<table border=\"1\" class=\"dataframe\">\n",
       "  <thead>\n",
       "    <tr style=\"text-align: right;\">\n",
       "      <th></th>\n",
       "      <th>userId</th>\n",
       "      <th>firstName</th>\n",
       "      <th>lastName</th>\n",
       "      <th>gender</th>\n",
       "      <th>level</th>\n",
       "    </tr>\n",
       "  </thead>\n",
       "  <tbody>\n",
       "    <tr>\n",
       "      <th>0</th>\n",
       "      <td>73</td>\n",
       "      <td>Jacob</td>\n",
       "      <td>Klein</td>\n",
       "      <td>M</td>\n",
       "      <td>paid</td>\n",
       "    </tr>\n",
       "    <tr>\n",
       "      <th>1</th>\n",
       "      <td>24</td>\n",
       "      <td>Layla</td>\n",
       "      <td>Griffin</td>\n",
       "      <td>F</td>\n",
       "      <td>paid</td>\n",
       "    </tr>\n",
       "    <tr>\n",
       "      <th>2</th>\n",
       "      <td>24</td>\n",
       "      <td>Layla</td>\n",
       "      <td>Griffin</td>\n",
       "      <td>F</td>\n",
       "      <td>paid</td>\n",
       "    </tr>\n",
       "    <tr>\n",
       "      <th>3</th>\n",
       "      <td>73</td>\n",
       "      <td>Jacob</td>\n",
       "      <td>Klein</td>\n",
       "      <td>M</td>\n",
       "      <td>paid</td>\n",
       "    </tr>\n",
       "    <tr>\n",
       "      <th>4</th>\n",
       "      <td>24</td>\n",
       "      <td>Layla</td>\n",
       "      <td>Griffin</td>\n",
       "      <td>F</td>\n",
       "      <td>paid</td>\n",
       "    </tr>\n",
       "  </tbody>\n",
       "</table>\n",
       "</div>"
      ],
      "text/plain": [
       "  userId firstName lastName gender level\n",
       "0     73     Jacob    Klein      M  paid\n",
       "1     24     Layla  Griffin      F  paid\n",
       "2     24     Layla  Griffin      F  paid\n",
       "3     73     Jacob    Klein      M  paid\n",
       "4     24     Layla  Griffin      F  paid"
      ]
     },
     "execution_count": 35,
     "metadata": {},
     "output_type": "execute_result"
    }
   ],
   "source": [
    "user_df = df[['userId', 'firstName', 'lastName', 'gender', 'level']]\n",
    "user_df.head()"
   ]
  },
  {
   "cell_type": "markdown",
   "metadata": {
    "editable": true
   },
   "source": [
    "#### Insert Records into Users Table\n",
    "Implement the `user_table_insert` query in `sql_queries.py` and run the cell below to insert records for the users in this log file into the `users` table. Remember to run `create_tables.py` before running the cell below to ensure you've created/resetted the `users` table in the sparkify database."
   ]
  },
  {
   "cell_type": "code",
   "execution_count": 36,
   "metadata": {
    "editable": true
   },
   "outputs": [],
   "source": [
    "for i, row in user_df.iterrows():\n",
    "    cur.execute(user_table_insert, row)\n",
    "    conn.commit()"
   ]
  },
  {
   "cell_type": "markdown",
   "metadata": {
    "editable": true
   },
   "source": [
    "Run `test.ipynb` to see if you've successfully added records to this table."
   ]
  },
  {
   "cell_type": "code",
   "execution_count": 37,
   "metadata": {
    "editable": true
   },
   "outputs": [
    {
     "name": "stdout",
     "output_type": "stream",
     "text": [
      "(73, 'Jacob', 'Klein', 'M', 'paid')\n",
      "(50, 'Ava', 'Robinson', 'F', 'free')\n",
      "(4, 'Alivia', 'Terrell', 'F', 'free')\n",
      "(24, 'Layla', 'Griffin', 'F', 'paid')\n",
      "(54, 'Kaleb', 'Cook', 'M', 'free')\n",
      "(14, 'Theodore', 'Harris', 'M', 'free')\n",
      "(98, 'Jordyn', 'Powell', 'F', 'free')\n",
      "(55, 'Martin', 'Johnson', 'M', 'free')\n",
      "(78, 'Chloe', 'Roth', 'F', 'free')\n",
      "(101, 'Jayden', 'Fox', 'M', 'free')\n",
      "(10, 'Sylvie', 'Cruz', 'F', 'free')\n",
      "(52, 'Theodore', 'Smith', 'M', 'free')\n",
      "(12, 'Austin', 'Rosales', 'M', 'free')\n",
      "(49, 'Chloe', 'Cuevas', 'F', 'paid')\n",
      "(9, 'Wyatt', 'Scott', 'M', 'free')\n",
      "(39, 'Walter', 'Frye', 'M', 'free')\n",
      "(75, 'Joseph', 'Gutierrez', 'M', 'free')\n",
      "(22, 'Sean', 'Wilson', 'F', 'free')\n",
      "(32, 'Lily', 'Burns', 'F', 'free')\n",
      "(79, 'James', 'Martin', 'M', 'free')\n",
      "(74, 'Braden', 'Parker', 'M', 'free')\n",
      "(44, 'Aleena', 'Kirby', 'F', 'paid')\n",
      "(26, 'Ryan', 'Smith', 'M', 'free')\n",
      "(80, 'Tegan', 'Levine', 'F', 'paid')\n",
      "(89, 'Kynnedi', 'Sanchez', 'F', 'free')\n",
      "(82, 'Avery', 'Martinez', 'F', 'paid')\n",
      "(16, 'Rylan', 'George', 'M', 'paid')\n"
     ]
    }
   ],
   "source": [
    "# Check if all rows inserted in the relevant table as expected\n",
    "cur.execute(\"select * from users;\")\n",
    "row = cur.fetchone()\n",
    "while row:\n",
    "    print(row)\n",
    "    row = cur.fetchone()"
   ]
  },
  {
   "cell_type": "markdown",
   "metadata": {
    "editable": true
   },
   "source": [
    "## #5: `songplays` Table\n",
    "#### Extract Data and Songplays Table\n",
    "This one is a little more complicated since information from the songs table, artists table, and original log file are all needed for the `songplays` table. Since the log file does not specify an ID for either the song or the artist, you'll need to get the song ID and artist ID by querying the songs and artists tables to find matches based on song title, artist name, and song duration time.\n",
    "- Implement the `song_select` query in `sql_queries.py` to find the song ID and artist ID based on the title, artist name, and duration of a song.\n",
    "- Select the timestamp, user ID, level, song ID, artist ID, session ID, location, and user agent and set to `songplay_data`\n",
    "\n",
    "#### Insert Records into Songplays Table\n",
    "- Implement the `songplay_table_insert` query and run the cell below to insert records for the songplay actions in this log file into the `songplays` table. Remember to run `create_tables.py` before running the cell below to ensure you've created/resetted the `songplays` table in the sparkify database."
   ]
  },
  {
   "cell_type": "code",
   "execution_count": 40,
   "metadata": {
    "editable": true
   },
   "outputs": [
    {
     "data": {
      "text/html": [
       "<div>\n",
       "<style scoped>\n",
       "    .dataframe tbody tr th:only-of-type {\n",
       "        vertical-align: middle;\n",
       "    }\n",
       "\n",
       "    .dataframe tbody tr th {\n",
       "        vertical-align: top;\n",
       "    }\n",
       "\n",
       "    .dataframe thead th {\n",
       "        text-align: right;\n",
       "    }\n",
       "</style>\n",
       "<table border=\"1\" class=\"dataframe\">\n",
       "  <thead>\n",
       "    <tr style=\"text-align: right;\">\n",
       "      <th></th>\n",
       "      <th>artist</th>\n",
       "      <th>auth</th>\n",
       "      <th>firstName</th>\n",
       "      <th>gender</th>\n",
       "      <th>itemInSession</th>\n",
       "      <th>lastName</th>\n",
       "      <th>length</th>\n",
       "      <th>level</th>\n",
       "      <th>location</th>\n",
       "      <th>method</th>\n",
       "      <th>page</th>\n",
       "      <th>registration</th>\n",
       "      <th>sessionId</th>\n",
       "      <th>song</th>\n",
       "      <th>status</th>\n",
       "      <th>ts</th>\n",
       "      <th>userAgent</th>\n",
       "      <th>userId</th>\n",
       "    </tr>\n",
       "  </thead>\n",
       "  <tbody>\n",
       "    <tr>\n",
       "      <th>0</th>\n",
       "      <td>Sydney Youngblood</td>\n",
       "      <td>Logged In</td>\n",
       "      <td>Jacob</td>\n",
       "      <td>M</td>\n",
       "      <td>53</td>\n",
       "      <td>Klein</td>\n",
       "      <td>238.07955</td>\n",
       "      <td>paid</td>\n",
       "      <td>Tampa-St. Petersburg-Clearwater, FL</td>\n",
       "      <td>PUT</td>\n",
       "      <td>NextSong</td>\n",
       "      <td>1.540558e+12</td>\n",
       "      <td>954</td>\n",
       "      <td>Ain't No Sunshine</td>\n",
       "      <td>200</td>\n",
       "      <td>1543449657796</td>\n",
       "      <td>\"Mozilla/5.0 (Macintosh; Intel Mac OS X 10_9_4...</td>\n",
       "      <td>73</td>\n",
       "    </tr>\n",
       "    <tr>\n",
       "      <th>1</th>\n",
       "      <td>Gang Starr</td>\n",
       "      <td>Logged In</td>\n",
       "      <td>Layla</td>\n",
       "      <td>F</td>\n",
       "      <td>88</td>\n",
       "      <td>Griffin</td>\n",
       "      <td>151.92771</td>\n",
       "      <td>paid</td>\n",
       "      <td>Lake Havasu City-Kingman, AZ</td>\n",
       "      <td>PUT</td>\n",
       "      <td>NextSong</td>\n",
       "      <td>1.541057e+12</td>\n",
       "      <td>984</td>\n",
       "      <td>My Advice 2 You (Explicit)</td>\n",
       "      <td>200</td>\n",
       "      <td>1543449690796</td>\n",
       "      <td>\"Mozilla/5.0 (Windows NT 6.1; WOW64) AppleWebK...</td>\n",
       "      <td>24</td>\n",
       "    </tr>\n",
       "    <tr>\n",
       "      <th>2</th>\n",
       "      <td>3OH!3</td>\n",
       "      <td>Logged In</td>\n",
       "      <td>Layla</td>\n",
       "      <td>F</td>\n",
       "      <td>89</td>\n",
       "      <td>Griffin</td>\n",
       "      <td>192.52200</td>\n",
       "      <td>paid</td>\n",
       "      <td>Lake Havasu City-Kingman, AZ</td>\n",
       "      <td>PUT</td>\n",
       "      <td>NextSong</td>\n",
       "      <td>1.541057e+12</td>\n",
       "      <td>984</td>\n",
       "      <td>My First Kiss (Feat. Ke$ha) [Album Version]</td>\n",
       "      <td>200</td>\n",
       "      <td>1543449841796</td>\n",
       "      <td>\"Mozilla/5.0 (Windows NT 6.1; WOW64) AppleWebK...</td>\n",
       "      <td>24</td>\n",
       "    </tr>\n",
       "    <tr>\n",
       "      <th>3</th>\n",
       "      <td>RÃÂ¶yksopp</td>\n",
       "      <td>Logged In</td>\n",
       "      <td>Jacob</td>\n",
       "      <td>M</td>\n",
       "      <td>54</td>\n",
       "      <td>Klein</td>\n",
       "      <td>369.81506</td>\n",
       "      <td>paid</td>\n",
       "      <td>Tampa-St. Petersburg-Clearwater, FL</td>\n",
       "      <td>PUT</td>\n",
       "      <td>NextSong</td>\n",
       "      <td>1.540558e+12</td>\n",
       "      <td>954</td>\n",
       "      <td>The Girl and The Robot</td>\n",
       "      <td>200</td>\n",
       "      <td>1543449895796</td>\n",
       "      <td>\"Mozilla/5.0 (Macintosh; Intel Mac OS X 10_9_4...</td>\n",
       "      <td>73</td>\n",
       "    </tr>\n",
       "    <tr>\n",
       "      <th>4</th>\n",
       "      <td>Kajagoogoo</td>\n",
       "      <td>Logged In</td>\n",
       "      <td>Layla</td>\n",
       "      <td>F</td>\n",
       "      <td>90</td>\n",
       "      <td>Griffin</td>\n",
       "      <td>223.55546</td>\n",
       "      <td>paid</td>\n",
       "      <td>Lake Havasu City-Kingman, AZ</td>\n",
       "      <td>PUT</td>\n",
       "      <td>NextSong</td>\n",
       "      <td>1.541057e+12</td>\n",
       "      <td>984</td>\n",
       "      <td>Too Shy</td>\n",
       "      <td>200</td>\n",
       "      <td>1543450033796</td>\n",
       "      <td>\"Mozilla/5.0 (Windows NT 6.1; WOW64) AppleWebK...</td>\n",
       "      <td>24</td>\n",
       "    </tr>\n",
       "  </tbody>\n",
       "</table>\n",
       "</div>"
      ],
      "text/plain": [
       "              artist       auth firstName gender  itemInSession lastName  \\\n",
       "0  Sydney Youngblood  Logged In     Jacob      M             53    Klein   \n",
       "1         Gang Starr  Logged In     Layla      F             88  Griffin   \n",
       "2              3OH!3  Logged In     Layla      F             89  Griffin   \n",
       "3        RÃÂ¶yksopp  Logged In     Jacob      M             54    Klein   \n",
       "4         Kajagoogoo  Logged In     Layla      F             90  Griffin   \n",
       "\n",
       "      length level                             location method      page  \\\n",
       "0  238.07955  paid  Tampa-St. Petersburg-Clearwater, FL    PUT  NextSong   \n",
       "1  151.92771  paid         Lake Havasu City-Kingman, AZ    PUT  NextSong   \n",
       "2  192.52200  paid         Lake Havasu City-Kingman, AZ    PUT  NextSong   \n",
       "3  369.81506  paid  Tampa-St. Petersburg-Clearwater, FL    PUT  NextSong   \n",
       "4  223.55546  paid         Lake Havasu City-Kingman, AZ    PUT  NextSong   \n",
       "\n",
       "   registration  sessionId                                         song  \\\n",
       "0  1.540558e+12        954                            Ain't No Sunshine   \n",
       "1  1.541057e+12        984                   My Advice 2 You (Explicit)   \n",
       "2  1.541057e+12        984  My First Kiss (Feat. Ke$ha) [Album Version]   \n",
       "3  1.540558e+12        954                       The Girl and The Robot   \n",
       "4  1.541057e+12        984                                      Too Shy   \n",
       "\n",
       "   status             ts                                          userAgent  \\\n",
       "0     200  1543449657796  \"Mozilla/5.0 (Macintosh; Intel Mac OS X 10_9_4...   \n",
       "1     200  1543449690796  \"Mozilla/5.0 (Windows NT 6.1; WOW64) AppleWebK...   \n",
       "2     200  1543449841796  \"Mozilla/5.0 (Windows NT 6.1; WOW64) AppleWebK...   \n",
       "3     200  1543449895796  \"Mozilla/5.0 (Macintosh; Intel Mac OS X 10_9_4...   \n",
       "4     200  1543450033796  \"Mozilla/5.0 (Windows NT 6.1; WOW64) AppleWebK...   \n",
       "\n",
       "  userId  \n",
       "0     73  \n",
       "1     24  \n",
       "2     24  \n",
       "3     73  \n",
       "4     24  "
      ]
     },
     "execution_count": 40,
     "metadata": {},
     "output_type": "execute_result"
    }
   ],
   "source": [
    "df.head()"
   ]
  },
  {
   "cell_type": "code",
   "execution_count": 41,
   "metadata": {
    "editable": true
   },
   "outputs": [],
   "source": [
    "for index, row in df.iterrows():\n",
    "\n",
    "    # get songid and artistid from song and artist tables\n",
    "    cur.execute(song_select, (row.song, row.artist, row.length))\n",
    "    results = cur.fetchone()\n",
    "    \n",
    "    if results:\n",
    "        songid, artistid = results\n",
    "    else:\n",
    "        songid, artistid = None, None\n",
    "\n",
    "    # insert songplay record\n",
    "    # start_time, user_id, level, song_id, artist_id, session_id, location, user_agent\n",
    "    songplay_data = (pd.to_datetime(row.ts, unit='ms'), row.userId, row.level, songid, artistid, row.sessionId, row.location, row.userAgent)\n",
    "    cur.execute(songplay_table_insert, songplay_data)\n",
    "    conn.commit()"
   ]
  },
  {
   "cell_type": "markdown",
   "metadata": {
    "editable": true
   },
   "source": [
    "Run `test.ipynb` to see if you've successfully added records to this table."
   ]
  },
  {
   "cell_type": "code",
   "execution_count": 42,
   "metadata": {
    "editable": true
   },
   "outputs": [
    {
     "name": "stdout",
     "output_type": "stream",
     "text": [
      "(1, datetime.datetime(2018, 11, 29, 0, 0, 57, 796000), 73, 'paid', None, None, 954, 'Tampa-St. Petersburg-Clearwater, FL', '\"Mozilla/5.0 (Macintosh; Intel Mac OS X 10_9_4) AppleWebKit/537.78.2 (KHTML, like Gecko) Version/7.0.6 Safari/537.78.2\"')\n",
      "(2, datetime.datetime(2018, 11, 29, 0, 1, 30, 796000), 24, 'paid', None, None, 984, 'Lake Havasu City-Kingman, AZ', '\"Mozilla/5.0 (Windows NT 6.1; WOW64) AppleWebKit/537.36 (KHTML, like Gecko) Chrome/36.0.1985.125 Safari/537.36\"')\n",
      "(3, datetime.datetime(2018, 11, 29, 0, 4, 1, 796000), 24, 'paid', None, None, 984, 'Lake Havasu City-Kingman, AZ', '\"Mozilla/5.0 (Windows NT 6.1; WOW64) AppleWebKit/537.36 (KHTML, like Gecko) Chrome/36.0.1985.125 Safari/537.36\"')\n",
      "(4, datetime.datetime(2018, 11, 29, 0, 4, 55, 796000), 73, 'paid', None, None, 954, 'Tampa-St. Petersburg-Clearwater, FL', '\"Mozilla/5.0 (Macintosh; Intel Mac OS X 10_9_4) AppleWebKit/537.78.2 (KHTML, like Gecko) Version/7.0.6 Safari/537.78.2\"')\n",
      "(5, datetime.datetime(2018, 11, 29, 0, 7, 13, 796000), 24, 'paid', None, None, 984, 'Lake Havasu City-Kingman, AZ', '\"Mozilla/5.0 (Windows NT 6.1; WOW64) AppleWebKit/537.36 (KHTML, like Gecko) Chrome/36.0.1985.125 Safari/537.36\"')\n",
      "(6, datetime.datetime(2018, 11, 29, 0, 10, 56, 796000), 24, 'paid', None, None, 984, 'Lake Havasu City-Kingman, AZ', '\"Mozilla/5.0 (Windows NT 6.1; WOW64) AppleWebKit/537.36 (KHTML, like Gecko) Chrome/36.0.1985.125 Safari/537.36\"')\n",
      "(7, datetime.datetime(2018, 11, 29, 0, 11, 4, 796000), 73, 'paid', None, None, 954, 'Tampa-St. Petersburg-Clearwater, FL', '\"Mozilla/5.0 (Macintosh; Intel Mac OS X 10_9_4) AppleWebKit/537.78.2 (KHTML, like Gecko) Version/7.0.6 Safari/537.78.2\"')\n",
      "(8, datetime.datetime(2018, 11, 29, 0, 14, 10, 796000), 73, 'paid', None, None, 954, 'Tampa-St. Petersburg-Clearwater, FL', '\"Mozilla/5.0 (Macintosh; Intel Mac OS X 10_9_4) AppleWebKit/537.78.2 (KHTML, like Gecko) Version/7.0.6 Safari/537.78.2\"')\n",
      "(9, datetime.datetime(2018, 11, 29, 0, 16, 2, 796000), 24, 'paid', None, None, 984, 'Lake Havasu City-Kingman, AZ', '\"Mozilla/5.0 (Windows NT 6.1; WOW64) AppleWebKit/537.36 (KHTML, like Gecko) Chrome/36.0.1985.125 Safari/537.36\"')\n",
      "(10, datetime.datetime(2018, 11, 29, 0, 18, 11, 796000), 24, 'paid', None, None, 984, 'Lake Havasu City-Kingman, AZ', '\"Mozilla/5.0 (Windows NT 6.1; WOW64) AppleWebKit/537.36 (KHTML, like Gecko) Chrome/36.0.1985.125 Safari/537.36\"')\n",
      "(11, datetime.datetime(2018, 11, 29, 0, 22, 13, 796000), 24, 'paid', None, None, 984, 'Lake Havasu City-Kingman, AZ', '\"Mozilla/5.0 (Windows NT 6.1; WOW64) AppleWebKit/537.36 (KHTML, like Gecko) Chrome/36.0.1985.125 Safari/537.36\"')\n",
      "(12, datetime.datetime(2018, 11, 29, 0, 26, 15, 796000), 24, 'paid', None, None, 984, 'Lake Havasu City-Kingman, AZ', '\"Mozilla/5.0 (Windows NT 6.1; WOW64) AppleWebKit/537.36 (KHTML, like Gecko) Chrome/36.0.1985.125 Safari/537.36\"')\n",
      "(13, datetime.datetime(2018, 11, 29, 0, 30, 53, 796000), 24, 'paid', None, None, 984, 'Lake Havasu City-Kingman, AZ', '\"Mozilla/5.0 (Windows NT 6.1; WOW64) AppleWebKit/537.36 (KHTML, like Gecko) Chrome/36.0.1985.125 Safari/537.36\"')\n",
      "(14, datetime.datetime(2018, 11, 29, 0, 35, 7, 796000), 24, 'paid', None, None, 984, 'Lake Havasu City-Kingman, AZ', '\"Mozilla/5.0 (Windows NT 6.1; WOW64) AppleWebKit/537.36 (KHTML, like Gecko) Chrome/36.0.1985.125 Safari/537.36\"')\n",
      "(15, datetime.datetime(2018, 11, 29, 0, 40, 14, 796000), 24, 'paid', None, None, 984, 'Lake Havasu City-Kingman, AZ', '\"Mozilla/5.0 (Windows NT 6.1; WOW64) AppleWebKit/537.36 (KHTML, like Gecko) Chrome/36.0.1985.125 Safari/537.36\"')\n",
      "(16, datetime.datetime(2018, 11, 29, 0, 44, 13, 796000), 24, 'paid', None, None, 984, 'Lake Havasu City-Kingman, AZ', '\"Mozilla/5.0 (Windows NT 6.1; WOW64) AppleWebKit/537.36 (KHTML, like Gecko) Chrome/36.0.1985.125 Safari/537.36\"')\n",
      "(17, datetime.datetime(2018, 11, 29, 0, 46, 34, 796000), 24, 'paid', None, None, 984, 'Lake Havasu City-Kingman, AZ', '\"Mozilla/5.0 (Windows NT 6.1; WOW64) AppleWebKit/537.36 (KHTML, like Gecko) Chrome/36.0.1985.125 Safari/537.36\"')\n",
      "(18, datetime.datetime(2018, 11, 29, 0, 49, 48, 796000), 24, 'paid', None, None, 984, 'Lake Havasu City-Kingman, AZ', '\"Mozilla/5.0 (Windows NT 6.1; WOW64) AppleWebKit/537.36 (KHTML, like Gecko) Chrome/36.0.1985.125 Safari/537.36\"')\n",
      "(19, datetime.datetime(2018, 11, 29, 0, 57, 10, 796000), 24, 'paid', None, None, 984, 'Lake Havasu City-Kingman, AZ', '\"Mozilla/5.0 (Windows NT 6.1; WOW64) AppleWebKit/537.36 (KHTML, like Gecko) Chrome/36.0.1985.125 Safari/537.36\"')\n",
      "(20, datetime.datetime(2018, 11, 29, 1, 2, 12, 796000), 24, 'paid', None, None, 984, 'Lake Havasu City-Kingman, AZ', '\"Mozilla/5.0 (Windows NT 6.1; WOW64) AppleWebKit/537.36 (KHTML, like Gecko) Chrome/36.0.1985.125 Safari/537.36\"')\n",
      "(21, datetime.datetime(2018, 11, 29, 1, 6, 36, 796000), 24, 'paid', None, None, 984, 'Lake Havasu City-Kingman, AZ', '\"Mozilla/5.0 (Windows NT 6.1; WOW64) AppleWebKit/537.36 (KHTML, like Gecko) Chrome/36.0.1985.125 Safari/537.36\"')\n",
      "(22, datetime.datetime(2018, 11, 29, 1, 9, 23, 796000), 50, 'free', None, None, 1011, 'New Haven-Milford, CT', '\"Mozilla/5.0 (Windows NT 6.3; WOW64) AppleWebKit/537.36 (KHTML, like Gecko) Chrome/36.0.1985.143 Safari/537.36\"')\n",
      "(23, datetime.datetime(2018, 11, 29, 1, 9, 58, 796000), 24, 'paid', None, None, 984, 'Lake Havasu City-Kingman, AZ', '\"Mozilla/5.0 (Windows NT 6.1; WOW64) AppleWebKit/537.36 (KHTML, like Gecko) Chrome/36.0.1985.125 Safari/537.36\"')\n",
      "(24, datetime.datetime(2018, 11, 29, 1, 13, 57, 796000), 24, 'paid', None, None, 984, 'Lake Havasu City-Kingman, AZ', '\"Mozilla/5.0 (Windows NT 6.1; WOW64) AppleWebKit/537.36 (KHTML, like Gecko) Chrome/36.0.1985.125 Safari/537.36\"')\n",
      "(25, datetime.datetime(2018, 11, 29, 1, 17, 34, 796000), 24, 'paid', None, None, 984, 'Lake Havasu City-Kingman, AZ', '\"Mozilla/5.0 (Windows NT 6.1; WOW64) AppleWebKit/537.36 (KHTML, like Gecko) Chrome/36.0.1985.125 Safari/537.36\"')\n",
      "(26, datetime.datetime(2018, 11, 29, 1, 22, 13, 796000), 24, 'paid', None, None, 984, 'Lake Havasu City-Kingman, AZ', '\"Mozilla/5.0 (Windows NT 6.1; WOW64) AppleWebKit/537.36 (KHTML, like Gecko) Chrome/36.0.1985.125 Safari/537.36\"')\n",
      "(27, datetime.datetime(2018, 11, 29, 1, 26, 18, 796000), 24, 'paid', None, None, 984, 'Lake Havasu City-Kingman, AZ', '\"Mozilla/5.0 (Windows NT 6.1; WOW64) AppleWebKit/537.36 (KHTML, like Gecko) Chrome/36.0.1985.125 Safari/537.36\"')\n",
      "(28, datetime.datetime(2018, 11, 29, 1, 31, 13, 796000), 24, 'paid', None, None, 984, 'Lake Havasu City-Kingman, AZ', '\"Mozilla/5.0 (Windows NT 6.1; WOW64) AppleWebKit/537.36 (KHTML, like Gecko) Chrome/36.0.1985.125 Safari/537.36\"')\n",
      "(29, datetime.datetime(2018, 11, 29, 1, 33, 38, 796000), 24, 'paid', None, None, 984, 'Lake Havasu City-Kingman, AZ', '\"Mozilla/5.0 (Windows NT 6.1; WOW64) AppleWebKit/537.36 (KHTML, like Gecko) Chrome/36.0.1985.125 Safari/537.36\"')\n",
      "(30, datetime.datetime(2018, 11, 29, 1, 38, 30, 796000), 24, 'paid', None, None, 984, 'Lake Havasu City-Kingman, AZ', '\"Mozilla/5.0 (Windows NT 6.1; WOW64) AppleWebKit/537.36 (KHTML, like Gecko) Chrome/36.0.1985.125 Safari/537.36\"')\n",
      "(31, datetime.datetime(2018, 11, 29, 1, 42, 27, 796000), 24, 'paid', None, None, 984, 'Lake Havasu City-Kingman, AZ', '\"Mozilla/5.0 (Windows NT 6.1; WOW64) AppleWebKit/537.36 (KHTML, like Gecko) Chrome/36.0.1985.125 Safari/537.36\"')\n",
      "(32, datetime.datetime(2018, 11, 29, 1, 46, 50, 796000), 24, 'paid', None, None, 984, 'Lake Havasu City-Kingman, AZ', '\"Mozilla/5.0 (Windows NT 6.1; WOW64) AppleWebKit/537.36 (KHTML, like Gecko) Chrome/36.0.1985.125 Safari/537.36\"')\n",
      "(33, datetime.datetime(2018, 11, 29, 1, 52, 26, 796000), 24, 'paid', None, None, 984, 'Lake Havasu City-Kingman, AZ', '\"Mozilla/5.0 (Windows NT 6.1; WOW64) AppleWebKit/537.36 (KHTML, like Gecko) Chrome/36.0.1985.125 Safari/537.36\"')\n",
      "(34, datetime.datetime(2018, 11, 29, 1, 55, 17, 796000), 24, 'paid', None, None, 984, 'Lake Havasu City-Kingman, AZ', '\"Mozilla/5.0 (Windows NT 6.1; WOW64) AppleWebKit/537.36 (KHTML, like Gecko) Chrome/36.0.1985.125 Safari/537.36\"')\n",
      "(35, datetime.datetime(2018, 11, 29, 2, 24, 31, 796000), 54, 'free', None, None, 951, 'Yuba City, CA', 'Mozilla/5.0 (Windows NT 6.1; WOW64; rv:31.0) Gecko/20100101 Firefox/31.0')\n",
      "(36, datetime.datetime(2018, 11, 29, 2, 28, 5, 796000), 54, 'free', None, None, 951, 'Yuba City, CA', 'Mozilla/5.0 (Windows NT 6.1; WOW64; rv:31.0) Gecko/20100101 Firefox/31.0')\n",
      "(37, datetime.datetime(2018, 11, 29, 2, 31, 11, 796000), 54, 'free', None, None, 951, 'Yuba City, CA', 'Mozilla/5.0 (Windows NT 6.1; WOW64; rv:31.0) Gecko/20100101 Firefox/31.0')\n",
      "(38, datetime.datetime(2018, 11, 29, 2, 36, 13, 796000), 54, 'free', None, None, 951, 'Yuba City, CA', 'Mozilla/5.0 (Windows NT 6.1; WOW64; rv:31.0) Gecko/20100101 Firefox/31.0')\n",
      "(39, datetime.datetime(2018, 11, 29, 2, 40, 10, 796000), 54, 'free', None, None, 951, 'Yuba City, CA', 'Mozilla/5.0 (Windows NT 6.1; WOW64; rv:31.0) Gecko/20100101 Firefox/31.0')\n",
      "(40, datetime.datetime(2018, 11, 29, 2, 57, 57, 796000), 32, 'free', None, None, 1045, 'New York-Newark-Jersey City, NY-NJ-PA', '\"Mozilla/5.0 (Windows NT 6.1; WOW64) AppleWebKit/537.36 (KHTML, like Gecko) Chrome/36.0.1985.125 Safari/537.36\"')\n",
      "(41, datetime.datetime(2018, 11, 29, 3, 0, 42, 796000), 32, 'free', None, None, 1045, 'New York-Newark-Jersey City, NY-NJ-PA', '\"Mozilla/5.0 (Windows NT 6.1; WOW64) AppleWebKit/537.36 (KHTML, like Gecko) Chrome/36.0.1985.125 Safari/537.36\"')\n",
      "(42, datetime.datetime(2018, 11, 29, 3, 7, 15, 796000), 4, 'free', None, None, 587, 'Parkersburg-Vienna, WV', '\"Mozilla/5.0 (Windows NT 6.1; WOW64) AppleWebKit/537.36 (KHTML, like Gecko) Chrome/36.0.1985.125 Safari/537.36\"')\n",
      "(43, datetime.datetime(2018, 11, 29, 4, 27, 16, 796000), 52, 'free', None, None, 990, 'Houston-The Woodlands-Sugar Land, TX', 'Mozilla/5.0 (Windows NT 6.1; WOW64; rv:31.0) Gecko/20100101 Firefox/31.0')\n",
      "(44, datetime.datetime(2018, 11, 29, 4, 31, 53, 796000), 52, 'free', None, None, 990, 'Houston-The Woodlands-Sugar Land, TX', 'Mozilla/5.0 (Windows NT 6.1; WOW64; rv:31.0) Gecko/20100101 Firefox/31.0')\n",
      "(45, datetime.datetime(2018, 11, 29, 4, 55, 55, 796000), 14, 'free', None, None, 1038, 'Red Bluff, CA', 'Mozilla/5.0 (Windows NT 6.1; WOW64; rv:31.0) Gecko/20100101 Firefox/31.0')\n",
      "(46, datetime.datetime(2018, 11, 29, 5, 0, 8, 796000), 14, 'free', None, None, 1038, 'Red Bluff, CA', 'Mozilla/5.0 (Windows NT 6.1; WOW64; rv:31.0) Gecko/20100101 Firefox/31.0')\n",
      "(47, datetime.datetime(2018, 11, 29, 8, 18, 42, 796000), 98, 'free', None, None, 865, 'Philadelphia-Camden-Wilmington, PA-NJ-DE-MD', '\"Mozilla/5.0 (Macintosh; Intel Mac OS X 10_9_4) AppleWebKit/537.36 (KHTML, like Gecko) Chrome/36.0.1985.143 Safari/537.36\"')\n",
      "(48, datetime.datetime(2018, 11, 29, 8, 23, 9, 796000), 98, 'free', None, None, 865, 'Philadelphia-Camden-Wilmington, PA-NJ-DE-MD', '\"Mozilla/5.0 (Macintosh; Intel Mac OS X 10_9_4) AppleWebKit/537.36 (KHTML, like Gecko) Chrome/36.0.1985.143 Safari/537.36\"')\n",
      "(49, datetime.datetime(2018, 11, 29, 10, 59, 27, 796000), 101, 'free', None, None, 1016, 'New Orleans-Metairie, LA', '\"Mozilla/5.0 (Windows NT 6.3; WOW64) AppleWebKit/537.36 (KHTML, like Gecko) Chrome/36.0.1985.143 Safari/537.36\"')\n",
      "(50, datetime.datetime(2018, 11, 29, 11, 3, 12, 796000), 101, 'free', None, None, 1016, 'New Orleans-Metairie, LA', '\"Mozilla/5.0 (Windows NT 6.3; WOW64) AppleWebKit/537.36 (KHTML, like Gecko) Chrome/36.0.1985.143 Safari/537.36\"')\n",
      "(51, datetime.datetime(2018, 11, 29, 11, 3, 31, 796000), 78, 'free', None, None, 931, 'Indianapolis-Carmel-Anderson, IN', 'Mozilla/5.0 (Windows NT 6.1; rv:31.0) Gecko/20100101 Firefox/31.0')\n",
      "(52, datetime.datetime(2018, 11, 29, 11, 7, 19, 796000), 101, 'free', None, None, 1016, 'New Orleans-Metairie, LA', '\"Mozilla/5.0 (Windows NT 6.3; WOW64) AppleWebKit/537.36 (KHTML, like Gecko) Chrome/36.0.1985.143 Safari/537.36\"')\n",
      "(53, datetime.datetime(2018, 11, 29, 11, 10, 57, 796000), 101, 'free', None, None, 1016, 'New Orleans-Metairie, LA', '\"Mozilla/5.0 (Windows NT 6.3; WOW64) AppleWebKit/537.36 (KHTML, like Gecko) Chrome/36.0.1985.143 Safari/537.36\"')\n",
      "(54, datetime.datetime(2018, 11, 29, 12, 21, 7, 796000), 10, 'free', None, None, 1005, 'Washington-Arlington-Alexandria, DC-VA-MD-WV', '\"Mozilla/5.0 (Macintosh; Intel Mac OS X 10_9_4) AppleWebKit/537.77.4 (KHTML, like Gecko) Version/7.0.5 Safari/537.77.4\"')\n",
      "(55, datetime.datetime(2018, 11, 29, 13, 14, 11, 796000), 52, 'free', None, None, 1055, 'Houston-The Woodlands-Sugar Land, TX', 'Mozilla/5.0 (Windows NT 6.1; WOW64; rv:31.0) Gecko/20100101 Firefox/31.0')\n",
      "(56, datetime.datetime(2018, 11, 29, 13, 58, 27, 796000), 49, 'paid', None, None, 1041, 'San Francisco-Oakland-Hayward, CA', 'Mozilla/5.0 (Windows NT 5.1; rv:31.0) Gecko/20100101 Firefox/31.0')\n",
      "(57, datetime.datetime(2018, 11, 29, 14, 1, 21, 796000), 49, 'paid', None, None, 1041, 'San Francisco-Oakland-Hayward, CA', 'Mozilla/5.0 (Windows NT 5.1; rv:31.0) Gecko/20100101 Firefox/31.0')\n",
      "(58, datetime.datetime(2018, 11, 29, 14, 5, 13, 796000), 49, 'paid', None, None, 1041, 'San Francisco-Oakland-Hayward, CA', 'Mozilla/5.0 (Windows NT 5.1; rv:31.0) Gecko/20100101 Firefox/31.0')\n",
      "(59, datetime.datetime(2018, 11, 29, 14, 10, 8, 796000), 49, 'paid', None, None, 1041, 'San Francisco-Oakland-Hayward, CA', 'Mozilla/5.0 (Windows NT 5.1; rv:31.0) Gecko/20100101 Firefox/31.0')\n",
      "(60, datetime.datetime(2018, 11, 29, 14, 14, 4, 796000), 49, 'paid', None, None, 1041, 'San Francisco-Oakland-Hayward, CA', 'Mozilla/5.0 (Windows NT 5.1; rv:31.0) Gecko/20100101 Firefox/31.0')\n",
      "(61, datetime.datetime(2018, 11, 29, 14, 17, 50, 796000), 49, 'paid', None, None, 1041, 'San Francisco-Oakland-Hayward, CA', 'Mozilla/5.0 (Windows NT 5.1; rv:31.0) Gecko/20100101 Firefox/31.0')\n",
      "(62, datetime.datetime(2018, 11, 29, 14, 22, 14, 796000), 49, 'paid', None, None, 1041, 'San Francisco-Oakland-Hayward, CA', 'Mozilla/5.0 (Windows NT 5.1; rv:31.0) Gecko/20100101 Firefox/31.0')\n",
      "(63, datetime.datetime(2018, 11, 29, 14, 26, 23, 796000), 49, 'paid', None, None, 1041, 'San Francisco-Oakland-Hayward, CA', 'Mozilla/5.0 (Windows NT 5.1; rv:31.0) Gecko/20100101 Firefox/31.0')\n",
      "(64, datetime.datetime(2018, 11, 29, 14, 32, 31, 796000), 49, 'paid', None, None, 1041, 'San Francisco-Oakland-Hayward, CA', 'Mozilla/5.0 (Windows NT 5.1; rv:31.0) Gecko/20100101 Firefox/31.0')\n",
      "(65, datetime.datetime(2018, 11, 29, 14, 35, 44, 796000), 49, 'paid', None, None, 1041, 'San Francisco-Oakland-Hayward, CA', 'Mozilla/5.0 (Windows NT 5.1; rv:31.0) Gecko/20100101 Firefox/31.0')\n",
      "(66, datetime.datetime(2018, 11, 29, 14, 40, 36, 796000), 49, 'paid', None, None, 1041, 'San Francisco-Oakland-Hayward, CA', 'Mozilla/5.0 (Windows NT 5.1; rv:31.0) Gecko/20100101 Firefox/31.0')\n",
      "(67, datetime.datetime(2018, 11, 29, 14, 43, 29, 796000), 49, 'paid', None, None, 1041, 'San Francisco-Oakland-Hayward, CA', 'Mozilla/5.0 (Windows NT 5.1; rv:31.0) Gecko/20100101 Firefox/31.0')\n",
      "(68, datetime.datetime(2018, 11, 29, 14, 47, 47, 796000), 49, 'paid', None, None, 1041, 'San Francisco-Oakland-Hayward, CA', 'Mozilla/5.0 (Windows NT 5.1; rv:31.0) Gecko/20100101 Firefox/31.0')\n",
      "(69, datetime.datetime(2018, 11, 29, 14, 51, 12, 796000), 49, 'paid', None, None, 1041, 'San Francisco-Oakland-Hayward, CA', 'Mozilla/5.0 (Windows NT 5.1; rv:31.0) Gecko/20100101 Firefox/31.0')\n",
      "(70, datetime.datetime(2018, 11, 29, 14, 55, 45, 796000), 49, 'paid', None, None, 1041, 'San Francisco-Oakland-Hayward, CA', 'Mozilla/5.0 (Windows NT 5.1; rv:31.0) Gecko/20100101 Firefox/31.0')\n",
      "(71, datetime.datetime(2018, 11, 29, 14, 57, 52, 796000), 49, 'paid', None, None, 1041, 'San Francisco-Oakland-Hayward, CA', 'Mozilla/5.0 (Windows NT 5.1; rv:31.0) Gecko/20100101 Firefox/31.0')\n",
      "(72, datetime.datetime(2018, 11, 29, 15, 2, 51, 796000), 49, 'paid', None, None, 1041, 'San Francisco-Oakland-Hayward, CA', 'Mozilla/5.0 (Windows NT 5.1; rv:31.0) Gecko/20100101 Firefox/31.0')\n",
      "(73, datetime.datetime(2018, 11, 29, 15, 5, 49, 796000), 16, 'paid', None, None, 983, 'Birmingham-Hoover, AL', '\"Mozilla/5.0 (Macintosh; Intel Mac OS X 10_9_4) AppleWebKit/537.77.4 (KHTML, like Gecko) Version/7.0.5 Safari/537.77.4\"')\n",
      "(74, datetime.datetime(2018, 11, 29, 15, 6, 52, 796000), 49, 'paid', None, None, 1041, 'San Francisco-Oakland-Hayward, CA', 'Mozilla/5.0 (Windows NT 5.1; rv:31.0) Gecko/20100101 Firefox/31.0')\n",
      "(75, datetime.datetime(2018, 11, 29, 15, 9, 44, 796000), 16, 'paid', None, None, 983, 'Birmingham-Hoover, AL', '\"Mozilla/5.0 (Macintosh; Intel Mac OS X 10_9_4) AppleWebKit/537.77.4 (KHTML, like Gecko) Version/7.0.5 Safari/537.77.4\"')\n",
      "(76, datetime.datetime(2018, 11, 29, 15, 11, 8, 796000), 32, 'free', None, None, 1058, 'New York-Newark-Jersey City, NY-NJ-PA', '\"Mozilla/5.0 (Windows NT 6.1; WOW64) AppleWebKit/537.36 (KHTML, like Gecko) Chrome/36.0.1985.125 Safari/537.36\"')\n",
      "(77, datetime.datetime(2018, 11, 29, 15, 11, 35, 796000), 49, 'paid', None, None, 1041, 'San Francisco-Oakland-Hayward, CA', 'Mozilla/5.0 (Windows NT 5.1; rv:31.0) Gecko/20100101 Firefox/31.0')\n",
      "(78, datetime.datetime(2018, 11, 29, 15, 11, 47, 796000), 26, 'free', None, None, 1046, 'San Jose-Sunnyvale-Santa Clara, CA', '\"Mozilla/5.0 (X11; Linux x86_64) AppleWebKit/537.36 (KHTML, like Gecko) Ubuntu Chromium/36.0.1985.125 Chrome/36.0.1985.125 Safari/537.36\"')\n",
      "(79, datetime.datetime(2018, 11, 29, 15, 12, 48, 796000), 16, 'paid', None, None, 983, 'Birmingham-Hoover, AL', '\"Mozilla/5.0 (Macintosh; Intel Mac OS X 10_9_4) AppleWebKit/537.77.4 (KHTML, like Gecko) Version/7.0.5 Safari/537.77.4\"')\n",
      "(80, datetime.datetime(2018, 11, 29, 15, 14, 34, 796000), 32, 'free', None, None, 1058, 'New York-Newark-Jersey City, NY-NJ-PA', '\"Mozilla/5.0 (Windows NT 6.1; WOW64) AppleWebKit/537.36 (KHTML, like Gecko) Chrome/36.0.1985.125 Safari/537.36\"')\n",
      "(81, datetime.datetime(2018, 11, 29, 15, 15, 28, 796000), 49, 'paid', None, None, 1041, 'San Francisco-Oakland-Hayward, CA', 'Mozilla/5.0 (Windows NT 5.1; rv:31.0) Gecko/20100101 Firefox/31.0')\n",
      "(82, datetime.datetime(2018, 11, 29, 15, 15, 36, 796000), 16, 'paid', None, None, 983, 'Birmingham-Hoover, AL', '\"Mozilla/5.0 (Macintosh; Intel Mac OS X 10_9_4) AppleWebKit/537.77.4 (KHTML, like Gecko) Version/7.0.5 Safari/537.77.4\"')\n",
      "(83, datetime.datetime(2018, 11, 29, 15, 16, 13, 796000), 26, 'free', None, None, 1046, 'San Jose-Sunnyvale-Santa Clara, CA', '\"Mozilla/5.0 (X11; Linux x86_64) AppleWebKit/537.36 (KHTML, like Gecko) Ubuntu Chromium/36.0.1985.125 Chrome/36.0.1985.125 Safari/537.36\"')\n",
      "(84, datetime.datetime(2018, 11, 29, 15, 18, 58, 796000), 49, 'paid', None, None, 1041, 'San Francisco-Oakland-Hayward, CA', 'Mozilla/5.0 (Windows NT 5.1; rv:31.0) Gecko/20100101 Firefox/31.0')\n",
      "(85, datetime.datetime(2018, 11, 29, 15, 19, 32, 796000), 16, 'paid', None, None, 983, 'Birmingham-Hoover, AL', '\"Mozilla/5.0 (Macintosh; Intel Mac OS X 10_9_4) AppleWebKit/537.77.4 (KHTML, like Gecko) Version/7.0.5 Safari/537.77.4\"')\n",
      "(86, datetime.datetime(2018, 11, 29, 15, 20, 30, 796000), 79, 'free', None, None, 761, 'Dallas-Fort Worth-Arlington, TX', 'Mozilla/5.0 (compatible; MSIE 9.0; Windows NT 6.1; Trident/5.0)')\n",
      "(87, datetime.datetime(2018, 11, 29, 15, 20, 39, 796000), 26, 'free', None, None, 1046, 'San Jose-Sunnyvale-Santa Clara, CA', '\"Mozilla/5.0 (X11; Linux x86_64) AppleWebKit/537.36 (KHTML, like Gecko) Ubuntu Chromium/36.0.1985.125 Chrome/36.0.1985.125 Safari/537.36\"')\n",
      "(88, datetime.datetime(2018, 11, 29, 15, 22, 38, 796000), 49, 'paid', None, None, 1041, 'San Francisco-Oakland-Hayward, CA', 'Mozilla/5.0 (Windows NT 5.1; rv:31.0) Gecko/20100101 Firefox/31.0')\n",
      "(89, datetime.datetime(2018, 11, 29, 15, 24, 15, 796000), 16, 'paid', None, None, 983, 'Birmingham-Hoover, AL', '\"Mozilla/5.0 (Macintosh; Intel Mac OS X 10_9_4) AppleWebKit/537.77.4 (KHTML, like Gecko) Version/7.0.5 Safari/537.77.4\"')\n",
      "(90, datetime.datetime(2018, 11, 29, 15, 26, 40, 796000), 49, 'paid', None, None, 1041, 'San Francisco-Oakland-Hayward, CA', 'Mozilla/5.0 (Windows NT 5.1; rv:31.0) Gecko/20100101 Firefox/31.0')\n",
      "(91, datetime.datetime(2018, 11, 29, 15, 27, 1, 796000), 26, 'free', None, None, 1046, 'San Jose-Sunnyvale-Santa Clara, CA', '\"Mozilla/5.0 (X11; Linux x86_64) AppleWebKit/537.36 (KHTML, like Gecko) Ubuntu Chromium/36.0.1985.125 Chrome/36.0.1985.125 Safari/537.36\"')\n",
      "(92, datetime.datetime(2018, 11, 29, 15, 27, 37, 796000), 16, 'paid', None, None, 983, 'Birmingham-Hoover, AL', '\"Mozilla/5.0 (Macintosh; Intel Mac OS X 10_9_4) AppleWebKit/537.77.4 (KHTML, like Gecko) Version/7.0.5 Safari/537.77.4\"')\n",
      "(93, datetime.datetime(2018, 11, 29, 15, 29, 41, 796000), 49, 'paid', None, None, 1041, 'San Francisco-Oakland-Hayward, CA', 'Mozilla/5.0 (Windows NT 5.1; rv:31.0) Gecko/20100101 Firefox/31.0')\n",
      "(94, datetime.datetime(2018, 11, 29, 15, 30, 1, 796000), 16, 'paid', None, None, 983, 'Birmingham-Hoover, AL', '\"Mozilla/5.0 (Macintosh; Intel Mac OS X 10_9_4) AppleWebKit/537.77.4 (KHTML, like Gecko) Version/7.0.5 Safari/537.77.4\"')\n",
      "(95, datetime.datetime(2018, 11, 29, 15, 30, 57, 796000), 26, 'free', None, None, 1046, 'San Jose-Sunnyvale-Santa Clara, CA', '\"Mozilla/5.0 (X11; Linux x86_64) AppleWebKit/537.36 (KHTML, like Gecko) Ubuntu Chromium/36.0.1985.125 Chrome/36.0.1985.125 Safari/537.36\"')\n",
      "(96, datetime.datetime(2018, 11, 29, 15, 33, 38, 796000), 16, 'paid', None, None, 983, 'Birmingham-Hoover, AL', '\"Mozilla/5.0 (Macintosh; Intel Mac OS X 10_9_4) AppleWebKit/537.77.4 (KHTML, like Gecko) Version/7.0.5 Safari/537.77.4\"')\n",
      "(97, datetime.datetime(2018, 11, 29, 15, 34, 16, 796000), 49, 'paid', None, None, 1041, 'San Francisco-Oakland-Hayward, CA', 'Mozilla/5.0 (Windows NT 5.1; rv:31.0) Gecko/20100101 Firefox/31.0')\n",
      "(98, datetime.datetime(2018, 11, 29, 15, 36, 32, 796000), 16, 'paid', None, None, 983, 'Birmingham-Hoover, AL', '\"Mozilla/5.0 (Macintosh; Intel Mac OS X 10_9_4) AppleWebKit/537.77.4 (KHTML, like Gecko) Version/7.0.5 Safari/537.77.4\"')\n",
      "(99, datetime.datetime(2018, 11, 29, 15, 37, 16, 796000), 49, 'paid', None, None, 1041, 'San Francisco-Oakland-Hayward, CA', 'Mozilla/5.0 (Windows NT 5.1; rv:31.0) Gecko/20100101 Firefox/31.0')\n",
      "(100, datetime.datetime(2018, 11, 29, 15, 39, 39, 796000), 49, 'paid', None, None, 1041, 'San Francisco-Oakland-Hayward, CA', 'Mozilla/5.0 (Windows NT 5.1; rv:31.0) Gecko/20100101 Firefox/31.0')\n",
      "(101, datetime.datetime(2018, 11, 29, 15, 41, 17, 796000), 16, 'paid', None, None, 983, 'Birmingham-Hoover, AL', '\"Mozilla/5.0 (Macintosh; Intel Mac OS X 10_9_4) AppleWebKit/537.77.4 (KHTML, like Gecko) Version/7.0.5 Safari/537.77.4\"')\n",
      "(102, datetime.datetime(2018, 11, 29, 15, 41, 57, 796000), 49, 'paid', None, None, 1041, 'San Francisco-Oakland-Hayward, CA', 'Mozilla/5.0 (Windows NT 5.1; rv:31.0) Gecko/20100101 Firefox/31.0')\n",
      "(103, datetime.datetime(2018, 11, 29, 15, 45, 38, 796000), 16, 'paid', None, None, 983, 'Birmingham-Hoover, AL', '\"Mozilla/5.0 (Macintosh; Intel Mac OS X 10_9_4) AppleWebKit/537.77.4 (KHTML, like Gecko) Version/7.0.5 Safari/537.77.4\"')\n",
      "(104, datetime.datetime(2018, 11, 29, 15, 45, 41, 796000), 49, 'paid', None, None, 1041, 'San Francisco-Oakland-Hayward, CA', 'Mozilla/5.0 (Windows NT 5.1; rv:31.0) Gecko/20100101 Firefox/31.0')\n",
      "(105, datetime.datetime(2018, 11, 29, 15, 49, 16, 796000), 16, 'paid', None, None, 983, 'Birmingham-Hoover, AL', '\"Mozilla/5.0 (Macintosh; Intel Mac OS X 10_9_4) AppleWebKit/537.77.4 (KHTML, like Gecko) Version/7.0.5 Safari/537.77.4\"')\n",
      "(106, datetime.datetime(2018, 11, 29, 15, 49, 38, 796000), 49, 'paid', None, None, 1041, 'San Francisco-Oakland-Hayward, CA', 'Mozilla/5.0 (Windows NT 5.1; rv:31.0) Gecko/20100101 Firefox/31.0')\n",
      "(107, datetime.datetime(2018, 11, 29, 15, 53, 39, 796000), 16, 'paid', None, None, 983, 'Birmingham-Hoover, AL', '\"Mozilla/5.0 (Macintosh; Intel Mac OS X 10_9_4) AppleWebKit/537.77.4 (KHTML, like Gecko) Version/7.0.5 Safari/537.77.4\"')\n",
      "(108, datetime.datetime(2018, 11, 29, 15, 54, 12, 796000), 49, 'paid', None, None, 1041, 'San Francisco-Oakland-Hayward, CA', 'Mozilla/5.0 (Windows NT 5.1; rv:31.0) Gecko/20100101 Firefox/31.0')\n",
      "(109, datetime.datetime(2018, 11, 29, 15, 57, 35, 796000), 16, 'paid', None, None, 983, 'Birmingham-Hoover, AL', '\"Mozilla/5.0 (Macintosh; Intel Mac OS X 10_9_4) AppleWebKit/537.77.4 (KHTML, like Gecko) Version/7.0.5 Safari/537.77.4\"')\n",
      "(110, datetime.datetime(2018, 11, 29, 15, 57, 55, 796000), 49, 'paid', None, None, 1041, 'San Francisco-Oakland-Hayward, CA', 'Mozilla/5.0 (Windows NT 5.1; rv:31.0) Gecko/20100101 Firefox/31.0')\n",
      "(111, datetime.datetime(2018, 11, 29, 16, 0, 1, 796000), 49, 'paid', None, None, 1041, 'San Francisco-Oakland-Hayward, CA', 'Mozilla/5.0 (Windows NT 5.1; rv:31.0) Gecko/20100101 Firefox/31.0')\n",
      "(112, datetime.datetime(2018, 11, 29, 16, 0, 53, 796000), 16, 'paid', None, None, 983, 'Birmingham-Hoover, AL', '\"Mozilla/5.0 (Macintosh; Intel Mac OS X 10_9_4) AppleWebKit/537.77.4 (KHTML, like Gecko) Version/7.0.5 Safari/537.77.4\"')\n",
      "(113, datetime.datetime(2018, 11, 29, 16, 4, 6, 796000), 49, 'paid', None, None, 1041, 'San Francisco-Oakland-Hayward, CA', 'Mozilla/5.0 (Windows NT 5.1; rv:31.0) Gecko/20100101 Firefox/31.0')\n",
      "(114, datetime.datetime(2018, 11, 29, 16, 5, 40, 796000), 16, 'paid', None, None, 983, 'Birmingham-Hoover, AL', '\"Mozilla/5.0 (Macintosh; Intel Mac OS X 10_9_4) AppleWebKit/537.77.4 (KHTML, like Gecko) Version/7.0.5 Safari/537.77.4\"')\n",
      "(115, datetime.datetime(2018, 11, 29, 16, 7, 7, 796000), 49, 'paid', None, None, 1041, 'San Francisco-Oakland-Hayward, CA', 'Mozilla/5.0 (Windows NT 5.1; rv:31.0) Gecko/20100101 Firefox/31.0')\n",
      "(116, datetime.datetime(2018, 11, 29, 16, 9, 11, 796000), 16, 'paid', None, None, 983, 'Birmingham-Hoover, AL', '\"Mozilla/5.0 (Macintosh; Intel Mac OS X 10_9_4) AppleWebKit/537.77.4 (KHTML, like Gecko) Version/7.0.5 Safari/537.77.4\"')\n",
      "(117, datetime.datetime(2018, 11, 29, 16, 9, 24, 796000), 49, 'paid', None, None, 1041, 'San Francisco-Oakland-Hayward, CA', 'Mozilla/5.0 (Windows NT 5.1; rv:31.0) Gecko/20100101 Firefox/31.0')\n",
      "(118, datetime.datetime(2018, 11, 29, 16, 11, 29, 796000), 16, 'paid', None, None, 983, 'Birmingham-Hoover, AL', '\"Mozilla/5.0 (Macintosh; Intel Mac OS X 10_9_4) AppleWebKit/537.77.4 (KHTML, like Gecko) Version/7.0.5 Safari/537.77.4\"')\n",
      "(119, datetime.datetime(2018, 11, 29, 16, 13, 23, 796000), 49, 'paid', None, None, 1041, 'San Francisco-Oakland-Hayward, CA', 'Mozilla/5.0 (Windows NT 5.1; rv:31.0) Gecko/20100101 Firefox/31.0')\n",
      "(120, datetime.datetime(2018, 11, 29, 16, 15, 34, 796000), 16, 'paid', None, None, 983, 'Birmingham-Hoover, AL', '\"Mozilla/5.0 (Macintosh; Intel Mac OS X 10_9_4) AppleWebKit/537.77.4 (KHTML, like Gecko) Version/7.0.5 Safari/537.77.4\"')\n",
      "(121, datetime.datetime(2018, 11, 29, 16, 18, 25, 796000), 49, 'paid', None, None, 1041, 'San Francisco-Oakland-Hayward, CA', 'Mozilla/5.0 (Windows NT 5.1; rv:31.0) Gecko/20100101 Firefox/31.0')\n",
      "(122, datetime.datetime(2018, 11, 29, 16, 19, 30, 796000), 16, 'paid', None, None, 983, 'Birmingham-Hoover, AL', '\"Mozilla/5.0 (Macintosh; Intel Mac OS X 10_9_4) AppleWebKit/537.77.4 (KHTML, like Gecko) Version/7.0.5 Safari/537.77.4\"')\n",
      "(123, datetime.datetime(2018, 11, 29, 16, 22, 24, 796000), 49, 'paid', None, None, 1041, 'San Francisco-Oakland-Hayward, CA', 'Mozilla/5.0 (Windows NT 5.1; rv:31.0) Gecko/20100101 Firefox/31.0')\n",
      "(124, datetime.datetime(2018, 11, 29, 16, 23, 27, 796000), 16, 'paid', None, None, 983, 'Birmingham-Hoover, AL', '\"Mozilla/5.0 (Macintosh; Intel Mac OS X 10_9_4) AppleWebKit/537.77.4 (KHTML, like Gecko) Version/7.0.5 Safari/537.77.4\"')\n",
      "(125, datetime.datetime(2018, 11, 29, 16, 26, 21, 796000), 49, 'paid', None, None, 1041, 'San Francisco-Oakland-Hayward, CA', 'Mozilla/5.0 (Windows NT 5.1; rv:31.0) Gecko/20100101 Firefox/31.0')\n",
      "(126, datetime.datetime(2018, 11, 29, 16, 28, 12, 796000), 16, 'paid', None, None, 983, 'Birmingham-Hoover, AL', '\"Mozilla/5.0 (Macintosh; Intel Mac OS X 10_9_4) AppleWebKit/537.77.4 (KHTML, like Gecko) Version/7.0.5 Safari/537.77.4\"')\n",
      "(127, datetime.datetime(2018, 11, 29, 16, 30, 5, 796000), 49, 'paid', None, None, 1041, 'San Francisco-Oakland-Hayward, CA', 'Mozilla/5.0 (Windows NT 5.1; rv:31.0) Gecko/20100101 Firefox/31.0')\n",
      "(128, datetime.datetime(2018, 11, 29, 16, 31, 19, 796000), 16, 'paid', None, None, 983, 'Birmingham-Hoover, AL', '\"Mozilla/5.0 (Macintosh; Intel Mac OS X 10_9_4) AppleWebKit/537.77.4 (KHTML, like Gecko) Version/7.0.5 Safari/537.77.4\"')\n",
      "(129, datetime.datetime(2018, 11, 29, 16, 34, 3, 796000), 49, 'paid', None, None, 1041, 'San Francisco-Oakland-Hayward, CA', 'Mozilla/5.0 (Windows NT 5.1; rv:31.0) Gecko/20100101 Firefox/31.0')\n",
      "(130, datetime.datetime(2018, 11, 29, 16, 36, 45, 796000), 16, 'paid', None, None, 983, 'Birmingham-Hoover, AL', '\"Mozilla/5.0 (Macintosh; Intel Mac OS X 10_9_4) AppleWebKit/537.77.4 (KHTML, like Gecko) Version/7.0.5 Safari/537.77.4\"')\n",
      "(131, datetime.datetime(2018, 11, 29, 16, 38, 29, 796000), 49, 'paid', None, None, 1041, 'San Francisco-Oakland-Hayward, CA', 'Mozilla/5.0 (Windows NT 5.1; rv:31.0) Gecko/20100101 Firefox/31.0')\n",
      "(132, datetime.datetime(2018, 11, 29, 16, 40, 32, 796000), 16, 'paid', None, None, 983, 'Birmingham-Hoover, AL', '\"Mozilla/5.0 (Macintosh; Intel Mac OS X 10_9_4) AppleWebKit/537.77.4 (KHTML, like Gecko) Version/7.0.5 Safari/537.77.4\"')\n",
      "(133, datetime.datetime(2018, 11, 29, 16, 41, 33, 796000), 49, 'paid', None, None, 1041, 'San Francisco-Oakland-Hayward, CA', 'Mozilla/5.0 (Windows NT 5.1; rv:31.0) Gecko/20100101 Firefox/31.0')\n",
      "(134, datetime.datetime(2018, 11, 29, 16, 41, 37, 796000), 16, 'paid', None, None, 983, 'Birmingham-Hoover, AL', '\"Mozilla/5.0 (Macintosh; Intel Mac OS X 10_9_4) AppleWebKit/537.77.4 (KHTML, like Gecko) Version/7.0.5 Safari/537.77.4\"')\n",
      "(135, datetime.datetime(2018, 11, 29, 16, 44, 39, 796000), 16, 'paid', None, None, 983, 'Birmingham-Hoover, AL', '\"Mozilla/5.0 (Macintosh; Intel Mac OS X 10_9_4) AppleWebKit/537.77.4 (KHTML, like Gecko) Version/7.0.5 Safari/537.77.4\"')\n",
      "(136, datetime.datetime(2018, 11, 29, 16, 45, 38, 796000), 49, 'paid', None, None, 1041, 'San Francisco-Oakland-Hayward, CA', 'Mozilla/5.0 (Windows NT 5.1; rv:31.0) Gecko/20100101 Firefox/31.0')\n",
      "(137, datetime.datetime(2018, 11, 29, 16, 47, 38, 796000), 16, 'paid', None, None, 983, 'Birmingham-Hoover, AL', '\"Mozilla/5.0 (Macintosh; Intel Mac OS X 10_9_4) AppleWebKit/537.77.4 (KHTML, like Gecko) Version/7.0.5 Safari/537.77.4\"')\n",
      "(138, datetime.datetime(2018, 11, 29, 16, 47, 42, 796000), 82, 'paid', None, None, 1017, 'Atlanta-Sandy Springs-Roswell, GA', '\"Mozilla/5.0 (Macintosh; Intel Mac OS X 10_9_3) AppleWebKit/537.36 (KHTML, like Gecko) Chrome/37.0.2062.94 Safari/537.36\"')\n",
      "(139, datetime.datetime(2018, 11, 29, 16, 49, 25, 796000), 49, 'paid', None, None, 1041, 'San Francisco-Oakland-Hayward, CA', 'Mozilla/5.0 (Windows NT 5.1; rv:31.0) Gecko/20100101 Firefox/31.0')\n",
      "(140, datetime.datetime(2018, 11, 29, 16, 50, 16, 796000), 16, 'paid', None, None, 983, 'Birmingham-Hoover, AL', '\"Mozilla/5.0 (Macintosh; Intel Mac OS X 10_9_4) AppleWebKit/537.77.4 (KHTML, like Gecko) Version/7.0.5 Safari/537.77.4\"')\n",
      "(141, datetime.datetime(2018, 11, 29, 16, 54, 22, 796000), 16, 'paid', None, None, 983, 'Birmingham-Hoover, AL', '\"Mozilla/5.0 (Macintosh; Intel Mac OS X 10_9_4) AppleWebKit/537.77.4 (KHTML, like Gecko) Version/7.0.5 Safari/537.77.4\"')\n",
      "(142, datetime.datetime(2018, 11, 29, 16, 54, 27, 796000), 82, 'paid', None, None, 1017, 'Atlanta-Sandy Springs-Roswell, GA', '\"Mozilla/5.0 (Macintosh; Intel Mac OS X 10_9_3) AppleWebKit/537.36 (KHTML, like Gecko) Chrome/37.0.2062.94 Safari/537.36\"')\n",
      "(143, datetime.datetime(2018, 11, 29, 16, 54, 41, 796000), 49, 'paid', None, None, 1041, 'San Francisco-Oakland-Hayward, CA', 'Mozilla/5.0 (Windows NT 5.1; rv:31.0) Gecko/20100101 Firefox/31.0')\n",
      "(144, datetime.datetime(2018, 11, 29, 16, 55, 14, 796000), 44, 'paid', None, None, 1003, 'Waterloo-Cedar Falls, IA', 'Mozilla/5.0 (Macintosh; Intel Mac OS X 10.9; rv:31.0) Gecko/20100101 Firefox/31.0')\n",
      "(145, datetime.datetime(2018, 11, 29, 16, 58, 1, 796000), 49, 'paid', None, None, 1041, 'San Francisco-Oakland-Hayward, CA', 'Mozilla/5.0 (Windows NT 5.1; rv:31.0) Gecko/20100101 Firefox/31.0')\n",
      "(146, datetime.datetime(2018, 11, 29, 16, 58, 3, 796000), 82, 'paid', None, None, 1017, 'Atlanta-Sandy Springs-Roswell, GA', '\"Mozilla/5.0 (Macintosh; Intel Mac OS X 10_9_3) AppleWebKit/537.36 (KHTML, like Gecko) Chrome/37.0.2062.94 Safari/537.36\"')\n",
      "(147, datetime.datetime(2018, 11, 29, 16, 58, 11, 796000), 16, 'paid', None, None, 983, 'Birmingham-Hoover, AL', '\"Mozilla/5.0 (Macintosh; Intel Mac OS X 10_9_4) AppleWebKit/537.77.4 (KHTML, like Gecko) Version/7.0.5 Safari/537.77.4\"')\n",
      "(148, datetime.datetime(2018, 11, 29, 17, 1, 21, 796000), 16, 'paid', None, None, 983, 'Birmingham-Hoover, AL', '\"Mozilla/5.0 (Macintosh; Intel Mac OS X 10_9_4) AppleWebKit/537.77.4 (KHTML, like Gecko) Version/7.0.5 Safari/537.77.4\"')\n",
      "(149, datetime.datetime(2018, 11, 29, 17, 1, 34, 796000), 49, 'paid', None, None, 1041, 'San Francisco-Oakland-Hayward, CA', 'Mozilla/5.0 (Windows NT 5.1; rv:31.0) Gecko/20100101 Firefox/31.0')\n",
      "(150, datetime.datetime(2018, 11, 29, 17, 1, 41, 796000), 82, 'paid', None, None, 1017, 'Atlanta-Sandy Springs-Roswell, GA', '\"Mozilla/5.0 (Macintosh; Intel Mac OS X 10_9_3) AppleWebKit/537.36 (KHTML, like Gecko) Chrome/37.0.2062.94 Safari/537.36\"')\n",
      "(151, datetime.datetime(2018, 11, 29, 17, 1, 49, 796000), 44, 'paid', None, None, 1003, 'Waterloo-Cedar Falls, IA', 'Mozilla/5.0 (Macintosh; Intel Mac OS X 10.9; rv:31.0) Gecko/20100101 Firefox/31.0')\n",
      "(152, datetime.datetime(2018, 11, 29, 17, 5, 10, 796000), 16, 'paid', None, None, 983, 'Birmingham-Hoover, AL', '\"Mozilla/5.0 (Macintosh; Intel Mac OS X 10_9_4) AppleWebKit/537.77.4 (KHTML, like Gecko) Version/7.0.5 Safari/537.77.4\"')\n",
      "(153, datetime.datetime(2018, 11, 29, 17, 5, 20, 796000), 44, 'paid', None, None, 1003, 'Waterloo-Cedar Falls, IA', 'Mozilla/5.0 (Macintosh; Intel Mac OS X 10.9; rv:31.0) Gecko/20100101 Firefox/31.0')\n",
      "(154, datetime.datetime(2018, 11, 29, 17, 5, 26, 796000), 49, 'paid', None, None, 1041, 'San Francisco-Oakland-Hayward, CA', 'Mozilla/5.0 (Windows NT 5.1; rv:31.0) Gecko/20100101 Firefox/31.0')\n",
      "(155, datetime.datetime(2018, 11, 29, 17, 6, 16, 796000), 4, 'free', None, None, 1054, 'Parkersburg-Vienna, WV', '\"Mozilla/5.0 (Windows NT 6.1; WOW64) AppleWebKit/537.36 (KHTML, like Gecko) Chrome/36.0.1985.125 Safari/537.36\"')\n",
      "(156, datetime.datetime(2018, 11, 29, 17, 6, 48, 796000), 82, 'paid', None, None, 1017, 'Atlanta-Sandy Springs-Roswell, GA', '\"Mozilla/5.0 (Macintosh; Intel Mac OS X 10_9_3) AppleWebKit/537.36 (KHTML, like Gecko) Chrome/37.0.2062.94 Safari/537.36\"')\n",
      "(157, datetime.datetime(2018, 11, 29, 17, 9, 13, 796000), 49, 'paid', None, None, 1041, 'San Francisco-Oakland-Hayward, CA', 'Mozilla/5.0 (Windows NT 5.1; rv:31.0) Gecko/20100101 Firefox/31.0')\n",
      "(158, datetime.datetime(2018, 11, 29, 17, 9, 14, 796000), 16, 'paid', None, None, 983, 'Birmingham-Hoover, AL', '\"Mozilla/5.0 (Macintosh; Intel Mac OS X 10_9_4) AppleWebKit/537.77.4 (KHTML, like Gecko) Version/7.0.5 Safari/537.77.4\"')\n",
      "(159, datetime.datetime(2018, 11, 29, 17, 10, 14, 796000), 82, 'paid', None, None, 1017, 'Atlanta-Sandy Springs-Roswell, GA', '\"Mozilla/5.0 (Macintosh; Intel Mac OS X 10_9_3) AppleWebKit/537.36 (KHTML, like Gecko) Chrome/37.0.2062.94 Safari/537.36\"')\n",
      "(160, datetime.datetime(2018, 11, 29, 17, 12, 34, 796000), 49, 'paid', None, None, 1041, 'San Francisco-Oakland-Hayward, CA', 'Mozilla/5.0 (Windows NT 5.1; rv:31.0) Gecko/20100101 Firefox/31.0')\n",
      "(161, datetime.datetime(2018, 11, 29, 17, 13, 55, 796000), 16, 'paid', None, None, 983, 'Birmingham-Hoover, AL', '\"Mozilla/5.0 (Macintosh; Intel Mac OS X 10_9_4) AppleWebKit/537.77.4 (KHTML, like Gecko) Version/7.0.5 Safari/537.77.4\"')\n",
      "(162, datetime.datetime(2018, 11, 29, 17, 14, 22, 796000), 82, 'paid', None, None, 1017, 'Atlanta-Sandy Springs-Roswell, GA', '\"Mozilla/5.0 (Macintosh; Intel Mac OS X 10_9_3) AppleWebKit/537.36 (KHTML, like Gecko) Chrome/37.0.2062.94 Safari/537.36\"')\n",
      "(163, datetime.datetime(2018, 11, 29, 17, 16, 11, 796000), 49, 'paid', None, None, 1041, 'San Francisco-Oakland-Hayward, CA', 'Mozilla/5.0 (Windows NT 5.1; rv:31.0) Gecko/20100101 Firefox/31.0')\n",
      "(164, datetime.datetime(2018, 11, 29, 17, 18, 1, 796000), 82, 'paid', None, None, 1017, 'Atlanta-Sandy Springs-Roswell, GA', '\"Mozilla/5.0 (Macintosh; Intel Mac OS X 10_9_3) AppleWebKit/537.36 (KHTML, like Gecko) Chrome/37.0.2062.94 Safari/537.36\"')\n",
      "(165, datetime.datetime(2018, 11, 29, 17, 18, 33, 796000), 16, 'paid', None, None, 983, 'Birmingham-Hoover, AL', '\"Mozilla/5.0 (Macintosh; Intel Mac OS X 10_9_4) AppleWebKit/537.77.4 (KHTML, like Gecko) Version/7.0.5 Safari/537.77.4\"')\n",
      "(166, datetime.datetime(2018, 11, 29, 17, 19, 26, 796000), 49, 'paid', None, None, 1041, 'San Francisco-Oakland-Hayward, CA', 'Mozilla/5.0 (Windows NT 5.1; rv:31.0) Gecko/20100101 Firefox/31.0')\n",
      "(167, datetime.datetime(2018, 11, 29, 17, 22, 1, 796000), 49, 'paid', None, None, 1041, 'San Francisco-Oakland-Hayward, CA', 'Mozilla/5.0 (Windows NT 5.1; rv:31.0) Gecko/20100101 Firefox/31.0')\n",
      "(168, datetime.datetime(2018, 11, 29, 17, 22, 27, 796000), 16, 'paid', None, None, 983, 'Birmingham-Hoover, AL', '\"Mozilla/5.0 (Macintosh; Intel Mac OS X 10_9_4) AppleWebKit/537.77.4 (KHTML, like Gecko) Version/7.0.5 Safari/537.77.4\"')\n",
      "(169, datetime.datetime(2018, 11, 29, 17, 23, 1, 796000), 82, 'paid', None, None, 1017, 'Atlanta-Sandy Springs-Roswell, GA', '\"Mozilla/5.0 (Macintosh; Intel Mac OS X 10_9_3) AppleWebKit/537.36 (KHTML, like Gecko) Chrome/37.0.2062.94 Safari/537.36\"')\n",
      "(170, datetime.datetime(2018, 11, 29, 17, 24, 32, 796000), 16, 'paid', None, None, 983, 'Birmingham-Hoover, AL', '\"Mozilla/5.0 (Macintosh; Intel Mac OS X 10_9_4) AppleWebKit/537.77.4 (KHTML, like Gecko) Version/7.0.5 Safari/537.77.4\"')\n",
      "(171, datetime.datetime(2018, 11, 29, 17, 25, 44, 796000), 49, 'paid', None, None, 1041, 'San Francisco-Oakland-Hayward, CA', 'Mozilla/5.0 (Windows NT 5.1; rv:31.0) Gecko/20100101 Firefox/31.0')\n",
      "(172, datetime.datetime(2018, 11, 29, 17, 27, 23, 796000), 82, 'paid', None, None, 1017, 'Atlanta-Sandy Springs-Roswell, GA', '\"Mozilla/5.0 (Macintosh; Intel Mac OS X 10_9_3) AppleWebKit/537.36 (KHTML, like Gecko) Chrome/37.0.2062.94 Safari/537.36\"')\n",
      "(173, datetime.datetime(2018, 11, 29, 17, 28, 38, 796000), 16, 'paid', None, None, 983, 'Birmingham-Hoover, AL', '\"Mozilla/5.0 (Macintosh; Intel Mac OS X 10_9_4) AppleWebKit/537.77.4 (KHTML, like Gecko) Version/7.0.5 Safari/537.77.4\"')\n",
      "(174, datetime.datetime(2018, 11, 29, 17, 31, 27, 796000), 82, 'paid', None, None, 1017, 'Atlanta-Sandy Springs-Roswell, GA', '\"Mozilla/5.0 (Macintosh; Intel Mac OS X 10_9_3) AppleWebKit/537.36 (KHTML, like Gecko) Chrome/37.0.2062.94 Safari/537.36\"')\n",
      "(175, datetime.datetime(2018, 11, 29, 17, 32, 0, 796000), 82, 'paid', None, None, 1017, 'Atlanta-Sandy Springs-Roswell, GA', '\"Mozilla/5.0 (Macintosh; Intel Mac OS X 10_9_3) AppleWebKit/537.36 (KHTML, like Gecko) Chrome/37.0.2062.94 Safari/537.36\"')\n",
      "(176, datetime.datetime(2018, 11, 29, 17, 33, 22, 796000), 16, 'paid', None, None, 983, 'Birmingham-Hoover, AL', '\"Mozilla/5.0 (Macintosh; Intel Mac OS X 10_9_4) AppleWebKit/537.77.4 (KHTML, like Gecko) Version/7.0.5 Safari/537.77.4\"')\n",
      "(177, datetime.datetime(2018, 11, 29, 17, 35, 29, 796000), 82, 'paid', None, None, 1017, 'Atlanta-Sandy Springs-Roswell, GA', '\"Mozilla/5.0 (Macintosh; Intel Mac OS X 10_9_3) AppleWebKit/537.36 (KHTML, like Gecko) Chrome/37.0.2062.94 Safari/537.36\"')\n",
      "(178, datetime.datetime(2018, 11, 29, 17, 39, 31, 796000), 82, 'paid', None, None, 1017, 'Atlanta-Sandy Springs-Roswell, GA', '\"Mozilla/5.0 (Macintosh; Intel Mac OS X 10_9_3) AppleWebKit/537.36 (KHTML, like Gecko) Chrome/37.0.2062.94 Safari/537.36\"')\n",
      "(179, datetime.datetime(2018, 11, 29, 17, 39, 48, 796000), 16, 'paid', None, None, 983, 'Birmingham-Hoover, AL', '\"Mozilla/5.0 (Macintosh; Intel Mac OS X 10_9_4) AppleWebKit/537.77.4 (KHTML, like Gecko) Version/7.0.5 Safari/537.77.4\"')\n",
      "(180, datetime.datetime(2018, 11, 29, 17, 41, 2, 796000), 75, 'free', None, None, 721, 'Columbia, SC', '\"Mozilla/5.0 (Macintosh; Intel Mac OS X 10_9_3) AppleWebKit/537.75.14 (KHTML, like Gecko) Version/7.0.3 Safari/537.75.14\"')\n",
      "(181, datetime.datetime(2018, 11, 29, 17, 41, 54, 796000), 49, 'paid', None, None, 1041, 'San Francisco-Oakland-Hayward, CA', 'Mozilla/5.0 (Windows NT 5.1; rv:31.0) Gecko/20100101 Firefox/31.0')\n",
      "(182, datetime.datetime(2018, 11, 29, 17, 43, 21, 796000), 75, 'free', None, None, 721, 'Columbia, SC', '\"Mozilla/5.0 (Macintosh; Intel Mac OS X 10_9_3) AppleWebKit/537.75.14 (KHTML, like Gecko) Version/7.0.3 Safari/537.75.14\"')\n",
      "(183, datetime.datetime(2018, 11, 29, 17, 45, 34, 796000), 16, 'paid', None, None, 983, 'Birmingham-Hoover, AL', '\"Mozilla/5.0 (Macintosh; Intel Mac OS X 10_9_4) AppleWebKit/537.77.4 (KHTML, like Gecko) Version/7.0.5 Safari/537.77.4\"')\n",
      "(184, datetime.datetime(2018, 11, 29, 17, 45, 51, 796000), 39, 'free', None, None, 1047, 'San Francisco-Oakland-Hayward, CA', '\"Mozilla/5.0 (Macintosh; Intel Mac OS X 10_9_4) AppleWebKit/537.36 (KHTML, like Gecko) Chrome/36.0.1985.143 Safari/537.36\"')\n",
      "(185, datetime.datetime(2018, 11, 29, 17, 48, 25, 796000), 82, 'paid', None, None, 1017, 'Atlanta-Sandy Springs-Roswell, GA', '\"Mozilla/5.0 (Macintosh; Intel Mac OS X 10_9_3) AppleWebKit/537.36 (KHTML, like Gecko) Chrome/37.0.2062.94 Safari/537.36\"')\n",
      "(186, datetime.datetime(2018, 11, 29, 17, 49, 47, 796000), 75, 'free', None, None, 721, 'Columbia, SC', '\"Mozilla/5.0 (Macintosh; Intel Mac OS X 10_9_3) AppleWebKit/537.75.14 (KHTML, like Gecko) Version/7.0.3 Safari/537.75.14\"')\n",
      "(187, datetime.datetime(2018, 11, 29, 17, 50, 11, 796000), 49, 'paid', None, None, 1041, 'San Francisco-Oakland-Hayward, CA', 'Mozilla/5.0 (Windows NT 5.1; rv:31.0) Gecko/20100101 Firefox/31.0')\n",
      "(188, datetime.datetime(2018, 11, 29, 17, 51, 12, 796000), 16, 'paid', None, None, 983, 'Birmingham-Hoover, AL', '\"Mozilla/5.0 (Macintosh; Intel Mac OS X 10_9_4) AppleWebKit/537.77.4 (KHTML, like Gecko) Version/7.0.5 Safari/537.77.4\"')\n",
      "(189, datetime.datetime(2018, 11, 29, 17, 52, 18, 796000), 82, 'paid', None, None, 1017, 'Atlanta-Sandy Springs-Roswell, GA', '\"Mozilla/5.0 (Macintosh; Intel Mac OS X 10_9_3) AppleWebKit/537.36 (KHTML, like Gecko) Chrome/37.0.2062.94 Safari/537.36\"')\n",
      "(190, datetime.datetime(2018, 11, 29, 17, 53, 45, 796000), 49, 'paid', None, None, 1041, 'San Francisco-Oakland-Hayward, CA', 'Mozilla/5.0 (Windows NT 5.1; rv:31.0) Gecko/20100101 Firefox/31.0')\n",
      "(191, datetime.datetime(2018, 11, 29, 17, 55, 54, 796000), 82, 'paid', None, None, 1017, 'Atlanta-Sandy Springs-Roswell, GA', '\"Mozilla/5.0 (Macintosh; Intel Mac OS X 10_9_3) AppleWebKit/537.36 (KHTML, like Gecko) Chrome/37.0.2062.94 Safari/537.36\"')\n",
      "(192, datetime.datetime(2018, 11, 29, 17, 56, 29, 796000), 16, 'paid', None, None, 983, 'Birmingham-Hoover, AL', '\"Mozilla/5.0 (Macintosh; Intel Mac OS X 10_9_4) AppleWebKit/537.77.4 (KHTML, like Gecko) Version/7.0.5 Safari/537.77.4\"')\n",
      "(193, datetime.datetime(2018, 11, 29, 17, 58, 58, 796000), 49, 'paid', None, None, 1041, 'San Francisco-Oakland-Hayward, CA', 'Mozilla/5.0 (Windows NT 5.1; rv:31.0) Gecko/20100101 Firefox/31.0')\n",
      "(194, datetime.datetime(2018, 11, 29, 17, 59, 53, 796000), 82, 'paid', None, None, 1017, 'Atlanta-Sandy Springs-Roswell, GA', '\"Mozilla/5.0 (Macintosh; Intel Mac OS X 10_9_3) AppleWebKit/537.36 (KHTML, like Gecko) Chrome/37.0.2062.94 Safari/537.36\"')\n",
      "(195, datetime.datetime(2018, 11, 29, 18, 1, 37, 796000), 49, 'paid', None, None, 1041, 'San Francisco-Oakland-Hayward, CA', 'Mozilla/5.0 (Windows NT 5.1; rv:31.0) Gecko/20100101 Firefox/31.0')\n",
      "(196, datetime.datetime(2018, 11, 29, 18, 3, 18, 796000), 16, 'paid', None, None, 983, 'Birmingham-Hoover, AL', '\"Mozilla/5.0 (Macintosh; Intel Mac OS X 10_9_4) AppleWebKit/537.77.4 (KHTML, like Gecko) Version/7.0.5 Safari/537.77.4\"')\n",
      "(197, datetime.datetime(2018, 11, 29, 18, 3, 38, 796000), 82, 'paid', None, None, 1017, 'Atlanta-Sandy Springs-Roswell, GA', '\"Mozilla/5.0 (Macintosh; Intel Mac OS X 10_9_3) AppleWebKit/537.36 (KHTML, like Gecko) Chrome/37.0.2062.94 Safari/537.36\"')\n",
      "(198, datetime.datetime(2018, 11, 29, 18, 5, 39, 796000), 49, 'paid', None, None, 1041, 'San Francisco-Oakland-Hayward, CA', 'Mozilla/5.0 (Windows NT 5.1; rv:31.0) Gecko/20100101 Firefox/31.0')\n",
      "(199, datetime.datetime(2018, 11, 29, 18, 7, 55, 796000), 16, 'paid', None, None, 983, 'Birmingham-Hoover, AL', '\"Mozilla/5.0 (Macintosh; Intel Mac OS X 10_9_4) AppleWebKit/537.77.4 (KHTML, like Gecko) Version/7.0.5 Safari/537.77.4\"')\n",
      "(200, datetime.datetime(2018, 11, 29, 18, 7, 57, 796000), 82, 'paid', None, None, 1017, 'Atlanta-Sandy Springs-Roswell, GA', '\"Mozilla/5.0 (Macintosh; Intel Mac OS X 10_9_3) AppleWebKit/537.36 (KHTML, like Gecko) Chrome/37.0.2062.94 Safari/537.36\"')\n",
      "(201, datetime.datetime(2018, 11, 29, 18, 9, 1, 796000), 49, 'paid', None, None, 1041, 'San Francisco-Oakland-Hayward, CA', 'Mozilla/5.0 (Windows NT 5.1; rv:31.0) Gecko/20100101 Firefox/31.0')\n",
      "(202, datetime.datetime(2018, 11, 29, 18, 11, 0, 796000), 16, 'paid', None, None, 983, 'Birmingham-Hoover, AL', '\"Mozilla/5.0 (Macintosh; Intel Mac OS X 10_9_4) AppleWebKit/537.77.4 (KHTML, like Gecko) Version/7.0.5 Safari/537.77.4\"')\n",
      "(203, datetime.datetime(2018, 11, 29, 18, 12, 55, 796000), 82, 'paid', None, None, 1017, 'Atlanta-Sandy Springs-Roswell, GA', '\"Mozilla/5.0 (Macintosh; Intel Mac OS X 10_9_3) AppleWebKit/537.36 (KHTML, like Gecko) Chrome/37.0.2062.94 Safari/537.36\"')\n",
      "(204, datetime.datetime(2018, 11, 29, 18, 13, 2, 796000), 49, 'paid', None, None, 1041, 'San Francisco-Oakland-Hayward, CA', 'Mozilla/5.0 (Windows NT 5.1; rv:31.0) Gecko/20100101 Firefox/31.0')\n",
      "(205, datetime.datetime(2018, 11, 29, 18, 13, 45, 796000), 44, 'paid', None, None, 1069, 'Waterloo-Cedar Falls, IA', 'Mozilla/5.0 (Macintosh; Intel Mac OS X 10.9; rv:31.0) Gecko/20100101 Firefox/31.0')\n",
      "(206, datetime.datetime(2018, 11, 29, 18, 14, 44, 796000), 16, 'paid', None, None, 983, 'Birmingham-Hoover, AL', '\"Mozilla/5.0 (Macintosh; Intel Mac OS X 10_9_4) AppleWebKit/537.77.4 (KHTML, like Gecko) Version/7.0.5 Safari/537.77.4\"')\n",
      "(207, datetime.datetime(2018, 11, 29, 18, 17, 33, 796000), 82, 'paid', None, None, 1017, 'Atlanta-Sandy Springs-Roswell, GA', '\"Mozilla/5.0 (Macintosh; Intel Mac OS X 10_9_3) AppleWebKit/537.36 (KHTML, like Gecko) Chrome/37.0.2062.94 Safari/537.36\"')\n",
      "(208, datetime.datetime(2018, 11, 29, 18, 18, 9, 796000), 49, 'paid', None, None, 1041, 'San Francisco-Oakland-Hayward, CA', 'Mozilla/5.0 (Windows NT 5.1; rv:31.0) Gecko/20100101 Firefox/31.0')\n",
      "(209, datetime.datetime(2018, 11, 29, 18, 21, 12, 796000), 82, 'paid', None, None, 1017, 'Atlanta-Sandy Springs-Roswell, GA', '\"Mozilla/5.0 (Macintosh; Intel Mac OS X 10_9_3) AppleWebKit/537.36 (KHTML, like Gecko) Chrome/37.0.2062.94 Safari/537.36\"')\n",
      "(210, datetime.datetime(2018, 11, 29, 18, 21, 24, 796000), 49, 'paid', None, None, 1041, 'San Francisco-Oakland-Hayward, CA', 'Mozilla/5.0 (Windows NT 5.1; rv:31.0) Gecko/20100101 Firefox/31.0')\n",
      "(211, datetime.datetime(2018, 11, 29, 18, 21, 52, 796000), 16, 'paid', None, None, 983, 'Birmingham-Hoover, AL', '\"Mozilla/5.0 (Macintosh; Intel Mac OS X 10_9_4) AppleWebKit/537.77.4 (KHTML, like Gecko) Version/7.0.5 Safari/537.77.4\"')\n",
      "(212, datetime.datetime(2018, 11, 29, 18, 24, 29, 796000), 49, 'paid', None, None, 1041, 'San Francisco-Oakland-Hayward, CA', 'Mozilla/5.0 (Windows NT 5.1; rv:31.0) Gecko/20100101 Firefox/31.0')\n",
      "(213, datetime.datetime(2018, 11, 29, 18, 24, 38, 796000), 82, 'paid', None, None, 1017, 'Atlanta-Sandy Springs-Roswell, GA', '\"Mozilla/5.0 (Macintosh; Intel Mac OS X 10_9_3) AppleWebKit/537.36 (KHTML, like Gecko) Chrome/37.0.2062.94 Safari/537.36\"')\n",
      "(214, datetime.datetime(2018, 11, 29, 18, 26, 27, 796000), 16, 'paid', None, None, 983, 'Birmingham-Hoover, AL', '\"Mozilla/5.0 (Macintosh; Intel Mac OS X 10_9_4) AppleWebKit/537.77.4 (KHTML, like Gecko) Version/7.0.5 Safari/537.77.4\"')\n",
      "(215, datetime.datetime(2018, 11, 29, 18, 26, 53, 796000), 16, 'paid', None, None, 983, 'Birmingham-Hoover, AL', '\"Mozilla/5.0 (Macintosh; Intel Mac OS X 10_9_4) AppleWebKit/537.77.4 (KHTML, like Gecko) Version/7.0.5 Safari/537.77.4\"')\n",
      "(216, datetime.datetime(2018, 11, 29, 18, 27, 24, 796000), 82, 'paid', None, None, 1017, 'Atlanta-Sandy Springs-Roswell, GA', '\"Mozilla/5.0 (Macintosh; Intel Mac OS X 10_9_3) AppleWebKit/537.36 (KHTML, like Gecko) Chrome/37.0.2062.94 Safari/537.36\"')\n",
      "(217, datetime.datetime(2018, 11, 29, 18, 28, 34, 796000), 49, 'paid', None, None, 1041, 'San Francisco-Oakland-Hayward, CA', 'Mozilla/5.0 (Windows NT 5.1; rv:31.0) Gecko/20100101 Firefox/31.0')\n",
      "(218, datetime.datetime(2018, 11, 29, 18, 29, 50, 796000), 82, 'paid', None, None, 1017, 'Atlanta-Sandy Springs-Roswell, GA', '\"Mozilla/5.0 (Macintosh; Intel Mac OS X 10_9_3) AppleWebKit/537.36 (KHTML, like Gecko) Chrome/37.0.2062.94 Safari/537.36\"')\n",
      "(219, datetime.datetime(2018, 11, 29, 18, 30, 15, 796000), 16, 'paid', None, None, 983, 'Birmingham-Hoover, AL', '\"Mozilla/5.0 (Macintosh; Intel Mac OS X 10_9_4) AppleWebKit/537.77.4 (KHTML, like Gecko) Version/7.0.5 Safari/537.77.4\"')\n",
      "(220, datetime.datetime(2018, 11, 29, 18, 33, 4, 796000), 16, 'paid', None, None, 983, 'Birmingham-Hoover, AL', '\"Mozilla/5.0 (Macintosh; Intel Mac OS X 10_9_4) AppleWebKit/537.77.4 (KHTML, like Gecko) Version/7.0.5 Safari/537.77.4\"')\n",
      "(221, datetime.datetime(2018, 11, 29, 18, 33, 35, 796000), 82, 'paid', None, None, 1017, 'Atlanta-Sandy Springs-Roswell, GA', '\"Mozilla/5.0 (Macintosh; Intel Mac OS X 10_9_3) AppleWebKit/537.36 (KHTML, like Gecko) Chrome/37.0.2062.94 Safari/537.36\"')\n",
      "(222, datetime.datetime(2018, 11, 29, 18, 37, 25, 796000), 16, 'paid', None, None, 983, 'Birmingham-Hoover, AL', '\"Mozilla/5.0 (Macintosh; Intel Mac OS X 10_9_4) AppleWebKit/537.77.4 (KHTML, like Gecko) Version/7.0.5 Safari/537.77.4\"')\n",
      "(223, datetime.datetime(2018, 11, 29, 18, 37, 53, 796000), 82, 'paid', None, None, 1017, 'Atlanta-Sandy Springs-Roswell, GA', '\"Mozilla/5.0 (Macintosh; Intel Mac OS X 10_9_3) AppleWebKit/537.36 (KHTML, like Gecko) Chrome/37.0.2062.94 Safari/537.36\"')\n",
      "(224, datetime.datetime(2018, 11, 29, 18, 41, 9, 796000), 16, 'paid', None, None, 983, 'Birmingham-Hoover, AL', '\"Mozilla/5.0 (Macintosh; Intel Mac OS X 10_9_4) AppleWebKit/537.77.4 (KHTML, like Gecko) Version/7.0.5 Safari/537.77.4\"')\n",
      "(225, datetime.datetime(2018, 11, 29, 18, 43, 31, 796000), 82, 'paid', None, None, 1017, 'Atlanta-Sandy Springs-Roswell, GA', '\"Mozilla/5.0 (Macintosh; Intel Mac OS X 10_9_3) AppleWebKit/537.36 (KHTML, like Gecko) Chrome/37.0.2062.94 Safari/537.36\"')\n",
      "(226, datetime.datetime(2018, 11, 29, 18, 46, 10, 796000), 16, 'paid', None, None, 983, 'Birmingham-Hoover, AL', '\"Mozilla/5.0 (Macintosh; Intel Mac OS X 10_9_4) AppleWebKit/537.77.4 (KHTML, like Gecko) Version/7.0.5 Safari/537.77.4\"')\n",
      "(227, datetime.datetime(2018, 11, 29, 18, 47, 30, 796000), 82, 'paid', None, None, 1017, 'Atlanta-Sandy Springs-Roswell, GA', '\"Mozilla/5.0 (Macintosh; Intel Mac OS X 10_9_3) AppleWebKit/537.36 (KHTML, like Gecko) Chrome/37.0.2062.94 Safari/537.36\"')\n",
      "(228, datetime.datetime(2018, 11, 29, 18, 50, 54, 796000), 16, 'paid', None, None, 983, 'Birmingham-Hoover, AL', '\"Mozilla/5.0 (Macintosh; Intel Mac OS X 10_9_4) AppleWebKit/537.77.4 (KHTML, like Gecko) Version/7.0.5 Safari/537.77.4\"')\n",
      "(229, datetime.datetime(2018, 11, 29, 18, 52, 0, 796000), 82, 'paid', None, None, 1017, 'Atlanta-Sandy Springs-Roswell, GA', '\"Mozilla/5.0 (Macintosh; Intel Mac OS X 10_9_3) AppleWebKit/537.36 (KHTML, like Gecko) Chrome/37.0.2062.94 Safari/537.36\"')\n",
      "(230, datetime.datetime(2018, 11, 29, 18, 55, 24, 796000), 16, 'paid', None, None, 983, 'Birmingham-Hoover, AL', '\"Mozilla/5.0 (Macintosh; Intel Mac OS X 10_9_4) AppleWebKit/537.77.4 (KHTML, like Gecko) Version/7.0.5 Safari/537.77.4\"')\n",
      "(231, datetime.datetime(2018, 11, 29, 18, 55, 30, 796000), 82, 'paid', None, None, 1017, 'Atlanta-Sandy Springs-Roswell, GA', '\"Mozilla/5.0 (Macintosh; Intel Mac OS X 10_9_3) AppleWebKit/537.36 (KHTML, like Gecko) Chrome/37.0.2062.94 Safari/537.36\"')\n",
      "(232, datetime.datetime(2018, 11, 29, 18, 58, 33, 796000), 16, 'paid', None, None, 983, 'Birmingham-Hoover, AL', '\"Mozilla/5.0 (Macintosh; Intel Mac OS X 10_9_4) AppleWebKit/537.77.4 (KHTML, like Gecko) Version/7.0.5 Safari/537.77.4\"')\n",
      "(233, datetime.datetime(2018, 11, 29, 19, 0, 17, 796000), 82, 'paid', None, None, 1017, 'Atlanta-Sandy Springs-Roswell, GA', '\"Mozilla/5.0 (Macintosh; Intel Mac OS X 10_9_3) AppleWebKit/537.36 (KHTML, like Gecko) Chrome/37.0.2062.94 Safari/537.36\"')\n",
      "(234, datetime.datetime(2018, 11, 29, 19, 1, 40, 796000), 16, 'paid', None, None, 983, 'Birmingham-Hoover, AL', '\"Mozilla/5.0 (Macintosh; Intel Mac OS X 10_9_4) AppleWebKit/537.77.4 (KHTML, like Gecko) Version/7.0.5 Safari/537.77.4\"')\n",
      "(235, datetime.datetime(2018, 11, 29, 19, 3, 58, 796000), 82, 'paid', None, None, 1017, 'Atlanta-Sandy Springs-Roswell, GA', '\"Mozilla/5.0 (Macintosh; Intel Mac OS X 10_9_3) AppleWebKit/537.36 (KHTML, like Gecko) Chrome/37.0.2062.94 Safari/537.36\"')\n",
      "(236, datetime.datetime(2018, 11, 29, 19, 4, 44, 796000), 82, 'paid', None, None, 1017, 'Atlanta-Sandy Springs-Roswell, GA', '\"Mozilla/5.0 (Macintosh; Intel Mac OS X 10_9_3) AppleWebKit/537.36 (KHTML, like Gecko) Chrome/37.0.2062.94 Safari/537.36\"')\n",
      "(237, datetime.datetime(2018, 11, 29, 19, 6, 24, 796000), 16, 'paid', None, None, 983, 'Birmingham-Hoover, AL', '\"Mozilla/5.0 (Macintosh; Intel Mac OS X 10_9_4) AppleWebKit/537.77.4 (KHTML, like Gecko) Version/7.0.5 Safari/537.77.4\"')\n",
      "(238, datetime.datetime(2018, 11, 29, 19, 8, 41, 796000), 82, 'paid', None, None, 1017, 'Atlanta-Sandy Springs-Roswell, GA', '\"Mozilla/5.0 (Macintosh; Intel Mac OS X 10_9_3) AppleWebKit/537.36 (KHTML, like Gecko) Chrome/37.0.2062.94 Safari/537.36\"')\n",
      "(239, datetime.datetime(2018, 11, 29, 19, 9, 47, 796000), 82, 'paid', None, None, 1017, 'Atlanta-Sandy Springs-Roswell, GA', '\"Mozilla/5.0 (Macintosh; Intel Mac OS X 10_9_3) AppleWebKit/537.36 (KHTML, like Gecko) Chrome/37.0.2062.94 Safari/537.36\"')\n",
      "(240, datetime.datetime(2018, 11, 29, 19, 11, 39, 796000), 16, 'paid', None, None, 983, 'Birmingham-Hoover, AL', '\"Mozilla/5.0 (Macintosh; Intel Mac OS X 10_9_4) AppleWebKit/537.77.4 (KHTML, like Gecko) Version/7.0.5 Safari/537.77.4\"')\n",
      "(241, datetime.datetime(2018, 11, 29, 19, 13, 4, 796000), 82, 'paid', None, None, 1017, 'Atlanta-Sandy Springs-Roswell, GA', '\"Mozilla/5.0 (Macintosh; Intel Mac OS X 10_9_3) AppleWebKit/537.36 (KHTML, like Gecko) Chrome/37.0.2062.94 Safari/537.36\"')\n",
      "(242, datetime.datetime(2018, 11, 29, 19, 14, 56, 796000), 16, 'paid', None, None, 983, 'Birmingham-Hoover, AL', '\"Mozilla/5.0 (Macintosh; Intel Mac OS X 10_9_4) AppleWebKit/537.77.4 (KHTML, like Gecko) Version/7.0.5 Safari/537.77.4\"')\n",
      "(243, datetime.datetime(2018, 11, 29, 19, 15, 33, 796000), 82, 'paid', None, None, 1017, 'Atlanta-Sandy Springs-Roswell, GA', '\"Mozilla/5.0 (Macintosh; Intel Mac OS X 10_9_3) AppleWebKit/537.36 (KHTML, like Gecko) Chrome/37.0.2062.94 Safari/537.36\"')\n",
      "(244, datetime.datetime(2018, 11, 29, 19, 20, 7, 796000), 16, 'paid', None, None, 983, 'Birmingham-Hoover, AL', '\"Mozilla/5.0 (Macintosh; Intel Mac OS X 10_9_4) AppleWebKit/537.77.4 (KHTML, like Gecko) Version/7.0.5 Safari/537.77.4\"')\n",
      "(245, datetime.datetime(2018, 11, 29, 19, 24, 39, 796000), 82, 'paid', None, None, 1017, 'Atlanta-Sandy Springs-Roswell, GA', '\"Mozilla/5.0 (Macintosh; Intel Mac OS X 10_9_3) AppleWebKit/537.36 (KHTML, like Gecko) Chrome/37.0.2062.94 Safari/537.36\"')\n",
      "(246, datetime.datetime(2018, 11, 29, 19, 26, 31, 796000), 16, 'paid', None, None, 983, 'Birmingham-Hoover, AL', '\"Mozilla/5.0 (Macintosh; Intel Mac OS X 10_9_4) AppleWebKit/537.77.4 (KHTML, like Gecko) Version/7.0.5 Safari/537.77.4\"')\n",
      "(247, datetime.datetime(2018, 11, 29, 19, 37, 26, 796000), 16, 'paid', None, None, 983, 'Birmingham-Hoover, AL', '\"Mozilla/5.0 (Macintosh; Intel Mac OS X 10_9_4) AppleWebKit/537.77.4 (KHTML, like Gecko) Version/7.0.5 Safari/537.77.4\"')\n",
      "(248, datetime.datetime(2018, 11, 29, 19, 40, 17, 796000), 16, 'paid', None, None, 983, 'Birmingham-Hoover, AL', '\"Mozilla/5.0 (Macintosh; Intel Mac OS X 10_9_4) AppleWebKit/537.77.4 (KHTML, like Gecko) Version/7.0.5 Safari/537.77.4\"')\n",
      "(249, datetime.datetime(2018, 11, 29, 19, 45, 18, 796000), 16, 'paid', None, None, 983, 'Birmingham-Hoover, AL', '\"Mozilla/5.0 (Macintosh; Intel Mac OS X 10_9_4) AppleWebKit/537.77.4 (KHTML, like Gecko) Version/7.0.5 Safari/537.77.4\"')\n",
      "(250, datetime.datetime(2018, 11, 29, 20, 6, 2, 796000), 49, 'paid', None, None, 1041, 'San Francisco-Oakland-Hayward, CA', 'Mozilla/5.0 (Windows NT 5.1; rv:31.0) Gecko/20100101 Firefox/31.0')\n",
      "(251, datetime.datetime(2018, 11, 29, 20, 8, 58, 796000), 49, 'paid', None, None, 1041, 'San Francisco-Oakland-Hayward, CA', 'Mozilla/5.0 (Windows NT 5.1; rv:31.0) Gecko/20100101 Firefox/31.0')\n",
      "(252, datetime.datetime(2018, 11, 29, 20, 11, 7, 796000), 49, 'paid', None, None, 1041, 'San Francisco-Oakland-Hayward, CA', 'Mozilla/5.0 (Windows NT 5.1; rv:31.0) Gecko/20100101 Firefox/31.0')\n",
      "(253, datetime.datetime(2018, 11, 29, 20, 14, 33, 796000), 49, 'paid', None, None, 1041, 'San Francisco-Oakland-Hayward, CA', 'Mozilla/5.0 (Windows NT 5.1; rv:31.0) Gecko/20100101 Firefox/31.0')\n",
      "(254, datetime.datetime(2018, 11, 29, 20, 18, 35, 796000), 49, 'paid', None, None, 1041, 'San Francisco-Oakland-Hayward, CA', 'Mozilla/5.0 (Windows NT 5.1; rv:31.0) Gecko/20100101 Firefox/31.0')\n",
      "(255, datetime.datetime(2018, 11, 29, 20, 21, 41, 796000), 49, 'paid', None, None, 1041, 'San Francisco-Oakland-Hayward, CA', 'Mozilla/5.0 (Windows NT 5.1; rv:31.0) Gecko/20100101 Firefox/31.0')\n",
      "(256, datetime.datetime(2018, 11, 29, 20, 25, 19, 796000), 49, 'paid', None, None, 1041, 'San Francisco-Oakland-Hayward, CA', 'Mozilla/5.0 (Windows NT 5.1; rv:31.0) Gecko/20100101 Firefox/31.0')\n",
      "(257, datetime.datetime(2018, 11, 29, 20, 29, 23, 796000), 49, 'paid', None, None, 1041, 'San Francisco-Oakland-Hayward, CA', 'Mozilla/5.0 (Windows NT 5.1; rv:31.0) Gecko/20100101 Firefox/31.0')\n",
      "(258, datetime.datetime(2018, 11, 29, 20, 34, 33, 796000), 49, 'paid', None, None, 1041, 'San Francisco-Oakland-Hayward, CA', 'Mozilla/5.0 (Windows NT 5.1; rv:31.0) Gecko/20100101 Firefox/31.0')\n",
      "(259, datetime.datetime(2018, 11, 29, 20, 38, 41, 796000), 80, 'paid', None, None, 1065, 'Portland-South Portland, ME', '\"Mozilla/5.0 (Macintosh; Intel Mac OS X 10_9_4) AppleWebKit/537.36 (KHTML, like Gecko) Chrome/36.0.1985.143 Safari/537.36\"')\n",
      "(260, datetime.datetime(2018, 11, 29, 20, 39, 10, 796000), 49, 'paid', None, None, 1041, 'San Francisco-Oakland-Hayward, CA', 'Mozilla/5.0 (Windows NT 5.1; rv:31.0) Gecko/20100101 Firefox/31.0')\n",
      "(261, datetime.datetime(2018, 11, 29, 20, 43, 6, 796000), 80, 'paid', None, None, 1065, 'Portland-South Portland, ME', '\"Mozilla/5.0 (Macintosh; Intel Mac OS X 10_9_4) AppleWebKit/537.36 (KHTML, like Gecko) Chrome/36.0.1985.143 Safari/537.36\"')\n",
      "(262, datetime.datetime(2018, 11, 29, 20, 43, 7, 796000), 49, 'paid', None, None, 1041, 'San Francisco-Oakland-Hayward, CA', 'Mozilla/5.0 (Windows NT 5.1; rv:31.0) Gecko/20100101 Firefox/31.0')\n",
      "(263, datetime.datetime(2018, 11, 29, 20, 46, 47, 796000), 49, 'paid', None, None, 1041, 'San Francisco-Oakland-Hayward, CA', 'Mozilla/5.0 (Windows NT 5.1; rv:31.0) Gecko/20100101 Firefox/31.0')\n",
      "(264, datetime.datetime(2018, 11, 29, 20, 46, 54, 796000), 80, 'paid', None, None, 1065, 'Portland-South Portland, ME', '\"Mozilla/5.0 (Macintosh; Intel Mac OS X 10_9_4) AppleWebKit/537.36 (KHTML, like Gecko) Chrome/36.0.1985.143 Safari/537.36\"')\n",
      "(265, datetime.datetime(2018, 11, 29, 20, 51, 10, 796000), 49, 'paid', None, None, 1041, 'San Francisco-Oakland-Hayward, CA', 'Mozilla/5.0 (Windows NT 5.1; rv:31.0) Gecko/20100101 Firefox/31.0')\n",
      "(266, datetime.datetime(2018, 11, 29, 20, 52, 5, 796000), 80, 'paid', None, None, 1065, 'Portland-South Portland, ME', '\"Mozilla/5.0 (Macintosh; Intel Mac OS X 10_9_4) AppleWebKit/537.36 (KHTML, like Gecko) Chrome/36.0.1985.143 Safari/537.36\"')\n",
      "(267, datetime.datetime(2018, 11, 29, 20, 54, 7, 796000), 49, 'paid', None, None, 1041, 'San Francisco-Oakland-Hayward, CA', 'Mozilla/5.0 (Windows NT 5.1; rv:31.0) Gecko/20100101 Firefox/31.0')\n",
      "(268, datetime.datetime(2018, 11, 29, 20, 54, 41, 796000), 80, 'paid', None, None, 1065, 'Portland-South Portland, ME', '\"Mozilla/5.0 (Macintosh; Intel Mac OS X 10_9_4) AppleWebKit/537.36 (KHTML, like Gecko) Chrome/36.0.1985.143 Safari/537.36\"')\n",
      "(269, datetime.datetime(2018, 11, 29, 20, 58, 44, 796000), 49, 'paid', None, None, 1041, 'San Francisco-Oakland-Hayward, CA', 'Mozilla/5.0 (Windows NT 5.1; rv:31.0) Gecko/20100101 Firefox/31.0')\n",
      "(270, datetime.datetime(2018, 11, 29, 21, 0, 3, 796000), 80, 'paid', None, None, 1065, 'Portland-South Portland, ME', '\"Mozilla/5.0 (Macintosh; Intel Mac OS X 10_9_4) AppleWebKit/537.36 (KHTML, like Gecko) Chrome/36.0.1985.143 Safari/537.36\"')\n",
      "(271, datetime.datetime(2018, 11, 29, 21, 1, 7, 796000), 49, 'paid', None, None, 1041, 'San Francisco-Oakland-Hayward, CA', 'Mozilla/5.0 (Windows NT 5.1; rv:31.0) Gecko/20100101 Firefox/31.0')\n",
      "(272, datetime.datetime(2018, 11, 29, 21, 3, 20, 796000), 49, 'paid', None, None, 1041, 'San Francisco-Oakland-Hayward, CA', 'Mozilla/5.0 (Windows NT 5.1; rv:31.0) Gecko/20100101 Firefox/31.0')\n",
      "(273, datetime.datetime(2018, 11, 29, 21, 6, 3, 796000), 80, 'paid', None, None, 1065, 'Portland-South Portland, ME', '\"Mozilla/5.0 (Macintosh; Intel Mac OS X 10_9_4) AppleWebKit/537.36 (KHTML, like Gecko) Chrome/36.0.1985.143 Safari/537.36\"')\n",
      "(274, datetime.datetime(2018, 11, 29, 21, 6, 35, 796000), 49, 'paid', None, None, 1041, 'San Francisco-Oakland-Hayward, CA', 'Mozilla/5.0 (Windows NT 5.1; rv:31.0) Gecko/20100101 Firefox/31.0')\n",
      "(275, datetime.datetime(2018, 11, 29, 21, 9, 20, 796000), 80, 'paid', None, None, 1065, 'Portland-South Portland, ME', '\"Mozilla/5.0 (Macintosh; Intel Mac OS X 10_9_4) AppleWebKit/537.36 (KHTML, like Gecko) Chrome/36.0.1985.143 Safari/537.36\"')\n",
      "(276, datetime.datetime(2018, 11, 29, 21, 12, 56, 796000), 49, 'paid', None, None, 1041, 'San Francisco-Oakland-Hayward, CA', 'Mozilla/5.0 (Windows NT 5.1; rv:31.0) Gecko/20100101 Firefox/31.0')\n",
      "(277, datetime.datetime(2018, 11, 29, 21, 14, 16, 796000), 55, 'free', None, None, 1008, 'Minneapolis-St. Paul-Bloomington, MN-WI', '\"Mozilla/5.0 (Macintosh; Intel Mac OS X 10_9_4) AppleWebKit/537.78.2 (KHTML, like Gecko) Version/7.0.6 Safari/537.78.2\"')\n",
      "(278, datetime.datetime(2018, 11, 29, 21, 14, 49, 796000), 80, 'paid', None, None, 1065, 'Portland-South Portland, ME', '\"Mozilla/5.0 (Macintosh; Intel Mac OS X 10_9_4) AppleWebKit/537.36 (KHTML, like Gecko) Chrome/36.0.1985.143 Safari/537.36\"')\n",
      "(279, datetime.datetime(2018, 11, 29, 21, 16, 53, 796000), 55, 'free', None, None, 1008, 'Minneapolis-St. Paul-Bloomington, MN-WI', '\"Mozilla/5.0 (Macintosh; Intel Mac OS X 10_9_4) AppleWebKit/537.78.2 (KHTML, like Gecko) Version/7.0.6 Safari/537.78.2\"')\n",
      "(280, datetime.datetime(2018, 11, 29, 21, 17, 30, 796000), 49, 'paid', None, None, 1041, 'San Francisco-Oakland-Hayward, CA', 'Mozilla/5.0 (Windows NT 5.1; rv:31.0) Gecko/20100101 Firefox/31.0')\n",
      "(281, datetime.datetime(2018, 11, 29, 21, 19, 18, 796000), 80, 'paid', None, None, 1065, 'Portland-South Portland, ME', '\"Mozilla/5.0 (Macintosh; Intel Mac OS X 10_9_4) AppleWebKit/537.36 (KHTML, like Gecko) Chrome/36.0.1985.143 Safari/537.36\"')\n",
      "(282, datetime.datetime(2018, 11, 29, 21, 20, 57, 796000), 49, 'paid', None, None, 1041, 'San Francisco-Oakland-Hayward, CA', 'Mozilla/5.0 (Windows NT 5.1; rv:31.0) Gecko/20100101 Firefox/31.0')\n",
      "(283, datetime.datetime(2018, 11, 29, 21, 21, 47, 796000), 55, 'free', None, None, 1008, 'Minneapolis-St. Paul-Bloomington, MN-WI', '\"Mozilla/5.0 (Macintosh; Intel Mac OS X 10_9_4) AppleWebKit/537.78.2 (KHTML, like Gecko) Version/7.0.6 Safari/537.78.2\"')\n",
      "(284, datetime.datetime(2018, 11, 29, 21, 22, 18, 796000), 80, 'paid', None, None, 1065, 'Portland-South Portland, ME', '\"Mozilla/5.0 (Macintosh; Intel Mac OS X 10_9_4) AppleWebKit/537.36 (KHTML, like Gecko) Chrome/36.0.1985.143 Safari/537.36\"')\n",
      "(285, datetime.datetime(2018, 11, 29, 21, 24, 3, 796000), 55, 'free', None, None, 1008, 'Minneapolis-St. Paul-Bloomington, MN-WI', '\"Mozilla/5.0 (Macintosh; Intel Mac OS X 10_9_4) AppleWebKit/537.78.2 (KHTML, like Gecko) Version/7.0.6 Safari/537.78.2\"')\n",
      "(286, datetime.datetime(2018, 11, 29, 21, 24, 35, 796000), 49, 'paid', None, None, 1041, 'San Francisco-Oakland-Hayward, CA', 'Mozilla/5.0 (Windows NT 5.1; rv:31.0) Gecko/20100101 Firefox/31.0')\n",
      "(287, datetime.datetime(2018, 11, 29, 21, 27, 0, 796000), 80, 'paid', None, None, 1065, 'Portland-South Portland, ME', '\"Mozilla/5.0 (Macintosh; Intel Mac OS X 10_9_4) AppleWebKit/537.36 (KHTML, like Gecko) Chrome/36.0.1985.143 Safari/537.36\"')\n",
      "(288, datetime.datetime(2018, 11, 29, 21, 27, 48, 796000), 49, 'paid', None, None, 1041, 'San Francisco-Oakland-Hayward, CA', 'Mozilla/5.0 (Windows NT 5.1; rv:31.0) Gecko/20100101 Firefox/31.0')\n",
      "(289, datetime.datetime(2018, 11, 29, 21, 27, 50, 796000), 12, 'free', None, None, 967, 'New York-Newark-Jersey City, NY-NJ-PA', 'Mozilla/5.0 (Windows NT 6.1; rv:31.0) Gecko/20100101 Firefox/31.0')\n",
      "(290, datetime.datetime(2018, 11, 29, 21, 30, 47, 796000), 80, 'paid', None, None, 1065, 'Portland-South Portland, ME', '\"Mozilla/5.0 (Macintosh; Intel Mac OS X 10_9_4) AppleWebKit/537.36 (KHTML, like Gecko) Chrome/36.0.1985.143 Safari/537.36\"')\n",
      "(291, datetime.datetime(2018, 11, 29, 21, 31, 34, 796000), 49, 'paid', None, None, 1041, 'San Francisco-Oakland-Hayward, CA', 'Mozilla/5.0 (Windows NT 5.1; rv:31.0) Gecko/20100101 Firefox/31.0')\n",
      "(292, datetime.datetime(2018, 11, 29, 21, 34, 25, 796000), 80, 'paid', None, None, 1065, 'Portland-South Portland, ME', '\"Mozilla/5.0 (Macintosh; Intel Mac OS X 10_9_4) AppleWebKit/537.36 (KHTML, like Gecko) Chrome/36.0.1985.143 Safari/537.36\"')\n",
      "(293, datetime.datetime(2018, 11, 29, 21, 34, 28, 796000), 9, 'free', None, None, 1010, 'Eureka-Arcata-Fortuna, CA', 'Mozilla/5.0 (Windows NT 6.1; WOW64; Trident/7.0; rv:11.0) like Gecko')\n",
      "(294, datetime.datetime(2018, 11, 29, 21, 38, 8, 796000), 80, 'paid', None, None, 1065, 'Portland-South Portland, ME', '\"Mozilla/5.0 (Macintosh; Intel Mac OS X 10_9_4) AppleWebKit/537.36 (KHTML, like Gecko) Chrome/36.0.1985.143 Safari/537.36\"')\n",
      "(295, datetime.datetime(2018, 11, 29, 21, 42, 10, 796000), 80, 'paid', None, None, 1065, 'Portland-South Portland, ME', '\"Mozilla/5.0 (Macintosh; Intel Mac OS X 10_9_4) AppleWebKit/537.36 (KHTML, like Gecko) Chrome/36.0.1985.143 Safari/537.36\"')\n",
      "(296, datetime.datetime(2018, 11, 29, 21, 46, 49, 796000), 80, 'paid', None, None, 1065, 'Portland-South Portland, ME', '\"Mozilla/5.0 (Macintosh; Intel Mac OS X 10_9_4) AppleWebKit/537.36 (KHTML, like Gecko) Chrome/36.0.1985.143 Safari/537.36\"')\n",
      "(297, datetime.datetime(2018, 11, 29, 21, 52, 57, 796000), 80, 'paid', None, None, 1065, 'Portland-South Portland, ME', '\"Mozilla/5.0 (Macintosh; Intel Mac OS X 10_9_4) AppleWebKit/537.36 (KHTML, like Gecko) Chrome/36.0.1985.143 Safari/537.36\"')\n",
      "(298, datetime.datetime(2018, 11, 29, 21, 57, 16, 796000), 80, 'paid', None, None, 1065, 'Portland-South Portland, ME', '\"Mozilla/5.0 (Macintosh; Intel Mac OS X 10_9_4) AppleWebKit/537.36 (KHTML, like Gecko) Chrome/36.0.1985.143 Safari/537.36\"')\n",
      "(299, datetime.datetime(2018, 11, 29, 22, 0, 31, 796000), 80, 'paid', None, None, 1065, 'Portland-South Portland, ME', '\"Mozilla/5.0 (Macintosh; Intel Mac OS X 10_9_4) AppleWebKit/537.36 (KHTML, like Gecko) Chrome/36.0.1985.143 Safari/537.36\"')\n",
      "(300, datetime.datetime(2018, 11, 29, 22, 6, 36, 796000), 80, 'paid', None, None, 1065, 'Portland-South Portland, ME', '\"Mozilla/5.0 (Macintosh; Intel Mac OS X 10_9_4) AppleWebKit/537.36 (KHTML, like Gecko) Chrome/36.0.1985.143 Safari/537.36\"')\n",
      "(301, datetime.datetime(2018, 11, 29, 22, 9, 57, 796000), 80, 'paid', None, None, 1065, 'Portland-South Portland, ME', '\"Mozilla/5.0 (Macintosh; Intel Mac OS X 10_9_4) AppleWebKit/537.36 (KHTML, like Gecko) Chrome/36.0.1985.143 Safari/537.36\"')\n",
      "(302, datetime.datetime(2018, 11, 29, 22, 10, 17, 796000), 22, 'free', None, None, 21, 'Philadelphia-Camden-Wilmington, PA-NJ-DE-MD', '\"Mozilla/5.0 (Windows NT 6.1; WOW64) AppleWebKit/537.36 (KHTML, like Gecko) Chrome/36.0.1985.143 Safari/537.36\"')\n",
      "(303, datetime.datetime(2018, 11, 29, 22, 13, 15, 796000), 80, 'paid', None, None, 1065, 'Portland-South Portland, ME', '\"Mozilla/5.0 (Macintosh; Intel Mac OS X 10_9_4) AppleWebKit/537.36 (KHTML, like Gecko) Chrome/36.0.1985.143 Safari/537.36\"')\n",
      "(304, datetime.datetime(2018, 11, 29, 22, 13, 38, 796000), 22, 'free', None, None, 21, 'Philadelphia-Camden-Wilmington, PA-NJ-DE-MD', '\"Mozilla/5.0 (Windows NT 6.1; WOW64) AppleWebKit/537.36 (KHTML, like Gecko) Chrome/36.0.1985.143 Safari/537.36\"')\n",
      "(305, datetime.datetime(2018, 11, 29, 22, 17, 38, 796000), 80, 'paid', None, None, 1065, 'Portland-South Portland, ME', '\"Mozilla/5.0 (Macintosh; Intel Mac OS X 10_9_4) AppleWebKit/537.36 (KHTML, like Gecko) Chrome/36.0.1985.143 Safari/537.36\"')\n",
      "(306, datetime.datetime(2018, 11, 29, 22, 21, 31, 796000), 80, 'paid', None, None, 1065, 'Portland-South Portland, ME', '\"Mozilla/5.0 (Macintosh; Intel Mac OS X 10_9_4) AppleWebKit/537.36 (KHTML, like Gecko) Chrome/36.0.1985.143 Safari/537.36\"')\n",
      "(307, datetime.datetime(2018, 11, 29, 22, 27, 31, 796000), 80, 'paid', None, None, 1065, 'Portland-South Portland, ME', '\"Mozilla/5.0 (Macintosh; Intel Mac OS X 10_9_4) AppleWebKit/537.36 (KHTML, like Gecko) Chrome/36.0.1985.143 Safari/537.36\"')\n",
      "(308, datetime.datetime(2018, 11, 29, 22, 32, 49, 796000), 80, 'paid', None, None, 1065, 'Portland-South Portland, ME', '\"Mozilla/5.0 (Macintosh; Intel Mac OS X 10_9_4) AppleWebKit/537.36 (KHTML, like Gecko) Chrome/36.0.1985.143 Safari/537.36\"')\n",
      "(309, datetime.datetime(2018, 11, 29, 22, 35, 44, 796000), 80, 'paid', None, None, 1065, 'Portland-South Portland, ME', '\"Mozilla/5.0 (Macintosh; Intel Mac OS X 10_9_4) AppleWebKit/537.36 (KHTML, like Gecko) Chrome/36.0.1985.143 Safari/537.36\"')\n",
      "(310, datetime.datetime(2018, 11, 29, 22, 39, 38, 796000), 80, 'paid', None, None, 1065, 'Portland-South Portland, ME', '\"Mozilla/5.0 (Macintosh; Intel Mac OS X 10_9_4) AppleWebKit/537.36 (KHTML, like Gecko) Chrome/36.0.1985.143 Safari/537.36\"')\n",
      "(311, datetime.datetime(2018, 11, 29, 22, 42, 52, 796000), 80, 'paid', None, None, 1065, 'Portland-South Portland, ME', '\"Mozilla/5.0 (Macintosh; Intel Mac OS X 10_9_4) AppleWebKit/537.36 (KHTML, like Gecko) Chrome/36.0.1985.143 Safari/537.36\"')\n",
      "(312, datetime.datetime(2018, 11, 29, 22, 46, 23, 796000), 80, 'paid', None, None, 1065, 'Portland-South Portland, ME', '\"Mozilla/5.0 (Macintosh; Intel Mac OS X 10_9_4) AppleWebKit/537.36 (KHTML, like Gecko) Chrome/36.0.1985.143 Safari/537.36\"')\n",
      "(313, datetime.datetime(2018, 11, 29, 22, 50, 27, 796000), 80, 'paid', None, None, 1065, 'Portland-South Portland, ME', '\"Mozilla/5.0 (Macintosh; Intel Mac OS X 10_9_4) AppleWebKit/537.36 (KHTML, like Gecko) Chrome/36.0.1985.143 Safari/537.36\"')\n",
      "(314, datetime.datetime(2018, 11, 29, 22, 51, 18, 796000), 74, 'free', None, None, 1007, 'Youngstown-Warren-Boardman, OH-PA', '\"Mozilla/5.0 (Windows NT 6.1; WOW64) AppleWebKit/537.36 (KHTML, like Gecko) Chrome/36.0.1985.143 Safari/537.36\"')\n",
      "(315, datetime.datetime(2018, 11, 29, 22, 53, 32, 796000), 80, 'paid', None, None, 1065, 'Portland-South Portland, ME', '\"Mozilla/5.0 (Macintosh; Intel Mac OS X 10_9_4) AppleWebKit/537.36 (KHTML, like Gecko) Chrome/36.0.1985.143 Safari/537.36\"')\n",
      "(316, datetime.datetime(2018, 11, 29, 22, 57, 22, 796000), 80, 'paid', None, None, 1065, 'Portland-South Portland, ME', '\"Mozilla/5.0 (Macintosh; Intel Mac OS X 10_9_4) AppleWebKit/537.36 (KHTML, like Gecko) Chrome/36.0.1985.143 Safari/537.36\"')\n",
      "(317, datetime.datetime(2018, 11, 29, 23, 2, 5, 796000), 80, 'paid', None, None, 1065, 'Portland-South Portland, ME', '\"Mozilla/5.0 (Macintosh; Intel Mac OS X 10_9_4) AppleWebKit/537.36 (KHTML, like Gecko) Chrome/36.0.1985.143 Safari/537.36\"')\n",
      "(318, datetime.datetime(2018, 11, 29, 23, 5, 13, 796000), 80, 'paid', None, None, 1065, 'Portland-South Portland, ME', '\"Mozilla/5.0 (Macintosh; Intel Mac OS X 10_9_4) AppleWebKit/537.36 (KHTML, like Gecko) Chrome/36.0.1985.143 Safari/537.36\"')\n",
      "(319, datetime.datetime(2018, 11, 29, 23, 18, 35, 796000), 89, 'free', None, None, 1029, 'Cedar Rapids, IA', '\"Mozilla/5.0 (Macintosh; Intel Mac OS X 10_8_5) AppleWebKit/537.36 (KHTML, like Gecko) Chrome/36.0.1985.125 Safari/537.36\"')\n"
     ]
    }
   ],
   "source": [
    "# Check if all rows inserted in the relevant table as expected\n",
    "cur.execute(\"select * from songplays;\")\n",
    "row = cur.fetchone()\n",
    "while row:\n",
    "    print(row)\n",
    "    row = cur.fetchone()"
   ]
  },
  {
   "cell_type": "markdown",
   "metadata": {
    "editable": true
   },
   "source": [
    "# Close Connection to Sparkify Database"
   ]
  },
  {
   "cell_type": "code",
   "execution_count": 31,
   "metadata": {
    "editable": true
   },
   "outputs": [],
   "source": [
    "conn.close()"
   ]
  },
  {
   "cell_type": "markdown",
   "metadata": {
    "editable": true
   },
   "source": [
    "# Implement `etl.py`\n",
    "Use what you've completed in this notebook to implement `etl.py`."
   ]
  },
  {
   "cell_type": "code",
   "execution_count": null,
   "metadata": {
    "editable": true
   },
   "outputs": [],
   "source": []
  }
 ],
 "metadata": {
  "kernelspec": {
   "display_name": "Python 3",
   "language": "python",
   "name": "python3"
  },
  "language_info": {
   "codemirror_mode": {
    "name": "ipython",
    "version": 3
   },
   "file_extension": ".py",
   "mimetype": "text/x-python",
   "name": "python",
   "nbconvert_exporter": "python",
   "pygments_lexer": "ipython3",
   "version": "3.6.3"
  }
 },
 "nbformat": 4,
 "nbformat_minor": 4
}
